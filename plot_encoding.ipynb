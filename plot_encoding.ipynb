{
 "cells": [
  {
   "cell_type": "code",
   "execution_count": 1,
   "id": "50cd2d78-ba29-448a-bc57-e68dbb514145",
   "metadata": {},
   "outputs": [],
   "source": [
    "import seaborn as sns\n",
    "import matplotlib.pyplot as plt\n",
    "import numpy as np\n",
    "import pandas as pd\n",
    "import tools\n",
    "import glob"
   ]
  },
  {
   "cell_type": "code",
   "execution_count": 2,
   "id": "5b451e63-e997-4fab-8f69-2d08e2ebf1af",
   "metadata": {},
   "outputs": [],
   "source": [
    "top_dir = '/Users/emcmaho7/Dropbox/projects/SI_fmri/fmri'\n",
    "data_dir = f'{top_dir}/input_data'\n",
    "out_dir = f'{top_dir}/output_data'\n",
    "figure_dir = f'{top_dir}/figures'"
   ]
  },
  {
   "cell_type": "markdown",
   "id": "b7d71d51-d06e-4efd-8836-2762f313eb7e",
   "metadata": {
    "jp-MarkdownHeadingCollapsed": true,
    "tags": []
   },
   "source": [
    "#### Plotting"
   ]
  },
  {
   "cell_type": "code",
   "execution_count": 3,
   "id": "80766a31-9414-4448-9474-b87a62287a45",
   "metadata": {},
   "outputs": [],
   "source": [
    "def plot_ROI_results(df, outname, variable):\n",
    "    features = df.Features.unique()\n",
    "    n_features = len(features)\n",
    "    roi = df.ROIs.unique()[0]\n",
    "\n",
    "    #Set up figures\n",
    "    sns.set(style='whitegrid', context='talk', rc={'figure.figsize':(6,5)})\n",
    "    fig, ax = plt.subplots()\n",
    "\n",
    "    colors = ['#48D4E1', '#8C55FD', '#FADC00']\n",
    "    cmap = sns.color_palette(colors, as_cmap=True)\n",
    "    g = sns.barplot(x='Features', y=variable,\n",
    "                    data=df, ax=ax,\n",
    "                    hue='Feature category',\n",
    "                    palette=cmap,\n",
    "                    dodge=False, ci=None)\n",
    "\n",
    "    #Plot noise ceiling\n",
    "    x = np.linspace(0, n_features, num=3)\n",
    "    y1 = np.ones_like(x)*noise_ceiling.loc[noise_ceiling.ROIs == roi, variable].tolist()[0]\n",
    "    ax.plot(x, y1, color='gray', alpha=0.5, linewidth=3)\n",
    "    \n",
    "    for ifeature, feature in enumerate(df.Features.unique()):\n",
    "        x = ifeature\n",
    "        sig = df.loc[df.Features == feature, 'group sig'].reset_index(drop=True)[0]\n",
    "        p = df.loc[df.Features == feature, 'group_pcorrected'].reset_index(drop=True)[0]\n",
    "        if sig:\n",
    "            if p > 0.01:\n",
    "                text = '*'\n",
    "            elif p < 0.01 and p > 0.001:\n",
    "                text = '**'\n",
    "            elif p < 0.001:\n",
    "                text = '***'\n",
    "            ax.annotate(text, (x, 0.5), fontsize=20,\n",
    "                        weight='bold', ha='center', color='gray')\n",
    "            \n",
    "        y1 = df[(df.Features == feature)].mean()['low sem']\n",
    "        y2 = df[(df.Features == feature)].mean()['high sem']\n",
    "        plt.plot([x, x], [y1, y2], 'black', linewidth=2)\n",
    "\n",
    "    # #Aesthetics\n",
    "    ax.set_xticklabels(ax.get_xticklabels(), rotation=90, ha='center')\n",
    "    ax.set_xlabel('')\n",
    "    ax.set_ylabel('Prediction accuracy ($\\it{r}$)')\n",
    "#     ax.tick_params(axis='y', labelsize=12)\n",
    "    ax.set_ylim([-0.38, 0.58])\n",
    "    sns.despine(left=True)\n",
    "    handles, labels = ax.get_legend_handles_labels()\n",
    "    plt.legend([],[], frameon=False)\n",
    "    plt.tight_layout()\n",
    "    if outname is not None:\n",
    "        plt.savefig(outname)\n",
    "        plt.close()\n",
    "    else:\n",
    "        plt.title(roi)"
   ]
  },
  {
   "cell_type": "markdown",
   "id": "ca75d07e-33f9-4d06-8d4d-11ad09ea94da",
   "metadata": {},
   "source": [
    "#### testing"
   ]
  },
  {
   "cell_type": "code",
   "execution_count": 19,
   "id": "9751c01b-540e-4227-923f-69951764238d",
   "metadata": {},
   "outputs": [],
   "source": [
    "# # Get the prediction accuracy per feature\n",
    "# rs = np.zeros((n_features, tot_voxels))\n",
    "# for ifeature in range(n_features):\n",
    "#     rs[ifeature, y_inds] = tools.corr2d(y_true.T, y_pred[ifeature, ...].T)\n",
    "# #     return rs"
   ]
  },
  {
   "cell_type": "code",
   "execution_count": 20,
   "id": "997a823e-3364-47ed-8b32-9e8bb39ca115",
   "metadata": {},
   "outputs": [],
   "source": [
    "# rois = ['EVC', 'MT', 'EBA', 'PPA', 'TOS', 'RSC', 'LOC',  'FFA', 'OFA', '-STS', 'biomotion', 'SIpSTS', 'TPJ', 'DMPFC']\n",
    "# roi_names = ['EVC', 'MT', 'EBA', 'PPA', 'OPA', 'RSC', 'LOC',  'FFA', 'OFA', 'faceSTS', 'biomotion', 'SIpSTS', 'TPJ', 'DMPFC']"
   ]
  },
  {
   "cell_type": "code",
   "execution_count": 21,
   "id": "7eca4b88-baf9-4c0d-876d-5c8e388336c6",
   "metadata": {},
   "outputs": [],
   "source": [
    "# # Get the feature names for the annotated model\n",
    "# feature_categories = ['visual', 'visual', 'visual', 'visual', 'visual',\n",
    "#              'social detection', 'social detection', \n",
    "#              'social evaluation', 'social evaluation', 'social evaluation', 'social evaluation', 'social evaluation']\n",
    "# features = pd.read_csv(f'{data_dir}/annotations/annotations.csv').columns.to_list()\n",
    "# features.remove('video_name')"
   ]
  },
  {
   "cell_type": "code",
   "execution_count": 22,
   "id": "82b4292d-489d-4cd3-93e9-3e51b0f07429",
   "metadata": {},
   "outputs": [],
   "source": [
    "# df = pd.DataFrame()\n",
    "# for sid_ in range(1):\n",
    "#     sid = str(sid_+1).zfill(2)\n",
    "#     pred = np.load(f'{out_dir}/voxelwise_encoding/sub-{sid}_predict.npy')\n",
    "#     for roi, name in zip(rois, roi_names):\n",
    "#         mask = glob.glob(f'{data_dir}/ROI_masks/sub-{sid}/*{roi}*nooverlap.nii.gz')\n",
    "#         masked, _ = tools.mask(pred.T, mask[0])\n",
    "\n",
    "#         for ifeature, (category, feature) in enumerate(zip(feature_categories, features)):\n",
    "#             r = masked[:,ifeature].mean()\n",
    "#             df = df.append({'Subjects': f'sub-{sid}',\n",
    "#                             'Features': feature,\n",
    "#                             'Feature category': category,\n",
    "#                             'ROIs': name, \n",
    "#                             'Pearson r': r,\n",
    "# #                             'p value': p, \n",
    "# #                             'low sem': r-r_var.std(), \n",
    "# #                             'high sem': r+r_var.std(), \n",
    "#                             'Explained variance': r ** 2},\n",
    "#                             ignore_index=True)"
   ]
  },
  {
   "cell_type": "code",
   "execution_count": 23,
   "id": "62bcf587-4ffa-44c4-a90a-cba2a7de002f",
   "metadata": {},
   "outputs": [],
   "source": [
    "# cur = df.loc[df.ROIs == 'MT']\n",
    "# colors = ['#48D4E1', '#8C55FD', '#FADC00']\n",
    "# cmap = sns.color_palette(colors, as_cmap=True)\n",
    "# sns.set(style='whitegrid', context='talk', rc={'figure.figsize':(6,5)})\n",
    "# fig, ax = plt.subplots()\n",
    "# g = sns.barplot(x='Features', y='Pearson r',\n",
    "#                 data=cur, ax=ax,\n",
    "#                 hue='Feature category',\n",
    "#                 palette=cmap,\n",
    "#                 dodge=False, ci=None)"
   ]
  },
  {
   "cell_type": "code",
   "execution_count": null,
   "id": "cdc2b5d9-78a9-4dc7-a3cd-f467b24af33c",
   "metadata": {},
   "outputs": [],
   "source": []
  }
 ],
 "metadata": {
  "kernelspec": {
   "display_name": "Python 3",
   "language": "python",
   "name": "python3"
  },
  "language_info": {
   "codemirror_mode": {
    "name": "ipython",
    "version": 3
   },
   "file_extension": ".py",
   "mimetype": "text/x-python",
   "name": "python",
   "nbconvert_exporter": "python",
   "pygments_lexer": "ipython3",
   "version": "3.6.13"
  }
 },
 "nbformat": 4,
 "nbformat_minor": 5
}
