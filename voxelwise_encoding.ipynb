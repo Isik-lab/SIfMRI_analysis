{
 "cells": [
  {
   "cell_type": "code",
   "execution_count": 1,
   "id": "ffcddac6-00e3-4291-92b1-53fa4f6149a1",
   "metadata": {},
   "outputs": [],
   "source": [
    "import pandas as pd\n",
    "import numpy as np\n",
    "import regress\n",
    "from sklearn.model_selection import KFold"
   ]
  },
  {
   "cell_type": "code",
   "execution_count": 2,
   "id": "3f70f527-c50a-4b24-b0bf-679a7bcde8a4",
   "metadata": {},
   "outputs": [],
   "source": [
    "top_dir = '/Users/emcmaho7/Dropbox/projects/SI_fmri/fmri'\n",
    "data_dir = f'{top_dir}/input_data'\n",
    "out_dir = f'{top_dir}/output_data'\n",
    "figure_dir = f'{top_dir}/figures'"
   ]
  },
  {
   "cell_type": "code",
   "execution_count": 3,
   "id": "57bd9916-7c1b-4772-9af5-e94191ab9ddc",
   "metadata": {},
   "outputs": [],
   "source": [
    "control_model = np.load(f'{out_dir}/generate_models/control_model.npy')\n",
    "X = np.load(f'{out_dir}/generate_models/annotated_model.npy')\n",
    "\n",
    "# Get the feature names for the annotated model\n",
    "feature_categories = ['visual', 'visual', 'visual', 'visual', 'visual',\n",
    "             'social detection', 'social detection', \n",
    "             'social evaluation', 'social evaluation', 'social evaluation', 'social evaluation', 'social evaluation']\n",
    "features = pd.read_csv(f'{data_dir}/annotations/annotations.csv').columns.to_list()\n",
    "features.remove('video_name')\n",
    "\n",
    "noise_ceiling = pd.read_csv(f'{out_dir}/reliability/noise_ceiling.csv')\n",
    "noise_ceiling = noise_ceiling.groupby('ROIs').mean().reset_index()"
   ]
  },
  {
   "cell_type": "code",
   "execution_count": null,
   "id": "e61f1f2f-28aa-499d-bb5f-33ba2a25970f",
   "metadata": {},
   "outputs": [],
   "source": [
    "#Save the rs and null distributions\n",
    "kf = KFold(n_splits=2, shuffle=True, random_state=1)\n",
    "sid_ = 0 \n",
    "sid = str(sid_+1).zfill(2)\n",
    "beta_map = np.load(f'{out_dir}/grouped_runs/sub-{sid}/sub-{sid}_train-data.npy')\n",
    "rs = regress.outer_ridge_2d(X, control_model, beta_map.T, len(features), kf)"
   ]
  },
  {
   "cell_type": "code",
   "execution_count": null,
   "id": "5b2626fa-f3eb-408e-809d-a4cd74920fad",
   "metadata": {},
   "outputs": [],
   "source": []
  }
 ],
 "metadata": {
  "kernelspec": {
   "display_name": "Python 3",
   "language": "python",
   "name": "python3"
  },
  "language_info": {
   "codemirror_mode": {
    "name": "ipython",
    "version": 3
   },
   "file_extension": ".py",
   "mimetype": "text/x-python",
   "name": "python",
   "nbconvert_exporter": "python",
   "pygments_lexer": "ipython3",
   "version": "3.6.13"
  }
 },
 "nbformat": 4,
 "nbformat_minor": 5
}
