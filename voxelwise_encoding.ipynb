{
 "cells": [
  {
   "cell_type": "code",
   "execution_count": 1,
   "id": "a3581db6-b5a4-4489-96be-37f79252b4e7",
   "metadata": {},
   "outputs": [],
   "source": [
    "# %matplotlib widget"
   ]
  },
  {
   "cell_type": "code",
   "execution_count": 2,
   "id": "ffcddac6-00e3-4291-92b1-53fa4f6149a1",
   "metadata": {},
   "outputs": [],
   "source": [
    "import os\n",
    "import glob\n",
    "from natsort import natsorted\n",
    "from tqdm import tqdm\n",
    "import itertools\n",
    "\n",
    "import pandas as pd\n",
    "import numpy as np\n",
    "\n",
    "from nilearn import image\n",
    "import nibabel as nib\n",
    "\n",
    "from sklearn.preprocessing import StandardScaler\n",
    "from sklearn.linear_model import Ridge, RidgeCV\n",
    "from sklearn.decomposition import PCA\n",
    "from sklearn.model_selection import cross_val_score, KFold\n",
    "from sklearn.pipeline import Pipeline\n",
    "from sklearn.metrics import make_scorer\n",
    "\n",
    "from scipy.stats import pearsonr, zscore, ttest_1samp\n",
    "from statsmodels.stats.multitest import fdrcorrection\n",
    "\n",
    "import matplotlib.pyplot as plt\n",
    "import seaborn as sns"
   ]
  },
  {
   "cell_type": "code",
   "execution_count": 3,
   "id": "3f70f527-c50a-4b24-b0bf-679a7bcde8a4",
   "metadata": {},
   "outputs": [],
   "source": [
    "bids_dir = '/Users/emcmaho7/Desktop/SI_fMRI'\n",
    "derivatives_dir = f'{bids_dir}/derivatives'\n",
    "fmriprep_dir = f'{derivatives_dir}/fmriprep'\n",
    "nilearn_dir = f'{derivatives_dir}/nilearn'\n",
    "reliability_dir = f'{derivatives_dir}/reliability'\n",
    "mask_dir = f'{derivatives_dir}/ROI_masks'\n",
    "em_dir = f'{derivatives_dir}/encoding_models'"
   ]
  },
  {
   "cell_type": "code",
   "execution_count": 4,
   "id": "a510e281-62cd-44c1-ba8c-bd60a6646fa3",
   "metadata": {},
   "outputs": [],
   "source": [
    "rois = ['EVC', 'MT', 'EBA', 'PPA', 'TOS', 'RSC', 'LOC',  'FFA', 'OFA', 'faceSTS', 'biomotion', 'SIpSTS', 'TPJ', 'DMPFC']\n",
    "roi_names = ['EVC', 'MT', 'EBA', 'PPA', 'OPA', 'RSC', 'LOC',  'FFA', 'OFA', 'faceSTS', 'biomotion', 'SIpSTS', 'TPJ', 'DMPFC']"
   ]
  },
  {
   "cell_type": "code",
   "execution_count": 41,
   "id": "e61f1f2f-28aa-499d-bb5f-33ba2a25970f",
   "metadata": {},
   "outputs": [],
   "source": [
    "variable='Pearson r'\n",
    "df = pd.DataFrame()\n",
    "\n",
    "n_splits = 2\n",
    "n_conditions = 200\n",
    "n_condpersplit = int(n_conditions/n_splits)\n",
    "n_features = len(features)\n",
    "kf = KFold(n_splits=n_splits, shuffle=True, random_state=1)\n",
    "\n",
    "#Save the rs and null distributions\n",
    "rs = np.zeros((n_subjs, len(features), tot_voxels))\n",
    "for sid_ in range(4): \n",
    "    sid = str(sid_+1).zfill(2)\n",
    "    y, y_inds = get_activation(z_maps[sid_, ...], None)\n",
    "    n_voxels = y.shape[-1]     \n",
    "\n",
    "    #Iterate through the different splits\n",
    "    y_pred = np.zeros((n_splits, n_features, n_condpersplit, n_voxels))\n",
    "    y_true = np.zeros((n_splits, n_condpersplit, n_voxels))\n",
    "    test_inds = np.zeros((n_splits, n_condpersplit), dtype='int')\n",
    "    for i, (train_index, test_index) in enumerate(kf.split(X)):\n",
    "        #Split the training and test data\n",
    "        X_train, X_test = X[train_index], X[test_index]\n",
    "        y_train, y_test = y[train_index], y[test_index]\n",
    "\n",
    "        #save the current indices\n",
    "        test_inds[i, ...] = test_index\n",
    "        y_true[i, ...] = y_test\n",
    "\n",
    "        #new X - combine the annotated features with the nuissance regressors\n",
    "        X_train = np.append(X_train, control_model[train_index], axis=1)\n",
    "\n",
    "        #Prediction\n",
    "        y_pred[i, ...] = regression(X_train, y_train, X_test, features)\n",
    "    y_pred = np.moveaxis(y_pred, 0, -3).reshape((n_features, n_conditions, -1))\n",
    "    y_true = y_true.reshape((n_conditions, n_voxels))\n",
    "    \n",
    "    for ifeature, cat in enumerate(features):\n",
    "        rs[sid_, ifeature, y_inds] = corr2d(y_true, y_pred[ifeature, ...])"
   ]
  }
 ],
 "metadata": {
  "kernelspec": {
   "display_name": "Python 3",
   "language": "python",
   "name": "python3"
  },
  "language_info": {
   "codemirror_mode": {
    "name": "ipython",
    "version": 3
   },
   "file_extension": ".py",
   "mimetype": "text/x-python",
   "name": "python",
   "nbconvert_exporter": "python",
   "pygments_lexer": "ipython3",
   "version": "3.6.13"
  }
 },
 "nbformat": 4,
 "nbformat_minor": 5
}
