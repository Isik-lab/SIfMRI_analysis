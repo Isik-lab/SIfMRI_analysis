{
 "cells": [
  {
   "cell_type": "code",
   "execution_count": 1,
   "id": "50cd2d78-ba29-448a-bc57-e68dbb514145",
   "metadata": {},
   "outputs": [
    {
     "ename": "ModuleNotFoundError",
     "evalue": "No module named 'src'",
     "output_type": "error",
     "traceback": [
      "\u001b[0;31m---------------------------------------------------------------------------\u001b[0m",
      "\u001b[0;31mModuleNotFoundError\u001b[0m                       Traceback (most recent call last)",
      "\u001b[0;32m<ipython-input-1-f7b1f166164c>\u001b[0m in \u001b[0;36m<module>\u001b[0;34m\u001b[0m\n\u001b[1;32m      3\u001b[0m \u001b[0;32mimport\u001b[0m \u001b[0mnumpy\u001b[0m \u001b[0;32mas\u001b[0m \u001b[0mnp\u001b[0m\u001b[0;34m\u001b[0m\u001b[0;34m\u001b[0m\u001b[0m\n\u001b[1;32m      4\u001b[0m \u001b[0;32mimport\u001b[0m \u001b[0mpandas\u001b[0m \u001b[0;32mas\u001b[0m \u001b[0mpd\u001b[0m\u001b[0;34m\u001b[0m\u001b[0;34m\u001b[0m\u001b[0m\n\u001b[0;32m----> 5\u001b[0;31m \u001b[0;32mimport\u001b[0m \u001b[0msrc\u001b[0m\u001b[0;34m\u001b[0m\u001b[0;34m\u001b[0m\u001b[0m\n\u001b[0m\u001b[1;32m      6\u001b[0m \u001b[0;32mimport\u001b[0m \u001b[0mglob\u001b[0m\u001b[0;34m\u001b[0m\u001b[0;34m\u001b[0m\u001b[0m\n",
      "\u001b[0;31mModuleNotFoundError\u001b[0m: No module named 'src'"
     ]
    }
   ],
   "source": [
    "import seaborn as sns\n",
    "import matplotlib.pyplot as plt\n",
    "import numpy as np\n",
    "import pandas as pd\n",
    "import src\n",
    "import glob"
   ]
  },
  {
   "cell_type": "code",
   "execution_count": null,
   "id": "5b451e63-e997-4fab-8f69-2d08e2ebf1af",
   "metadata": {},
   "outputs": [],
   "source": [
    "top_dir = '/Users/emcmaho7/Dropbox/projects/SI_fmri/SIfMRI_analysis'\n",
    "data_dir = f'{top_dir}/data'\n",
    "out_dir = f'{top_dir}/results'\n",
    "figure_dir = f'{top_dir}/figures'"
   ]
  },
  {
   "cell_type": "code",
   "execution_count": null,
   "id": "7eca4b88-baf9-4c0d-876d-5c8e388336c6",
   "metadata": {},
   "outputs": [],
   "source": [
    "# Get the feature names for the annotated model\n",
    "feature_categories = ['visual', 'visual', 'visual', 'visual', 'visual',\n",
    "             'social detection', 'social detection', \n",
    "             'social evaluation', 'social evaluation', 'social evaluation', 'social evaluation', 'social evaluation']\n",
    "features = pd.read_csv(f'{data_dir}/annotations/annotations.csv').columns.to_list()\n",
    "features.remove('video_name')"
   ]
  },
  {
   "cell_type": "code",
   "execution_count": null,
   "id": "9382920e-678b-4ba3-94dd-a8f751608330",
   "metadata": {},
   "outputs": [],
   "source": [
    "n_subjs = 4\n",
    "n_features = len(features)"
   ]
  },
  {
   "cell_type": "code",
   "execution_count": null,
   "id": "82b4292d-489d-4cd3-93e9-3e51b0f07429",
   "metadata": {},
   "outputs": [],
   "source": [
    "for sid_ in range(1):\n",
    "    sid = str(sid_+1).zfill(2)\n",
    "    yhat = np.load(f'{out_dir}/voxelwise_encoding/sub-{sid}_yhat.npy')\n",
    "    y = np.load(f'{out_dir}/voxelwise_encoding/sub-{sid}_y.npy')"
   ]
  },
  {
   "cell_type": "code",
   "execution_count": null,
   "id": "62bcf587-4ffa-44c4-a90a-cba2a7de002f",
   "metadata": {},
   "outputs": [],
   "source": [
    "for roi in roi_names:\n",
    "    cur = df.loc[df.ROIs == roi]\n",
    "    colors = ['#48D4E1', '#8C55FD', '#FADC00']\n",
    "    cmap = sns.color_palette(colors, as_cmap=True)\n",
    "    sns.set(style='whitegrid', context='talk', rc={'figure.figsize':(6,5)})\n",
    "    fig, ax = plt.subplots()\n",
    "    sns.barplot(x='Features', y='Pearson r',\n",
    "                data=cur, ax=ax,\n",
    "                hue='Feature category',\n",
    "                palette=cmap,\n",
    "                dodge=False, ci=None)\n",
    "    g = sns.swarmplot(x='Features', y='Pearson r',\n",
    "                    data=cur, ax=ax,\n",
    "                    color='black')\n",
    "    ax.set_xticklabels(ax.get_xticklabels(), rotation=90, ha='center')\n",
    "    ax.get_legend().remove()\n",
    "    plt.title(roi)\n",
    "    sns.despine(left=True)\n",
    "    ax.set_xlabel('')\n",
    "    ax.set_ylabel('Prediction accuracy ($\\it{r}$)')\n",
    "    plt.tight_layout()\n",
    "    plt.savefig(f'{figure_dir}/plot_encoding/{roi}.pdf')"
   ]
  },
  {
   "cell_type": "code",
   "execution_count": null,
   "id": "cdc2b5d9-78a9-4dc7-a3cd-f467b24af33c",
   "metadata": {},
   "outputs": [],
   "source": []
  }
 ],
 "metadata": {
  "kernelspec": {
   "display_name": "Python 3",
   "language": "python",
   "name": "python3"
  },
  "language_info": {
   "codemirror_mode": {
    "name": "ipython",
    "version": 3
   },
   "file_extension": ".py",
   "mimetype": "text/x-python",
   "name": "python",
   "nbconvert_exporter": "python",
   "pygments_lexer": "ipython3",
   "version": "3.6.13"
  }
 },
 "nbformat": 4,
 "nbformat_minor": 5
}
