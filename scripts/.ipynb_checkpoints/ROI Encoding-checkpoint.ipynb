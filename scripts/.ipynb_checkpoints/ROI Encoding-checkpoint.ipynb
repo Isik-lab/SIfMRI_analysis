{
 "cells": [
  {
   "cell_type": "code",
   "execution_count": 1,
   "id": "ffcddac6-00e3-4291-92b1-53fa4f6149a1",
   "metadata": {},
   "outputs": [],
   "source": [
    "import os\n",
    "import glob\n",
    "from natsort import natsorted\n",
    "from tqdm import tqdm\n",
    "import itertools\n",
    "\n",
    "import pandas as pd\n",
    "import numpy as np\n",
    "\n",
    "from nilearn import image\n",
    "\n",
    "from sklearn.preprocessing import StandardScaler\n",
    "from sklearn.linear_model import Ridge, RidgeCV\n",
    "from sklearn.decomposition import PCA\n",
    "from sklearn.model_selection import cross_val_score, KFold\n",
    "from sklearn.pipeline import Pipeline\n",
    "from sklearn.metrics import make_scorer\n",
    "\n",
    "from scipy.stats import pearsonr, zscore, ttest_1samp\n",
    "from statsmodels.stats.multitest import fdrcorrection\n",
    "\n",
    "import matplotlib.pyplot as plt\n",
    "import seaborn as sns"
   ]
  },
  {
   "cell_type": "code",
   "execution_count": 2,
   "id": "7df8ce2c-df61-4a04-aa79-c8242c84f601",
   "metadata": {},
   "outputs": [],
   "source": [
    "def get_ROIactivation(path, beta_map):\n",
    "    #activity in ROI\n",
    "    mask = image.load_img(path)\n",
    "    mask = np.array(mask.dataobj, dtype='bool').flatten()\n",
    "    roi_activation = beta_map[mask, :]\n",
    "\n",
    "    #Remove nan values (these are voxels that do not vary across the different videos)\n",
    "    inds = ~np.any(np.isnan(roi_activation), axis=1)\n",
    "    roi_activation = roi_activation[inds, ...]\n",
    "    return roi_activation.mean(axis=0)"
   ]
  },
  {
   "cell_type": "code",
   "execution_count": 3,
   "id": "23ff25f7-f8ac-4869-b979-25c69733788d",
   "metadata": {},
   "outputs": [],
   "source": [
    "def regression(X_train_, y_train_, X_test_, features): \n",
    "    #Standardize X\n",
    "    scaler = StandardScaler()\n",
    "    X_train_ = scaler.fit_transform(X_train_)\n",
    "\n",
    "    #Ridge CV to get the alpha parameter\n",
    "    clf = RidgeCV(cv=4).fit(X_train_, y_train_)\n",
    "\n",
    "    #Fit the Ridge model with the found best alpha\n",
    "    lr = Ridge(fit_intercept=False, alpha=clf.alpha_).fit(X_train_, y_train_)\n",
    "\n",
    "    #Scale testing \n",
    "    mean = scaler.mean_[:X_test_.shape[1]]\n",
    "    var = scaler.var_[:X_test_.shape[1]]\n",
    "    X_test_ = (X_test_ - mean)/var\n",
    "    \n",
    "    y_pred = np.zeros((len(features), X_test.shape[0]))\n",
    "    for ifeature, feature in enumerate(features):\n",
    "        y_pred[ifeature, :] = X_test_[:, ifeature] * lr.coef_[ifeature]\n",
    "    return y_pred"
   ]
  },
  {
   "cell_type": "code",
   "execution_count": 4,
   "id": "569cac69-5c94-497a-86d9-d5fd3830e817",
   "metadata": {},
   "outputs": [],
   "source": [
    "def explained_variance_score(y_true, y_pred):\n",
    "    rho, _ = pearsonr(y_true, y_pred)\n",
    "    return rho"
   ]
  },
  {
   "cell_type": "code",
   "execution_count": 5,
   "id": "eae45421-ffa7-4781-9b10-22c7fc7a7c49",
   "metadata": {},
   "outputs": [],
   "source": [
    "def permutation_test(y_pred, y_true, test_inds, n_perm=int(5e3), H0='greater'): \n",
    "    r_true = explained_variance_score(y_pred, y_true)\n",
    "    r_null = np.zeros(n_perm)\n",
    "    for i in range(n_perm):\n",
    "        inds = np.random.default_rng(i).permutation(test_inds.shape[0])\n",
    "        inds = test_inds[inds, :].flatten()\n",
    "        y_true_shuffle = y_true[inds]\n",
    "        r_null[i] = explained_variance_score(y_true_shuffle, y_pred)\n",
    "    if H0 == 'two_tailed':\n",
    "        p = np.sum(np.abs(r_null) >= np.abs(r_true)) / n_perm\n",
    "    elif H0 == 'greater':\n",
    "        p = 1 - (np.sum(r_true >= r_null) / n_perm)\n",
    "    return r_true, p, r_null"
   ]
  },
  {
   "cell_type": "code",
   "execution_count": 6,
   "id": "b5ed4067-7ba7-4dfa-bd06-1e737dab8050",
   "metadata": {},
   "outputs": [],
   "source": [
    "def bootstrap(y_pred, y_true, test_inds, n_samples=int(5e3)):\n",
    "    r_var = np.zeros(n_samples)\n",
    "    for i in range(n_samples):\n",
    "        inds = np.random.default_rng(i).choice(np.arange(test_inds.shape[0]), size=test_inds.shape[0])\n",
    "        inds = test_inds[inds, :].flatten()\n",
    "        r_var[i] = explained_variance_score(y_true[inds], y_pred[inds])\n",
    "    return r_var"
   ]
  },
  {
   "cell_type": "code",
   "execution_count": 7,
   "id": "4666f2c0-8cbb-4fd3-ab87-ce93c848eea7",
   "metadata": {},
   "outputs": [],
   "source": [
    "def plot_ROI_results(df, outname, variable):\n",
    "    features = df.Features.unique()\n",
    "    n_features = len(features)\n",
    "    roi = df.ROIs.unique()[0]\n",
    "\n",
    "    #Set up figures\n",
    "    sns.set(style='whitegrid', context='talk', rc={'figure.figsize':(6,5)})\n",
    "    fig, ax = plt.subplots()\n",
    "\n",
    "    colors = ['#48D4E1', '#8C55FD', '#FADC00']\n",
    "    cmap = sns.color_palette(colors, as_cmap=True)\n",
    "    g = sns.barplot(x='Features', y=variable,\n",
    "                    data=df, ax=ax,\n",
    "                    hue='Feature category',\n",
    "                    palette=cmap,\n",
    "                    dodge=False, ci=None)\n",
    "\n",
    "    #Plot noise ceiling\n",
    "    x = np.linspace(0, n_features, num=3)\n",
    "    y1 = np.ones_like(x)*noise_ceiling.loc[noise_ceiling.ROIs == roi, variable].tolist()[0]\n",
    "    ax.plot(x, y1, color='gray', alpha=0.5, linewidth=3)\n",
    "    \n",
    "    for ifeature, feature in enumerate(df.Features.unique()):\n",
    "        x = ifeature\n",
    "        sig = df.loc[df.Features == feature, 'group sig'].reset_index(drop=True)[0]\n",
    "        p = df.loc[df.Features == feature, 'group_pcorrected'].reset_index(drop=True)[0]\n",
    "        if sig:\n",
    "            if p > 0.01:\n",
    "                text = '*'\n",
    "            elif p < 0.01 and p > 0.001:\n",
    "                text = '**'\n",
    "            elif p < 0.001:\n",
    "                text = '***'\n",
    "            ax.annotate(text, (x, 0.5), fontsize=20,\n",
    "                        weight='bold', ha='center', color='gray')\n",
    "            \n",
    "        y1 = df[(df.Features == feature)].mean()['low sem']\n",
    "        y2 = df[(df.Features == feature)].mean()['high sem']\n",
    "        plt.plot([x, x], [y1, y2], 'black', linewidth=2)\n",
    "\n",
    "    # #Aesthetics\n",
    "    ax.set_xticklabels(ax.get_xticklabels(), rotation=90, ha='center')\n",
    "    ax.set_xlabel('')\n",
    "    ax.set_ylabel('Prediction accuracy ($\\it{r}$)')\n",
    "#     ax.tick_params(axis='y', labelsize=12)\n",
    "    ax.set_ylim([-0.38, 0.58])\n",
    "    sns.despine(left=True)\n",
    "    handles, labels = ax.get_legend_handles_labels()\n",
    "    plt.legend([],[], frameon=False)\n",
    "    plt.tight_layout()\n",
    "    if outname is not None:\n",
    "        plt.savefig(outname)\n",
    "        plt.close()\n",
    "    else:\n",
    "        plt.title(roi)"
   ]
  },
  {
   "cell_type": "code",
   "execution_count": 8,
   "id": "56ea75d9-24f0-4f3a-9b01-ea690a997f6c",
   "metadata": {},
   "outputs": [],
   "source": [
    "top_dir = '/Users/emcmaho7/Dropbox/projects/SI_fmri/fmri'\n",
    "data_dir = f'{top_dir}/input_data'\n",
    "out_dir = f'{top_dir}/output_data'\n",
    "figure_dir = f'{top_dir}/figures'"
   ]
  },
  {
   "cell_type": "code",
   "execution_count": 9,
   "id": "21eb7d38-9832-4c49-84b6-d76e33f6249f",
   "metadata": {},
   "outputs": [],
   "source": [
    "rois = ['EVC', 'MT', 'EBA', 'PPA', 'TOS', 'RSC', 'LOC',  'FFA', 'OFA', '-STS', 'biomotion', 'SIpSTS', 'TPJ', 'DMPFC']\n",
    "roi_names = ['EVC', 'MT', 'EBA', 'PPA', 'OPA', 'RSC', 'LOC',  'FFA', 'OFA', 'faceSTS', 'biomotion', 'SIpSTS', 'TPJ', 'DMPFC']"
   ]
  },
  {
   "cell_type": "markdown",
   "id": "34ad5f85-6e36-4a22-a722-e2c263416bfb",
   "metadata": {},
   "source": [
    "## Loading"
   ]
  },
  {
   "cell_type": "code",
   "execution_count": 10,
   "id": "425a29a9-b83e-4db6-991e-a65eae5bccb8",
   "metadata": {},
   "outputs": [],
   "source": [
    "control_model = np.load(f'{out_dir}/generate_models/control_model.npy')\n",
    "X = np.load(f'{out_dir}/generate_models/annotated_model.npy')\n",
    "\n",
    "# Get the feature names for the annotated model\n",
    "feature_categories = ['visual', 'visual', 'visual', 'visual', 'visual',\n",
    "             'social detection', 'social detection', \n",
    "             'social evaluation', 'social evaluation', 'social evaluation', 'social evaluation', 'social evaluation']\n",
    "features = pd.read_csv(f'{data_dir}/annotations/annotations.csv').columns.to_list()\n",
    "features.remove('video_name')"
   ]
  },
  {
   "cell_type": "code",
   "execution_count": 11,
   "id": "3de1e7cb-48c7-4cac-889e-0165a63274d4",
   "metadata": {},
   "outputs": [],
   "source": [
    "n_subjs = 4\n",
    "beta_maps = []\n",
    "for sid_ in range(n_subjs):\n",
    "    sid = str(sid_+1).zfill(2)\n",
    "    beta_maps.append(np.load(f'{out_dir}/grouped_runs/sub-{sid}/sub-{sid}_train-data.npy'))\n",
    "beta_maps = np.array(beta_maps)"
   ]
  },
  {
   "cell_type": "code",
   "execution_count": 12,
   "id": "6aaaec39-c751-4463-a15c-96de9662b2be",
   "metadata": {},
   "outputs": [],
   "source": [
    "noise_ceiling = pd.read_csv(f'{out_dir}/reliability/noise_ceiling.csv')\n",
    "noise_ceiling = noise_ceiling.groupby('ROIs').mean().reset_index()"
   ]
  },
  {
   "cell_type": "code",
   "execution_count": 13,
   "id": "e61f1f2f-28aa-499d-bb5f-33ba2a25970f",
   "metadata": {},
   "outputs": [],
   "source": [
    "variable='Pearson r'\n",
    "df = pd.DataFrame()\n",
    "\n",
    "n_splits = 10\n",
    "n_conditions = 200\n",
    "n_condpersplit = int(n_conditions/n_splits)\n",
    "n_features = len(features)\n",
    "kf = KFold(n_splits=n_splits, shuffle=True, random_state=1)\n",
    "\n",
    "#Save the rs and null distributions\n",
    "null_samples = int(5e3)\n",
    "rs = np.zeros((n_subjs, len(rois), len(features)))\n",
    "rs_null = np.zeros((n_subjs, len(rois), len(features), null_samples))\n",
    "rs_var = np.zeros_like(rs_null)\n",
    "for sid_ in range(n_subjs): \n",
    "    sid = str(sid_+1).zfill(2)\n",
    "    for iroi, (roi, roi_name) in enumerate(zip(rois, roi_names)):\n",
    "        y = get_ROIactivation(glob.glob(f'{data_dir}/ROI_masks/sub-{sid}/*{roi}*nii.gz')[0], beta_maps[sid_, ...])\n",
    "\n",
    "        #Iterate through the different splits\n",
    "        y_pred = np.zeros((n_features, n_condpersplit, n_splits))\n",
    "        y_true = np.zeros((n_condpersplit, n_splits))\n",
    "        test_inds = np.zeros((n_condpersplit, n_splits), dtype='int')\n",
    "        for i, (train_index, test_index) in enumerate(kf.split(X)):\n",
    "            #Split the training and test data\n",
    "#             X_train, X_test = X_new[train_index], X_new[test_index]\n",
    "            X_train, X_test = X[train_index], X[test_index]\n",
    "            y_train, y_test = y[train_index], y[test_index]\n",
    "            \n",
    "            #save the current indices\n",
    "            test_inds[:, i] = test_index\n",
    "            y_true[:, i] = y_test\n",
    "            \n",
    "            #new X - combine the annotated features with the nuissance regressors\n",
    "            X_train = np.append(X_train, control_model[train_index], axis=1)\n",
    "        \n",
    "            #Prediction\n",
    "            y_pred[:, :, i] = regression(X_train, y_train, X_test, features)\n",
    "\n",
    "        #Evaluation & Save to data frame\n",
    "        for ifeature, (feature, category) in enumerate(zip(features, feature_categories)):\n",
    "#         for ifeature, feature in enumerate(pcs):\n",
    "            r, p, r_null = permutation_test(y_pred[ifeature, :, :].flatten(),\n",
    "                                       y_true.flatten(), test_inds, n_perm=null_samples)\n",
    "            r_var = bootstrap(y_pred[ifeature, :, :].flatten(),\n",
    "                              y_true.flatten(), test_inds, n_samples=null_samples)\n",
    "            df = df.append({'Subjects': f'sub-{sid}',\n",
    "                            'Features': feature,\n",
    "                            'Feature category': category,\n",
    "                            'ROIs': roi_name, \n",
    "                            'Pearson r': r,\n",
    "                            'p value': p, \n",
    "                            'low sem': r-r_var.std(), \n",
    "                            'high sem': r+r_var.std(), \n",
    "                            'Explained variance': r ** 2},\n",
    "                            ignore_index=True)\n",
    "            rs[sid_, iroi, ifeature] = r\n",
    "            rs_null[sid_, iroi, ifeature, :] = r_null\n",
    "            rs_var[sid_, iroi, ifeature, :] = r_var"
   ]
  },
  {
   "cell_type": "markdown",
   "id": "298933dc-dd7b-4630-ab95-d638e1a3a755",
   "metadata": {
    "tags": []
   },
   "source": [
    "## Group p values"
   ]
  },
  {
   "cell_type": "code",
   "execution_count": 14,
   "id": "ea390c8a-ee07-4e3d-b347-954197bf7fde",
   "metadata": {},
   "outputs": [],
   "source": [
    "df['subj sig'] = df['p value'] < 0.05"
   ]
  },
  {
   "cell_type": "code",
   "execution_count": 15,
   "id": "b6bf33d8-e4cf-4c86-8148-eed72006acde",
   "metadata": {},
   "outputs": [],
   "source": [
    "df['group_p_value'] = 0 \n",
    "\n",
    "rs_avg = rs.mean(axis=0)\n",
    "rs_avg_null = rs_null.mean(axis=0)\n",
    "ps = np.zeros_like(rs_avg)\n",
    "for iroi, roi in enumerate(roi_names):\n",
    "     for ifeature, feature in enumerate(features):\n",
    "            p = np.sum(np.abs(rs_avg_null[iroi, ifeature, :]) >= np.abs(rs_avg[iroi, ifeature])) / null_samples\n",
    "            ps[iroi, ifeature] = p\n",
    "            df.loc[(df.ROIs == roi) & (df.Features == feature), 'group_p_value'] = p"
   ]
  },
  {
   "cell_type": "code",
   "execution_count": 16,
   "id": "a13fb270-9648-44e4-ab9d-252c95cea81f",
   "metadata": {},
   "outputs": [],
   "source": [
    "df['group_pcorrected'] = 0 \n",
    "ps_corrected = np.zeros_like(ps)\n",
    "for iroi, roi in enumerate(roi_names):\n",
    "    bools, ps_corrected[iroi, :] =  fdrcorrection(ps[iroi, :], alpha=0.05)\n",
    "    for ifeature, feature in enumerate(features):\n",
    "        df.loc[(df.ROIs == roi) & (df.Features == feature), 'group_pcorrected'] = ps_corrected[iroi, ifeature]\n",
    "df['group sig'] = df['group_pcorrected'] < 0.05"
   ]
  },
  {
   "cell_type": "code",
   "execution_count": 17,
   "id": "1b8db208-b6bc-48bb-885e-b4b7c1a16e09",
   "metadata": {},
   "outputs": [],
   "source": [
    "df.to_csv(f'{out_dir}/roi_encoding/encoding_models.csv', index=False)"
   ]
  },
  {
   "cell_type": "markdown",
   "id": "16ac3855-fc78-41d1-9dae-88c3462816e7",
   "metadata": {
    "tags": []
   },
   "source": [
    "## Plotting"
   ]
  },
  {
   "cell_type": "code",
   "execution_count": 18,
   "id": "e838994e-998b-4848-9951-5651d0a9dd6a",
   "metadata": {},
   "outputs": [],
   "source": [
    "for roi in roi_names:\n",
    "    plot_ROI_results(df[df.ROIs == roi], f'{figure_dir}/roi_encoding/{roi}.pdf', variable)"
   ]
  },
  {
   "cell_type": "markdown",
   "id": "3c4927c4-3aa8-48cd-bbf5-586500dc4608",
   "metadata": {},
   "source": [
    "# EVC Control Model"
   ]
  },
  {
   "cell_type": "markdown",
   "id": "7e8c7acd-7317-4083-be52-7b15434afa1f",
   "metadata": {},
   "source": [
    "## Run regression"
   ]
  },
  {
   "cell_type": "code",
   "execution_count": 19,
   "id": "80024f2e-2332-485c-b76b-6c662660b343",
   "metadata": {},
   "outputs": [],
   "source": [
    "def regression_evc(X_train, y_train, X_test): \n",
    "    #Standardize X\n",
    "    scaler = StandardScaler()\n",
    "    X_train = scaler.fit_transform(X_train)\n",
    "\n",
    "    #Ridge CV to get the alpha parameter\n",
    "    clf = RidgeCV(cv=4).fit(X_train, y_train)\n",
    "\n",
    "    #Fit the Ridge model with the found best alpha\n",
    "    lr = Ridge(fit_intercept=False, alpha=clf.alpha_).fit(X_train, y_train)\n",
    "\n",
    "    #Scale testing \n",
    "    X_test = scaler.transform(X_test)\n",
    "    return X_test @ lr.coef_"
   ]
  },
  {
   "cell_type": "code",
   "execution_count": 20,
   "id": "165bef58-ae21-478e-8298-384abffa603d",
   "metadata": {},
   "outputs": [],
   "source": [
    "rois = ['EVC', 'MT']\n",
    "roi_names = ['EVC', 'MT']\n",
    "variable='Pearson r'\n",
    "df = pd.DataFrame()\n",
    "\n",
    "kf = KFold(n_splits=n_splits, shuffle=True, random_state=0)\n",
    "#Save the rs and null distributions\n",
    "rs = np.zeros((n_subjs, len(rois)))\n",
    "rs_null = np.zeros((n_subjs, len(rois), int(5e3)))\n",
    "rs_var = np.zeros_like(rs_null)\n",
    "for sid_ in range(n_subjs): \n",
    "    sid = str(sid_+1).zfill(2)\n",
    "    for iroi, (roi, roi_name) in enumerate(zip(rois, roi_names)):\n",
    "        y = get_ROIactivation(glob.glob(f'{data_dir}/ROI_masks/sub-{sid}/*region-{roi}*nii.gz')[0], beta_maps[sid_, ...])\n",
    "\n",
    "        #Iterate through the different splits\n",
    "        y_pred = np.zeros((n_condpersplit, n_splits))\n",
    "        y_true = np.zeros((n_condpersplit, n_splits))\n",
    "        test_inds = np.zeros((n_condpersplit, n_splits), dtype='int')\n",
    "        for i, (train_index, test_index) in enumerate(kf.split(X)):\n",
    "            #Split the training and test data\n",
    "            X_train, X_test = control_model[train_index], control_model[test_index]\n",
    "            y_train, y_test = y[train_index], y[test_index]\n",
    "            \n",
    "            #save the current indices\n",
    "            test_inds[:, i] = test_index\n",
    "            y_true[:, i] = y_test\n",
    "        \n",
    "            #Prediction\n",
    "            y_pred[:, i] = regression_evc(X_train, y_train, X_test)\n",
    "        \n",
    "        r, p, r_null = permutation_test(y_pred.flatten(),\n",
    "                                   y_true.flatten(), test_inds)\n",
    "        r_var = bootstrap(y_pred.flatten(),\n",
    "                          y_true.flatten(), test_inds)\n",
    "        df = df.append({'Subjects': f'sub-{sid}',\n",
    "                        'Features': 'control model',\n",
    "                        'ROIs': roi_name, \n",
    "                        'Pearson r': r,\n",
    "                        'p value': p, \n",
    "                        'low sem': r-r_var.std(), \n",
    "                        'high sem': r+r_var.std(), \n",
    "                        'Explained variance': r ** 2},\n",
    "                        ignore_index=True)\n",
    "        rs[sid_, iroi] = r\n",
    "        rs_null[sid_, iroi, :] = r_null\n",
    "        rs_var[sid_, iroi, :] = r_var"
   ]
  },
  {
   "cell_type": "markdown",
   "id": "f1b864ac-7198-4b53-afbb-492aac8d7d0c",
   "metadata": {},
   "source": [
    "## Group p values"
   ]
  },
  {
   "cell_type": "code",
   "execution_count": 21,
   "id": "b8a93cc7-673a-4766-a120-511d60b852d9",
   "metadata": {},
   "outputs": [],
   "source": [
    "df['subj sig'] = df['p value'] < 0.05"
   ]
  },
  {
   "cell_type": "code",
   "execution_count": 22,
   "id": "f2e01785-83ad-4060-a19d-57e5bfca7f05",
   "metadata": {},
   "outputs": [],
   "source": [
    "df['group_p_value'] = 0 \n",
    "\n",
    "rs_avg = rs.mean(axis=0)\n",
    "rs_avg_null = rs_null.mean(axis=0)\n",
    "ps = np.zeros_like(rs_avg)\n",
    "for iroi, roi in enumerate(roi_names):\n",
    "    p = np.sum(np.abs(rs_avg_null[iroi, :]) >= np.abs(rs_avg[iroi])) / 5e3\n",
    "    ps[iroi] = p\n",
    "    df.loc[(df.ROIs == roi), 'group_p_value'] = p\n",
    "df['group sig'] = df['group_p_value'] < 0.05"
   ]
  },
  {
   "cell_type": "code",
   "execution_count": 23,
   "id": "7d359d0a-bc49-47d5-ac70-b248d45a075a",
   "metadata": {},
   "outputs": [],
   "source": [
    "df.to_csv(f'{out_dir}/roi_encoding/control_model_prediction.csv', index=False)"
   ]
  },
  {
   "cell_type": "markdown",
   "id": "ef22af09-3896-4c11-ab64-4e49e645eac0",
   "metadata": {},
   "source": [
    "## Plotting"
   ]
  },
  {
   "cell_type": "code",
   "execution_count": 24,
   "id": "df1e5ec3-e8d6-4f7e-9ee5-6c9994fdcef2",
   "metadata": {},
   "outputs": [
    {
     "data": {
      "image/png": "[encoded data removed]",
      "text/plain": [
       "<Figure size 432x360 with 1 Axes>"
      ]
     },
     "metadata": {},
     "output_type": "display_data"
    }
   ],
   "source": [
    "fig, ax = plt.subplots()\n",
    "sns.set(style='white', context='talk')\n",
    "sns.barplot(x='ROIs', y='Pearson r',\n",
    "           data=df, ax=ax, \n",
    "           color='gray', ci=None)\n",
    "\n",
    "for iroi, roi in enumerate(df.ROIs.unique()):\n",
    "    x = iroi\n",
    "    sig = df.loc[df.ROIs == roi, 'group sig'].reset_index(drop=True)[0]\n",
    "    p = df.loc[df.ROIs == roi, 'group_p_value'].reset_index(drop=True)[0]\n",
    "    if sig:\n",
    "        if p > 0.01:\n",
    "            text = '*'\n",
    "        elif p < 0.01 and p > 0.001:\n",
    "            text = '**'\n",
    "        elif p < 0.001:\n",
    "            text = '***'\n",
    "        ax.annotate(text, (x, 0.6), fontsize=20,\n",
    "                    weight='bold', ha='center', color='gray')\n",
    "    \n",
    "    #Plot error bars\n",
    "    y1 = df[(df.ROIs == roi)].mean()['low sem']\n",
    "    y2 = df[(df.ROIs == roi)].mean()['high sem']\n",
    "    plt.plot([x, x], [y1, y2], 'black', linewidth=2)\n",
    "    \n",
    "    #Plot noise ceiling\n",
    "    x = np.linspace(x-0.5, x+0.5, num=3)\n",
    "    y1 = np.ones_like(x)*noise_ceiling.loc[noise_ceiling.ROIs == roi, variable].tolist()[0]\n",
    "    ax.plot(x, y1, color='gray', alpha=0.5, linewidth=3)\n",
    "\n",
    "ax.set_ylabel('Prediction accuracy ($\\it{r}$)')\n",
    "sns.despine(left=True)\n",
    "# ax.set_ylim([0, 0.65])\n",
    "plt.tight_layout()\n",
    "plt.savefig(f'{figure_dir}/roi_encoding/control_model.pdf')"
   ]
  },
  {
   "cell_type": "code",
   "execution_count": null,
   "id": "2835b398-6c7c-4967-965c-eff3d5de50d8",
   "metadata": {},
   "outputs": [],
   "source": []
  }
 ],
 "metadata": {
  "kernelspec": {
   "display_name": "Python 3",
   "language": "python",
   "name": "python3"
  },
  "language_info": {
   "codemirror_mode": {
    "name": "ipython",
    "version": 3
   },
   "file_extension": ".py",
   "mimetype": "text/x-python",
   "name": "python",
   "nbconvert_exporter": "python",
   "pygments_lexer": "ipython3",
   "version": "3.6.13"
  }
 },
 "nbformat": 4,
 "nbformat_minor": 5
}
