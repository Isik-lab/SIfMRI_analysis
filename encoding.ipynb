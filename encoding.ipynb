{
 "cells": [
  {
   "cell_type": "code",
   "execution_count": 1,
   "id": "a3581db6-b5a4-4489-96be-37f79252b4e7",
   "metadata": {},
   "outputs": [],
   "source": [
    "# %matplotlib widget"
   ]
  },
  {
   "cell_type": "code",
   "execution_count": 2,
   "id": "ffcddac6-00e3-4291-92b1-53fa4f6149a1",
   "metadata": {},
   "outputs": [],
   "source": [
    "import os\n",
    "import glob\n",
    "from natsort import natsorted\n",
    "from tqdm import tqdm\n",
    "import itertools\n",
    "\n",
    "import pandas as pd\n",
    "import numpy as np\n",
    "\n",
    "from nilearn import image\n",
    "\n",
    "from sklearn.preprocessing import StandardScaler\n",
    "from sklearn.linear_model import Ridge, RidgeCV\n",
    "from sklearn.decomposition import PCA\n",
    "from sklearn.model_selection import cross_val_score, KFold\n",
    "from sklearn.pipeline import Pipeline\n",
    "from sklearn.metrics import make_scorer\n",
    "\n",
    "from scipy.stats import pearsonr, zscore, ttest_1samp\n",
    "from statsmodels.stats.multitest import fdrcorrection\n",
    "\n",
    "import matplotlib.pyplot as plt\n",
    "import seaborn as sns"
   ]
  },
  {
   "cell_type": "code",
   "execution_count": 3,
   "id": "3f70f527-c50a-4b24-b0bf-679a7bcde8a4",
   "metadata": {},
   "outputs": [],
   "source": [
    "bids_dir = '/Users/emcmaho7/Desktop/SI_fMRI'\n",
    "derivatives_dir = f'{bids_dir}/derivatives'\n",
    "nilearn_dir = f'{derivatives_dir}/nilearn'\n",
    "reliability_dir = f'{derivatives_dir}/reliability'\n",
    "mask_dir = f'{derivatives_dir}/ROI_masks'\n",
    "em_dir = f'{derivatives_dir}/encoding_models'"
   ]
  },
  {
   "cell_type": "code",
   "execution_count": 4,
   "id": "a510e281-62cd-44c1-ba8c-bd60a6646fa3",
   "metadata": {},
   "outputs": [],
   "source": [
    "rois = ['EVC', 'MT', 'EBA', 'PPA', 'TOS', 'RSC', 'LOC',  'FFA', 'OFA', 'faceSTS', 'biomotion', 'SIpSTS', 'TPJ', 'DMPFC']\n",
    "roi_names = ['EVC', 'MT', 'EBA', 'PPA', 'OPA', 'RSC', 'LOC',  'FFA', 'OFA', 'faceSTS', 'biomotion', 'SIpSTS', 'TPJ', 'DMPFC']"
   ]
  },
  {
   "cell_type": "markdown",
   "id": "9452e8fe-a371-405c-ada9-f9b578ed1ef9",
   "metadata": {},
   "source": [
    "# Loading"
   ]
  },
  {
   "cell_type": "markdown",
   "id": "518a5fe1-79fc-4298-8677-d981d7f95b58",
   "metadata": {},
   "source": [
    "## Zmaps"
   ]
  },
  {
   "cell_type": "code",
   "execution_count": 5,
   "id": "a03808e3-1c84-42bc-a092-75e3fd1554d2",
   "metadata": {},
   "outputs": [],
   "source": [
    "fname = f'{nilearn_dir}/sub-all_task-SIdyads_desc-train_stat-z_statmap.npy'\n",
    "z_maps = np.load(fname)\n",
    "n_subjs = z_maps.shape[0]"
   ]
  },
  {
   "cell_type": "markdown",
   "id": "16c0b327-e775-417c-8374-6ec40f06cc1b",
   "metadata": {},
   "source": [
    "## Features"
   ]
  },
  {
   "cell_type": "markdown",
   "id": "54ed4f66-650c-4776-89a6-7d51aa07c3a4",
   "metadata": {
    "tags": []
   },
   "source": [
    "### AlexNet"
   ]
  },
  {
   "cell_type": "code",
   "execution_count": 6,
   "id": "3112cbe9-0769-46ee-a84f-cabe24ecd2b7",
   "metadata": {},
   "outputs": [
    {
     "data": {
      "text/plain": [
       "[<matplotlib.lines.Line2D at 0x7f97d8687320>]"
      ]
     },
     "execution_count": 6,
     "metadata": {},
     "output_type": "execute_result"
    },
    {
     "data": {
      "image/png": "[encoded data removed]",
      "text/plain": [
       "<Figure size 432x288 with 1 Axes>"
      ]
     },
     "metadata": {
      "needs_background": "light"
     },
     "output_type": "display_data"
    }
   ],
   "source": [
    "layer = 2\n",
    "alexnet = zscore(np.load(f'alexnet_conv{layer}_avgframe.npy'), axis=-1)\n",
    "\n",
    "pca = PCA(svd_solver='full', n_components=20)\n",
    "alexnet = pca.fit_transform(alexnet.T)\n",
    "\n",
    "fig, ax = plt.subplots()\n",
    "plt.plot(pca.explained_variance_ratio_.cumsum())"
   ]
  },
  {
   "cell_type": "markdown",
   "id": "3aeb499b-b6ae-462a-b017-5e44a4b3b72b",
   "metadata": {},
   "source": [
    "### Optical flow"
   ]
  },
  {
   "cell_type": "code",
   "execution_count": 7,
   "id": "742a1580-b9ce-4401-808b-29f7fe5d92c3",
   "metadata": {},
   "outputs": [
    {
     "data": {
      "text/plain": [
       "[<matplotlib.lines.Line2D at 0x7f97c8e2f978>]"
      ]
     },
     "execution_count": 7,
     "metadata": {},
     "output_type": "execute_result"
    },
    {
     "data": {
      "image/png": "[encoded data removed]",
      "text/plain": [
       "<Figure size 432x288 with 1 Axes>"
      ]
     },
     "metadata": {
      "needs_background": "light"
     },
     "output_type": "display_data"
    }
   ],
   "source": [
    "of = zscore(np.load(f'of_adelsonbergen.npy'), axis=0)\n",
    "pca = PCA(svd_solver='full', n_components=20)\n",
    "of = pca.fit_transform(of)\n",
    "\n",
    "fig, ax = plt.subplots()\n",
    "plt.plot(pca.explained_variance_ratio_.cumsum())"
   ]
  },
  {
   "cell_type": "markdown",
   "id": "6fef9bc2-6346-40b3-8900-263dd77fb68a",
   "metadata": {},
   "source": [
    "### Control model"
   ]
  },
  {
   "cell_type": "code",
   "execution_count": 8,
   "id": "25cea2b0-fa1e-4ac1-963c-854a2b67c794",
   "metadata": {},
   "outputs": [],
   "source": [
    "control_model = np.concatenate((alexnet, of), axis=-1)"
   ]
  },
  {
   "cell_type": "code",
   "execution_count": 9,
   "id": "4f7d515a-782d-4af7-b358-ca7c2c1ef70d",
   "metadata": {},
   "outputs": [
    {
     "data": {
      "text/plain": [
       "(200, 40)"
      ]
     },
     "execution_count": 9,
     "metadata": {},
     "output_type": "execute_result"
    }
   ],
   "source": [
    "control_model.shape"
   ]
  },
  {
   "cell_type": "markdown",
   "id": "c10fb07b-f126-4191-9ec3-a0c0b738d011",
   "metadata": {},
   "source": [
    "### Annotated Model"
   ]
  },
  {
   "cell_type": "code",
   "execution_count": 10,
   "id": "b40e9ac2-a9aa-4a92-b5fa-0dbfbf94ff65",
   "metadata": {},
   "outputs": [],
   "source": [
    "bdf = pd.read_csv('annotations/annotations.csv')\n",
    "train = pd.read_csv('annotations/train.csv')\n",
    "bdf = bdf.merge(train)\n",
    "bdf.sort_values(by=['video_name'], inplace=True)"
   ]
  },
  {
   "cell_type": "code",
   "execution_count": 11,
   "id": "51dc40e0-b8a9-4911-801f-0dfac8acb4f9",
   "metadata": {},
   "outputs": [],
   "source": [
    "feature_categories = ['visual', 'visual', 'visual', 'visual', 'visual',\n",
    "                     'social detection', 'social detection', \n",
    "                     'social evaluation', 'social evaluation', 'social evaluation', 'social evaluation', 'social evaluation']\n",
    "features = bdf.columns.to_list()\n",
    "features.remove('video_name')"
   ]
  },
  {
   "cell_type": "code",
   "execution_count": 12,
   "id": "d7632b33-8369-4edb-9cfe-50b03744eb94",
   "metadata": {},
   "outputs": [],
   "source": [
    "model = []\n",
    "for feature in features:\n",
    "    arr = zscore(bdf[feature].to_numpy())\n",
    "    arr = np.expand_dims(arr, axis=0)\n",
    "    if type(model) == list:\n",
    "        model = arr.copy()\n",
    "    else:\n",
    "        model = np.append(model, arr, axis=0) \n",
    "X = model.T"
   ]
  },
  {
   "cell_type": "code",
   "execution_count": 13,
   "id": "84fa11b9-34df-420d-9d9b-c2cce3f0c69d",
   "metadata": {},
   "outputs": [
    {
     "data": {
      "text/html": [
       "<div>\n",
       "<style scoped>\n",
       "    .dataframe tbody tr th:only-of-type {\n",
       "        vertical-align: middle;\n",
       "    }\n",
       "\n",
       "    .dataframe tbody tr th {\n",
       "        vertical-align: top;\n",
       "    }\n",
       "\n",
       "    .dataframe thead th {\n",
       "        text-align: right;\n",
       "    }\n",
       "</style>\n",
       "<table border=\"1\" class=\"dataframe\">\n",
       "  <thead>\n",
       "    <tr style=\"text-align: right;\">\n",
       "      <th></th>\n",
       "      <th>PC1</th>\n",
       "      <th>PC2</th>\n",
       "      <th>PC3</th>\n",
       "      <th>PC4</th>\n",
       "      <th>PC5</th>\n",
       "      <th>PC6</th>\n",
       "      <th>PC7</th>\n",
       "      <th>PC8</th>\n",
       "      <th>PC9</th>\n",
       "      <th>PC10</th>\n",
       "      <th>PC11</th>\n",
       "      <th>PC12</th>\n",
       "    </tr>\n",
       "  </thead>\n",
       "  <tbody>\n",
       "    <tr>\n",
       "      <th>indoor</th>\n",
       "      <td>-0.260388</td>\n",
       "      <td>0.177605</td>\n",
       "      <td>0.583569</td>\n",
       "      <td>0.214423</td>\n",
       "      <td>-0.561376</td>\n",
       "      <td>-0.272605</td>\n",
       "      <td>0.139779</td>\n",
       "      <td>0.156016</td>\n",
       "      <td>0.143443</td>\n",
       "      <td>-0.110795</td>\n",
       "      <td>0.000634</td>\n",
       "      <td>-0.079127</td>\n",
       "    </tr>\n",
       "    <tr>\n",
       "      <th>expanse</th>\n",
       "      <td>0.912871</td>\n",
       "      <td>0.004140</td>\n",
       "      <td>-0.295651</td>\n",
       "      <td>0.064886</td>\n",
       "      <td>0.093188</td>\n",
       "      <td>0.237513</td>\n",
       "      <td>-0.037451</td>\n",
       "      <td>0.167190</td>\n",
       "      <td>0.095077</td>\n",
       "      <td>-0.196307</td>\n",
       "      <td>0.005417</td>\n",
       "      <td>-0.274285</td>\n",
       "    </tr>\n",
       "    <tr>\n",
       "      <th>agent distance</th>\n",
       "      <td>0.974945</td>\n",
       "      <td>-0.023123</td>\n",
       "      <td>-0.129247</td>\n",
       "      <td>0.035868</td>\n",
       "      <td>-0.196639</td>\n",
       "      <td>-0.064360</td>\n",
       "      <td>-0.125682</td>\n",
       "      <td>0.123940</td>\n",
       "      <td>-0.011793</td>\n",
       "      <td>-0.046246</td>\n",
       "      <td>-0.132802</td>\n",
       "      <td>0.321591</td>\n",
       "    </tr>\n",
       "    <tr>\n",
       "      <th>facingness</th>\n",
       "      <td>-0.179156</td>\n",
       "      <td>0.599578</td>\n",
       "      <td>-0.186213</td>\n",
       "      <td>-0.331166</td>\n",
       "      <td>-0.245994</td>\n",
       "      <td>-0.101787</td>\n",
       "      <td>-0.317023</td>\n",
       "      <td>-0.130151</td>\n",
       "      <td>-0.337164</td>\n",
       "      <td>-0.032934</td>\n",
       "      <td>0.099680</td>\n",
       "      <td>-0.063252</td>\n",
       "    </tr>\n",
       "    <tr>\n",
       "      <th>transitivity</th>\n",
       "      <td>0.482794</td>\n",
       "      <td>-0.621130</td>\n",
       "      <td>0.158601</td>\n",
       "      <td>-0.221495</td>\n",
       "      <td>0.109322</td>\n",
       "      <td>-0.351495</td>\n",
       "      <td>0.032505</td>\n",
       "      <td>-0.452967</td>\n",
       "      <td>0.074850</td>\n",
       "      <td>0.018239</td>\n",
       "      <td>0.084597</td>\n",
       "      <td>-0.049952</td>\n",
       "    </tr>\n",
       "    <tr>\n",
       "      <th>joint action</th>\n",
       "      <td>-0.359151</td>\n",
       "      <td>0.116302</td>\n",
       "      <td>-0.402850</td>\n",
       "      <td>0.333621</td>\n",
       "      <td>0.186221</td>\n",
       "      <td>-0.042468</td>\n",
       "      <td>0.343937</td>\n",
       "      <td>-0.038533</td>\n",
       "      <td>-0.053159</td>\n",
       "      <td>-0.172331</td>\n",
       "      <td>0.281282</td>\n",
       "      <td>0.125645</td>\n",
       "    </tr>\n",
       "    <tr>\n",
       "      <th>communication</th>\n",
       "      <td>-0.331879</td>\n",
       "      <td>0.455718</td>\n",
       "      <td>-0.357005</td>\n",
       "      <td>-0.335200</td>\n",
       "      <td>-0.120453</td>\n",
       "      <td>0.183592</td>\n",
       "      <td>0.203950</td>\n",
       "      <td>-0.188228</td>\n",
       "      <td>0.340923</td>\n",
       "      <td>0.129174</td>\n",
       "      <td>-0.135507</td>\n",
       "      <td>0.024873</td>\n",
       "    </tr>\n",
       "    <tr>\n",
       "      <th>cooperation</th>\n",
       "      <td>-0.295078</td>\n",
       "      <td>-0.530804</td>\n",
       "      <td>-0.302404</td>\n",
       "      <td>-0.071742</td>\n",
       "      <td>-0.073971</td>\n",
       "      <td>-0.099287</td>\n",
       "      <td>0.299842</td>\n",
       "      <td>0.222987</td>\n",
       "      <td>-0.282960</td>\n",
       "      <td>0.165833</td>\n",
       "      <td>-0.197457</td>\n",
       "      <td>-0.079498</td>\n",
       "    </tr>\n",
       "    <tr>\n",
       "      <th>dominance</th>\n",
       "      <td>-0.384849</td>\n",
       "      <td>-0.137241</td>\n",
       "      <td>0.271634</td>\n",
       "      <td>-0.495311</td>\n",
       "      <td>0.389923</td>\n",
       "      <td>-0.040282</td>\n",
       "      <td>-0.140737</td>\n",
       "      <td>0.403252</td>\n",
       "      <td>0.124901</td>\n",
       "      <td>-0.006144</td>\n",
       "      <td>0.131854</td>\n",
       "      <td>0.061055</td>\n",
       "    </tr>\n",
       "    <tr>\n",
       "      <th>intimacy</th>\n",
       "      <td>-0.565668</td>\n",
       "      <td>-0.182949</td>\n",
       "      <td>0.380978</td>\n",
       "      <td>0.080331</td>\n",
       "      <td>0.191791</td>\n",
       "      <td>0.338218</td>\n",
       "      <td>-0.079419</td>\n",
       "      <td>-0.217364</td>\n",
       "      <td>-0.109290</td>\n",
       "      <td>-0.264087</td>\n",
       "      <td>-0.227748</td>\n",
       "      <td>0.044332</td>\n",
       "    </tr>\n",
       "    <tr>\n",
       "      <th>valence</th>\n",
       "      <td>-0.286046</td>\n",
       "      <td>-0.457622</td>\n",
       "      <td>-0.050522</td>\n",
       "      <td>0.347426</td>\n",
       "      <td>-0.253266</td>\n",
       "      <td>0.328993</td>\n",
       "      <td>-0.319800</td>\n",
       "      <td>-0.023842</td>\n",
       "      <td>0.070951</td>\n",
       "      <td>0.251558</td>\n",
       "      <td>0.166724</td>\n",
       "      <td>0.005723</td>\n",
       "    </tr>\n",
       "    <tr>\n",
       "      <th>arousal</th>\n",
       "      <td>0.291605</td>\n",
       "      <td>0.599527</td>\n",
       "      <td>0.329111</td>\n",
       "      <td>0.378360</td>\n",
       "      <td>0.481254</td>\n",
       "      <td>-0.116032</td>\n",
       "      <td>0.000098</td>\n",
       "      <td>-0.022300</td>\n",
       "      <td>-0.055778</td>\n",
       "      <td>0.264040</td>\n",
       "      <td>-0.076674</td>\n",
       "      <td>-0.037105</td>\n",
       "    </tr>\n",
       "  </tbody>\n",
       "</table>\n",
       "</div>"
      ],
      "text/plain": [
       "                     PC1       PC2       PC3       PC4       PC5       PC6  \\\n",
       "indoor         -0.260388  0.177605  0.583569  0.214423 -0.561376 -0.272605   \n",
       "expanse         0.912871  0.004140 -0.295651  0.064886  0.093188  0.237513   \n",
       "agent distance  0.974945 -0.023123 -0.129247  0.035868 -0.196639 -0.064360   \n",
       "facingness     -0.179156  0.599578 -0.186213 -0.331166 -0.245994 -0.101787   \n",
       "transitivity    0.482794 -0.621130  0.158601 -0.221495  0.109322 -0.351495   \n",
       "joint action   -0.359151  0.116302 -0.402850  0.333621  0.186221 -0.042468   \n",
       "communication  -0.331879  0.455718 -0.357005 -0.335200 -0.120453  0.183592   \n",
       "cooperation    -0.295078 -0.530804 -0.302404 -0.071742 -0.073971 -0.099287   \n",
       "dominance      -0.384849 -0.137241  0.271634 -0.495311  0.389923 -0.040282   \n",
       "intimacy       -0.565668 -0.182949  0.380978  0.080331  0.191791  0.338218   \n",
       "valence        -0.286046 -0.457622 -0.050522  0.347426 -0.253266  0.328993   \n",
       "arousal         0.291605  0.599527  0.329111  0.378360  0.481254 -0.116032   \n",
       "\n",
       "                     PC7       PC8       PC9      PC10      PC11      PC12  \n",
       "indoor          0.139779  0.156016  0.143443 -0.110795  0.000634 -0.079127  \n",
       "expanse        -0.037451  0.167190  0.095077 -0.196307  0.005417 -0.274285  \n",
       "agent distance -0.125682  0.123940 -0.011793 -0.046246 -0.132802  0.321591  \n",
       "facingness     -0.317023 -0.130151 -0.337164 -0.032934  0.099680 -0.063252  \n",
       "transitivity    0.032505 -0.452967  0.074850  0.018239  0.084597 -0.049952  \n",
       "joint action    0.343937 -0.038533 -0.053159 -0.172331  0.281282  0.125645  \n",
       "communication   0.203950 -0.188228  0.340923  0.129174 -0.135507  0.024873  \n",
       "cooperation     0.299842  0.222987 -0.282960  0.165833 -0.197457 -0.079498  \n",
       "dominance      -0.140737  0.403252  0.124901 -0.006144  0.131854  0.061055  \n",
       "intimacy       -0.079419 -0.217364 -0.109290 -0.264087 -0.227748  0.044332  \n",
       "valence        -0.319800 -0.023842  0.070951  0.251558  0.166724  0.005723  \n",
       "arousal         0.000098 -0.022300 -0.055778  0.264040 -0.076674 -0.037105  "
      ]
     },
     "execution_count": 13,
     "metadata": {},
     "output_type": "execute_result"
    },
    {
     "data": {
      "image/png": "[encoded data removed]",
      "text/plain": [
       "<Figure size 432x288 with 1 Axes>"
      ]
     },
     "metadata": {
      "needs_background": "light"
     },
     "output_type": "display_data"
    }
   ],
   "source": [
    "pca = PCA(svd_solver='full')\n",
    "X_new = pca.fit_transform(X)\n",
    "\n",
    "fig, ax = plt.subplots()\n",
    "plt.plot(pca.explained_variance_ratio_.cumsum())\n",
    "\n",
    "loadings = pca.components_.T * np.sqrt(pca.explained_variance_)\n",
    "loadings=loadings-loadings.mean(axis=0)\n",
    "\n",
    "pcs = [f'PC{i+1}' for i in range(len(features))]\n",
    "loading_matrix = pd.DataFrame(loadings, columns=pcs, index=features)\n",
    "loading_matrix"
   ]
  },
  {
   "cell_type": "markdown",
   "id": "25aad031-eb13-49be-be11-76837be2c630",
   "metadata": {},
   "source": [
    "# Reliability"
   ]
  },
  {
   "cell_type": "markdown",
   "id": "9be2925b-54c5-4cad-9f65-859b2c71b989",
   "metadata": {},
   "source": [
    "## All pairs of runs"
   ]
  },
  {
   "cell_type": "code",
   "execution_count": 14,
   "id": "8a1d94b3-d1c7-436c-959d-c012f70546c9",
   "metadata": {},
   "outputs": [],
   "source": [
    "def reliability(z_map):\n",
    "    n_voxels = z_map.shape[0]\n",
    "    rs = np.zeros(n_voxels)\n",
    "    even, odd = z_map[..., 1::2].mean(axis=-1), z_map[..., ::2].mean(axis=-1)\n",
    "    for ivoxel in tqdm(range(n_voxels)):\n",
    "        if np.any(np.isnan(even[ivoxel, :])) or np.any(np.isnan(odd[ivoxel, :])):\n",
    "            r = np.nan\n",
    "        else:\n",
    "            r, _ = pearsonr(even[ivoxel, :], odd[ivoxel, :])\n",
    "        rs[ivoxel] += r\n",
    "    return rs"
   ]
  },
  {
   "cell_type": "code",
   "execution_count": 15,
   "id": "239bbcc5-c8a1-4952-9e0b-9caf7f5eb16b",
   "metadata": {},
   "outputs": [],
   "source": [
    "r_file = f'{reliability_dir}/sub-all_task-SIdyads_desc-test_stat-r_statmap.npy'\n",
    "if not os.path.exists(r_file):\n",
    "    files = sorted(glob.glob(f'{nilearn_dir}/*/sub-*_task-SIdyads_desc-train_stat-z_statmap.npy'))\n",
    "    n_voxels = 1175640\n",
    "    r_maps = np.zeros((n_subjs, n_voxels))\n",
    "    for ifile, file in enumerate(files):\n",
    "        r_maps[ifile, :] = reliability(np.load(file))\n",
    "else:\n",
    "    r_maps = np.load(r_file)"
   ]
  },
  {
   "cell_type": "code",
   "execution_count": 16,
   "id": "48ea3b1c-c2c1-4d5d-af99-ff102be73d9a",
   "metadata": {
    "tags": []
   },
   "outputs": [],
   "source": [
    "n_subjs = 4\n",
    "reliability = np.zeros((len(rois), n_subjs))\n",
    "for iroi, (roi, roi_name) in enumerate(zip(rois, roi_names)):\n",
    "    for sid_ in range(n_subjs): \n",
    "        sid = str(sid_+1).zfill(2)\n",
    "        #activity in ROI\n",
    "        mask = image.load_img(glob.glob(f'{mask_dir}/sub-{sid}/*region-{roi}*nooverlap.nii.gz')[0])\n",
    "        mask = np.array(mask.dataobj, dtype='bool').flatten()\n",
    "        roi_activation = z_maps[sid_, mask, :]\n",
    "        roi_r = r_maps[sid_, mask]\n",
    "\n",
    "        #Remove nan values (these are voxels that do not vary across the different videos)\n",
    "        inds = ~np.any(np.isnan(roi_activation), axis=1)\n",
    "        reliability[iroi, sid_] = roi_r[inds].mean()"
   ]
  },
  {
   "cell_type": "code",
   "execution_count": 17,
   "id": "feb1b973-0f3c-4285-be6f-e4c61e95cb0e",
   "metadata": {},
   "outputs": [
    {
     "data": {
      "image/png": "[encoded data removed]",
      "text/plain": [
       "<Figure size 432x288 with 1 Axes>"
      ]
     },
     "metadata": {},
     "output_type": "display_data"
    }
   ],
   "source": [
    "subjects = [f'sub-{i+1:02d}' for i in range(n_subjs)]\n",
    "\n",
    "noise_ceiling = pd.DataFrame(reliability.T, columns=roi_names, index=subjects)\n",
    "noise_ceiling.reset_index(inplace=True)\n",
    "noise_ceiling.rename(columns={'index': 'Subjects'}, inplace=True)\n",
    "noise_ceiling = pd.melt(noise_ceiling, id_vars='Subjects', \n",
    "         var_name='ROIs',\n",
    "         value_vars=roi_names, value_name='Pearson r')\n",
    "\n",
    "noise_ceiling['Explained variance'] = noise_ceiling['Pearson r']**2\n",
    "\n",
    "sns.set(style='white', context='paper')\n",
    "fig, ax = plt.subplots()\n",
    "sns.barplot(x='ROIs', y='Pearson r',\n",
    "        data=noise_ceiling, ax=ax, color='#ADDDF2')\n",
    "ax.set_xticklabels(ax.get_xticklabels(),rotation=45)\n",
    "sns.despine(left=True)\n",
    "plt.tight_layout()"
   ]
  },
  {
   "cell_type": "code",
   "execution_count": 18,
   "id": "24a2a4ad-0f9b-408f-90a6-6db2c5a88fac",
   "metadata": {},
   "outputs": [],
   "source": [
    "noise_ceiling = noise_ceiling.groupby('ROIs').mean().reset_index()"
   ]
  },
  {
   "cell_type": "markdown",
   "id": "75c47a55-2409-4716-a3d2-5730306f9721",
   "metadata": {
    "tags": []
   },
   "source": [
    "# Encoding models"
   ]
  },
  {
   "cell_type": "markdown",
   "id": "c06372b5-2cb4-4b1b-b4ad-4d111a238245",
   "metadata": {},
   "source": [
    "## Functions"
   ]
  },
  {
   "cell_type": "code",
   "execution_count": 19,
   "id": "7df8ce2c-df61-4a04-aa79-c8242c84f601",
   "metadata": {},
   "outputs": [],
   "source": [
    "def get_ROIactivation(path, z_map):\n",
    "    #activity in ROI\n",
    "    mask = image.load_img(path)\n",
    "    mask = np.array(mask.dataobj, dtype='bool').flatten()\n",
    "    roi_activation = z_map[mask, :]\n",
    "\n",
    "    #Remove nan values (these are voxels that do not vary across the different videos)\n",
    "    inds = ~np.any(np.isnan(roi_activation), axis=1)\n",
    "    roi_activation = roi_activation[inds, ...]\n",
    "    return roi_activation.mean(axis=0)"
   ]
  },
  {
   "cell_type": "code",
   "execution_count": 20,
   "id": "23ff25f7-f8ac-4869-b979-25c69733788d",
   "metadata": {},
   "outputs": [],
   "source": [
    "def regression(X_train_, y_train_, X_test_, features): \n",
    "    #Standardize X\n",
    "    scaler = StandardScaler()\n",
    "    X_train_ = scaler.fit_transform(X_train_)\n",
    "\n",
    "    #Ridge CV to get the alpha parameter\n",
    "    clf = RidgeCV(cv=4).fit(X_train_, y_train_)\n",
    "\n",
    "    #Fit the Ridge model with the found best alpha\n",
    "    lr = Ridge(fit_intercept=False, alpha=clf.alpha_).fit(X_train_, y_train_)\n",
    "\n",
    "    #Scale testing \n",
    "    mean = scaler.mean_[:X_test_.shape[1]]\n",
    "    var = scaler.var_[:X_test_.shape[1]]\n",
    "    X_test_ = (X_test_ - mean)/var\n",
    "    \n",
    "    y_pred = np.zeros((len(features), X_test.shape[0]))\n",
    "    for ifeature, feature in enumerate(features):\n",
    "        y_pred[ifeature, :] = X_test_[:, ifeature] * lr.coef_[ifeature]\n",
    "    return y_pred"
   ]
  },
  {
   "cell_type": "code",
   "execution_count": 21,
   "id": "569cac69-5c94-497a-86d9-d5fd3830e817",
   "metadata": {},
   "outputs": [],
   "source": [
    "def explained_variance_score(y_true, y_pred):\n",
    "    rho, _ = pearsonr(y_true, y_pred)\n",
    "    return rho"
   ]
  },
  {
   "cell_type": "code",
   "execution_count": 22,
   "id": "eae45421-ffa7-4781-9b10-22c7fc7a7c49",
   "metadata": {},
   "outputs": [],
   "source": [
    "def permutation_test(y_pred, y_true, test_inds, n_perm=int(5e3), H0='greater'): \n",
    "    r_true = explained_variance_score(y_pred, y_true)\n",
    "    r_null = np.zeros(n_perm)\n",
    "    for i in range(n_perm):\n",
    "        inds = np.random.default_rng(i).permutation(test_inds.shape[0])\n",
    "        inds = test_inds[inds, :].flatten()\n",
    "        y_true_shuffle = y_true[inds]\n",
    "        r_null[i] = explained_variance_score(y_true_shuffle, y_pred)\n",
    "    if H0 == 'two_tailed':\n",
    "        p = np.sum(np.abs(r_null) >= np.abs(r_true)) / n_perm\n",
    "    elif H0 == 'greater':\n",
    "        p = 1 - (np.sum(r_true >= r_null) / n_perm)\n",
    "    return r_true, p, r_null"
   ]
  },
  {
   "cell_type": "code",
   "execution_count": 23,
   "id": "b5ed4067-7ba7-4dfa-bd06-1e737dab8050",
   "metadata": {},
   "outputs": [],
   "source": [
    "def bootstrap(y_pred, y_true, test_inds, n_samples=int(5e3)):\n",
    "    r_var = np.zeros(n_samples)\n",
    "    for i in range(n_samples):\n",
    "        inds = np.random.default_rng(i).choice(np.arange(test_inds.shape[0]), size=test_inds.shape[0])\n",
    "        inds = test_inds[inds, :].flatten()\n",
    "        r_var[i] = explained_variance_score(y_true[inds], y_pred[inds])\n",
    "    return r_var"
   ]
  },
  {
   "cell_type": "markdown",
   "id": "895eeede-8808-4aad-ba25-6b83abfe3ea5",
   "metadata": {},
   "source": [
    "### Plotting"
   ]
  },
  {
   "cell_type": "code",
   "execution_count": 24,
   "id": "4666f2c0-8cbb-4fd3-ab87-ce93c848eea7",
   "metadata": {},
   "outputs": [],
   "source": [
    "def plot_ROI_results(df, outname, variable):\n",
    "    features = df.Features.unique()\n",
    "    n_features = len(features)\n",
    "    roi = df.ROIs.unique()[0]\n",
    "\n",
    "    #Set up figures\n",
    "    sns.set(style='whitegrid', context='talk', rc={'figure.figsize':(6,5)})\n",
    "    fig, ax = plt.subplots()\n",
    "\n",
    "    colors = ['#48D4E1', '#8C55FD', '#FADC00']\n",
    "    cmap = sns.color_palette(colors, as_cmap=True)\n",
    "    g = sns.barplot(x='Features', y=variable,\n",
    "                    data=df, ax=ax,\n",
    "                    hue='Feature category',\n",
    "                    palette=cmap,\n",
    "                    dodge=False, ci=None)\n",
    "\n",
    "    #Plot noise ceiling\n",
    "    x = np.linspace(0, n_features, num=3)\n",
    "    y1 = np.ones_like(x)*noise_ceiling.loc[noise_ceiling.ROIs == roi, variable].tolist()[0]\n",
    "    ax.plot(x, y1, color='gray', alpha=0.5, linewidth=3)\n",
    "    \n",
    "    for ifeature, feature in enumerate(df.Features.unique()):\n",
    "        x = ifeature\n",
    "        sig = df.loc[df.Features == feature, 'group sig'].reset_index(drop=True)[0]\n",
    "        p = df.loc[df.Features == feature, 'group_pcorrected'].reset_index(drop=True)[0]\n",
    "        if sig:\n",
    "            if p > 0.01:\n",
    "                text = '*'\n",
    "            elif p < 0.01 and p > 0.001:\n",
    "                text = '**'\n",
    "            elif p < 0.001:\n",
    "                text = '***'\n",
    "            ax.annotate(text, (x, 0.5), fontsize=20,\n",
    "                        weight='bold', ha='center', color='gray')\n",
    "            \n",
    "        y1 = df[(df.Features == feature)].mean()['low sem']\n",
    "        y2 = df[(df.Features == feature)].mean()['high sem']\n",
    "        plt.plot([x, x], [y1, y2], 'black', linewidth=2)\n",
    "\n",
    "    # #Aesthetics\n",
    "    ax.set_xticklabels(ax.get_xticklabels(), rotation=90, ha='center')\n",
    "    ax.set_xlabel('')\n",
    "    ax.set_ylabel('Prediction accuracy ($\\it{r}$)')\n",
    "#     ax.tick_params(axis='y', labelsize=12)\n",
    "    ax.set_ylim([-0.38, 0.58])\n",
    "    sns.despine(left=True)\n",
    "    handles, labels = ax.get_legend_handles_labels()\n",
    "    plt.legend([],[], frameon=False)\n",
    "    plt.tight_layout()\n",
    "    if outname is not None:\n",
    "        plt.savefig(outname)\n",
    "        plt.close()\n",
    "    else:\n",
    "        plt.title(roi)"
   ]
  },
  {
   "cell_type": "markdown",
   "id": "d6cce1a7-4d6c-483f-8b55-6eeb63bfd953",
   "metadata": {},
   "source": [
    "## Run Models"
   ]
  },
  {
   "cell_type": "code",
   "execution_count": 25,
   "id": "e61f1f2f-28aa-499d-bb5f-33ba2a25970f",
   "metadata": {},
   "outputs": [],
   "source": [
    "variable='Pearson r'\n",
    "df = pd.DataFrame()\n",
    "\n",
    "n_splits = 10\n",
    "n_conditions = 200\n",
    "n_condpersplit = int(n_conditions/n_splits)\n",
    "n_features = len(features)\n",
    "kf = KFold(n_splits=n_splits, shuffle=True, random_state=1)\n",
    "\n",
    "#Save the rs and null distributions\n",
    "null_samples = int(5e3)\n",
    "rs = np.zeros((n_subjs, len(rois), len(features)))\n",
    "rs_null = np.zeros((n_subjs, len(rois), len(features), null_samples))\n",
    "rs_var = np.zeros_like(rs_null)\n",
    "for sid_ in range(n_subjs): \n",
    "    sid = str(sid_+1).zfill(2)\n",
    "    for iroi, (roi, roi_name) in enumerate(zip(rois, roi_names)):\n",
    "        y = get_ROIactivation(glob.glob(f'{mask_dir}/sub-{sid}/*region-{roi}*nii.gz')[0], z_maps[sid_, ...])\n",
    "\n",
    "        #Iterate through the different splits\n",
    "        y_pred = np.zeros((n_features, n_condpersplit, n_splits))\n",
    "        y_true = np.zeros((n_condpersplit, n_splits))\n",
    "        test_inds = np.zeros((n_condpersplit, n_splits), dtype='int')\n",
    "        for i, (train_index, test_index) in enumerate(kf.split(X)):\n",
    "            #Split the training and test data\n",
    "#             X_train, X_test = X_new[train_index], X_new[test_index]\n",
    "            X_train, X_test = X[train_index], X[test_index]\n",
    "            y_train, y_test = y[train_index], y[test_index]\n",
    "            \n",
    "            #save the current indices\n",
    "            test_inds[:, i] = test_index\n",
    "            y_true[:, i] = y_test\n",
    "            \n",
    "            #new X - combine the annotated features with the nuissance regressors\n",
    "            X_train = np.append(X_train, control_model[train_index], axis=1)\n",
    "        \n",
    "            #Prediction\n",
    "            y_pred[:, :, i] = regression(X_train, y_train, X_test, features)\n",
    "\n",
    "        #Evaluation & Save to data frame\n",
    "        for ifeature, (feature, category) in enumerate(zip(features, feature_categories)):\n",
    "#         for ifeature, feature in enumerate(pcs):\n",
    "            r, p, r_null = permutation_test(y_pred[ifeature, :, :].flatten(),\n",
    "                                       y_true.flatten(), test_inds, n_perm=null_samples)\n",
    "            r_var = bootstrap(y_pred[ifeature, :, :].flatten(),\n",
    "                              y_true.flatten(), test_inds, n_samples=null_samples)\n",
    "            df = df.append({'Subjects': f'sub-{sid}',\n",
    "                            'Features': feature,\n",
    "                            'Feature category': category,\n",
    "                            'ROIs': roi_name, \n",
    "                            'Pearson r': r,\n",
    "                            'p value': p, \n",
    "                            'low sem': r-r_var.std(), \n",
    "                            'high sem': r+r_var.std(), \n",
    "                            'Explained variance': r ** 2},\n",
    "                            ignore_index=True)\n",
    "            rs[sid_, iroi, ifeature] = r\n",
    "            rs_null[sid_, iroi, ifeature, :] = r_null\n",
    "            rs_var[sid_, iroi, ifeature, :] = r_var"
   ]
  },
  {
   "cell_type": "markdown",
   "id": "298933dc-dd7b-4630-ab95-d638e1a3a755",
   "metadata": {},
   "source": [
    "## Group p values"
   ]
  },
  {
   "cell_type": "code",
   "execution_count": 26,
   "id": "ea390c8a-ee07-4e3d-b347-954197bf7fde",
   "metadata": {},
   "outputs": [],
   "source": [
    "df['subj sig'] = df['p value'] < 0.05"
   ]
  },
  {
   "cell_type": "code",
   "execution_count": 27,
   "id": "b6bf33d8-e4cf-4c86-8148-eed72006acde",
   "metadata": {},
   "outputs": [],
   "source": [
    "df['group_p_value'] = 0 \n",
    "\n",
    "rs_avg = rs.mean(axis=0)\n",
    "rs_avg_null = rs_null.mean(axis=0)\n",
    "ps = np.zeros_like(rs_avg)\n",
    "for iroi, roi in enumerate(roi_names):\n",
    "     for ifeature, feature in enumerate(features):\n",
    "            p = np.sum(np.abs(rs_avg_null[iroi, ifeature, :]) >= np.abs(rs_avg[iroi, ifeature])) / null_samples\n",
    "            ps[iroi, ifeature] = p\n",
    "            df.loc[(df.ROIs == roi) & (df.Features == feature), 'group_p_value'] = p"
   ]
  },
  {
   "cell_type": "code",
   "execution_count": 28,
   "id": "a13fb270-9648-44e4-ab9d-252c95cea81f",
   "metadata": {},
   "outputs": [],
   "source": [
    "df['group_pcorrected'] = 0 \n",
    "ps_corrected = np.zeros_like(ps)\n",
    "for iroi, roi in enumerate(roi_names):\n",
    "    bools, ps_corrected[iroi, :] =  fdrcorrection(ps[iroi, :], alpha=0.05)\n",
    "    for ifeature, feature in enumerate(features):\n",
    "        df.loc[(df.ROIs == roi) & (df.Features == feature), 'group_pcorrected'] = ps_corrected[iroi, ifeature]\n",
    "df['group sig'] = df['group_pcorrected'] < 0.05"
   ]
  },
  {
   "cell_type": "code",
   "execution_count": 29,
   "id": "1b8db208-b6bc-48bb-885e-b4b7c1a16e09",
   "metadata": {},
   "outputs": [],
   "source": [
    "df.to_csv('encoding_models.csv', index=False)"
   ]
  },
  {
   "cell_type": "code",
   "execution_count": 30,
   "id": "5742f5c3-c0ae-46a1-a4dd-df4d992b5cd3",
   "metadata": {},
   "outputs": [],
   "source": [
    "# df = pd.read_csv('encoding_models.csv')\n",
    "# roi_names = ['EVC', 'MT', 'EBA', 'PPA', 'OPA', 'RSC', 'LOC',  'FFA', 'OFA', 'faceSTS', 'biomotion', 'SIpSTS', 'TPJ', 'DMPFC']"
   ]
  },
  {
   "cell_type": "markdown",
   "id": "16ac3855-fc78-41d1-9dae-88c3462816e7",
   "metadata": {
    "tags": []
   },
   "source": [
    "## Plotting"
   ]
  },
  {
   "cell_type": "code",
   "execution_count": 31,
   "id": "e838994e-998b-4848-9951-5651d0a9dd6a",
   "metadata": {},
   "outputs": [],
   "source": [
    "for roi in roi_names:\n",
    "    plot_ROI_results(df[df.ROIs == roi], f'encoding_model_figures/{roi}.pdf', variable)"
   ]
  },
  {
   "cell_type": "code",
   "execution_count": 32,
   "id": "ba935605-fb68-4314-aec2-6fa055958232",
   "metadata": {},
   "outputs": [
    {
     "data": {
      "text/html": [
       "<div>\n",
       "<style scoped>\n",
       "    .dataframe tbody tr th:only-of-type {\n",
       "        vertical-align: middle;\n",
       "    }\n",
       "\n",
       "    .dataframe tbody tr th {\n",
       "        vertical-align: top;\n",
       "    }\n",
       "\n",
       "    .dataframe thead th {\n",
       "        text-align: right;\n",
       "    }\n",
       "</style>\n",
       "<table border=\"1\" class=\"dataframe\">\n",
       "  <thead>\n",
       "    <tr style=\"text-align: right;\">\n",
       "      <th></th>\n",
       "      <th>Explained variance</th>\n",
       "      <th>Pearson r</th>\n",
       "      <th>high sem</th>\n",
       "      <th>low sem</th>\n",
       "      <th>p value</th>\n",
       "      <th>subj sig</th>\n",
       "      <th>group_p_value</th>\n",
       "      <th>group_pcorrected</th>\n",
       "      <th>group sig</th>\n",
       "    </tr>\n",
       "    <tr>\n",
       "      <th>Features</th>\n",
       "      <th></th>\n",
       "      <th></th>\n",
       "      <th></th>\n",
       "      <th></th>\n",
       "      <th></th>\n",
       "      <th></th>\n",
       "      <th></th>\n",
       "      <th></th>\n",
       "      <th></th>\n",
       "    </tr>\n",
       "  </thead>\n",
       "  <tbody>\n",
       "    <tr>\n",
       "      <th>agent distance</th>\n",
       "      <td>0.015133</td>\n",
       "      <td>-0.060430</td>\n",
       "      <td>-0.003069</td>\n",
       "      <td>-0.117791</td>\n",
       "      <td>0.63820</td>\n",
       "      <td>0.00</td>\n",
       "      <td>0.0742</td>\n",
       "      <td>0.590400</td>\n",
       "      <td>0.0</td>\n",
       "    </tr>\n",
       "    <tr>\n",
       "      <th>arousal</th>\n",
       "      <td>0.004102</td>\n",
       "      <td>0.026191</td>\n",
       "      <td>0.096445</td>\n",
       "      <td>-0.044062</td>\n",
       "      <td>0.38000</td>\n",
       "      <td>0.00</td>\n",
       "      <td>0.4820</td>\n",
       "      <td>0.846109</td>\n",
       "      <td>0.0</td>\n",
       "    </tr>\n",
       "    <tr>\n",
       "      <th>communication</th>\n",
       "      <td>0.014832</td>\n",
       "      <td>0.005383</td>\n",
       "      <td>0.079815</td>\n",
       "      <td>-0.069048</td>\n",
       "      <td>0.60095</td>\n",
       "      <td>0.25</td>\n",
       "      <td>0.8848</td>\n",
       "      <td>0.884800</td>\n",
       "      <td>0.0</td>\n",
       "    </tr>\n",
       "    <tr>\n",
       "      <th>cooperation</th>\n",
       "      <td>0.001777</td>\n",
       "      <td>-0.022512</td>\n",
       "      <td>0.038953</td>\n",
       "      <td>-0.083977</td>\n",
       "      <td>0.62800</td>\n",
       "      <td>0.00</td>\n",
       "      <td>0.5392</td>\n",
       "      <td>0.846109</td>\n",
       "      <td>0.0</td>\n",
       "    </tr>\n",
       "    <tr>\n",
       "      <th>dominance</th>\n",
       "      <td>0.007563</td>\n",
       "      <td>0.021811</td>\n",
       "      <td>0.087898</td>\n",
       "      <td>-0.044276</td>\n",
       "      <td>0.43040</td>\n",
       "      <td>0.25</td>\n",
       "      <td>0.5690</td>\n",
       "      <td>0.846109</td>\n",
       "      <td>0.0</td>\n",
       "    </tr>\n",
       "    <tr>\n",
       "      <th>expanse</th>\n",
       "      <td>0.013019</td>\n",
       "      <td>0.049665</td>\n",
       "      <td>0.103148</td>\n",
       "      <td>-0.003818</td>\n",
       "      <td>0.37295</td>\n",
       "      <td>0.25</td>\n",
       "      <td>0.1858</td>\n",
       "      <td>0.647400</td>\n",
       "      <td>0.0</td>\n",
       "    </tr>\n",
       "    <tr>\n",
       "      <th>facingness</th>\n",
       "      <td>0.009828</td>\n",
       "      <td>0.010603</td>\n",
       "      <td>0.075450</td>\n",
       "      <td>-0.054244</td>\n",
       "      <td>0.41845</td>\n",
       "      <td>0.25</td>\n",
       "      <td>0.7756</td>\n",
       "      <td>0.846109</td>\n",
       "      <td>0.0</td>\n",
       "    </tr>\n",
       "    <tr>\n",
       "      <th>indoor</th>\n",
       "      <td>0.004746</td>\n",
       "      <td>-0.066973</td>\n",
       "      <td>-0.007598</td>\n",
       "      <td>-0.126349</td>\n",
       "      <td>0.86040</td>\n",
       "      <td>0.00</td>\n",
       "      <td>0.0984</td>\n",
       "      <td>0.590400</td>\n",
       "      <td>0.0</td>\n",
       "    </tr>\n",
       "    <tr>\n",
       "      <th>intimacy</th>\n",
       "      <td>0.013603</td>\n",
       "      <td>0.027201</td>\n",
       "      <td>0.093600</td>\n",
       "      <td>-0.039199</td>\n",
       "      <td>0.42500</td>\n",
       "      <td>0.25</td>\n",
       "      <td>0.4762</td>\n",
       "      <td>0.846109</td>\n",
       "      <td>0.0</td>\n",
       "    </tr>\n",
       "    <tr>\n",
       "      <th>joint action</th>\n",
       "      <td>0.002662</td>\n",
       "      <td>-0.043925</td>\n",
       "      <td>0.020545</td>\n",
       "      <td>-0.108396</td>\n",
       "      <td>0.78335</td>\n",
       "      <td>0.00</td>\n",
       "      <td>0.2158</td>\n",
       "      <td>0.647400</td>\n",
       "      <td>0.0</td>\n",
       "    </tr>\n",
       "    <tr>\n",
       "      <th>transitivity</th>\n",
       "      <td>0.002198</td>\n",
       "      <td>-0.016564</td>\n",
       "      <td>0.050380</td>\n",
       "      <td>-0.083508</td>\n",
       "      <td>0.50810</td>\n",
       "      <td>0.00</td>\n",
       "      <td>0.6356</td>\n",
       "      <td>0.846109</td>\n",
       "      <td>0.0</td>\n",
       "    </tr>\n",
       "    <tr>\n",
       "      <th>valence</th>\n",
       "      <td>0.000197</td>\n",
       "      <td>0.013591</td>\n",
       "      <td>0.083862</td>\n",
       "      <td>-0.056680</td>\n",
       "      <td>0.34345</td>\n",
       "      <td>0.00</td>\n",
       "      <td>0.7112</td>\n",
       "      <td>0.846109</td>\n",
       "      <td>0.0</td>\n",
       "    </tr>\n",
       "  </tbody>\n",
       "</table>\n",
       "</div>"
      ],
      "text/plain": [
       "                Explained variance  Pearson r  high sem   low sem  p value  \\\n",
       "Features                                                                     \n",
       "agent distance            0.015133  -0.060430 -0.003069 -0.117791  0.63820   \n",
       "arousal                   0.004102   0.026191  0.096445 -0.044062  0.38000   \n",
       "communication             0.014832   0.005383  0.079815 -0.069048  0.60095   \n",
       "cooperation               0.001777  -0.022512  0.038953 -0.083977  0.62800   \n",
       "dominance                 0.007563   0.021811  0.087898 -0.044276  0.43040   \n",
       "expanse                   0.013019   0.049665  0.103148 -0.003818  0.37295   \n",
       "facingness                0.009828   0.010603  0.075450 -0.054244  0.41845   \n",
       "indoor                    0.004746  -0.066973 -0.007598 -0.126349  0.86040   \n",
       "intimacy                  0.013603   0.027201  0.093600 -0.039199  0.42500   \n",
       "joint action              0.002662  -0.043925  0.020545 -0.108396  0.78335   \n",
       "transitivity              0.002198  -0.016564  0.050380 -0.083508  0.50810   \n",
       "valence                   0.000197   0.013591  0.083862 -0.056680  0.34345   \n",
       "\n",
       "                subj sig  group_p_value  group_pcorrected  group sig  \n",
       "Features                                                              \n",
       "agent distance      0.00         0.0742          0.590400        0.0  \n",
       "arousal             0.00         0.4820          0.846109        0.0  \n",
       "communication       0.25         0.8848          0.884800        0.0  \n",
       "cooperation         0.00         0.5392          0.846109        0.0  \n",
       "dominance           0.25         0.5690          0.846109        0.0  \n",
       "expanse             0.25         0.1858          0.647400        0.0  \n",
       "facingness          0.25         0.7756          0.846109        0.0  \n",
       "indoor              0.00         0.0984          0.590400        0.0  \n",
       "intimacy            0.25         0.4762          0.846109        0.0  \n",
       "joint action        0.00         0.2158          0.647400        0.0  \n",
       "transitivity        0.00         0.6356          0.846109        0.0  \n",
       "valence             0.00         0.7112          0.846109        0.0  "
      ]
     },
     "execution_count": 32,
     "metadata": {},
     "output_type": "execute_result"
    }
   ],
   "source": [
    "df[df.ROIs == roi].groupby('Features').mean()"
   ]
  },
  {
   "cell_type": "markdown",
   "id": "3c4927c4-3aa8-48cd-bbf5-586500dc4608",
   "metadata": {},
   "source": [
    "# EVC Control Model"
   ]
  },
  {
   "cell_type": "markdown",
   "id": "7e8c7acd-7317-4083-be52-7b15434afa1f",
   "metadata": {},
   "source": [
    "## Run regression"
   ]
  },
  {
   "cell_type": "code",
   "execution_count": 33,
   "id": "80024f2e-2332-485c-b76b-6c662660b343",
   "metadata": {},
   "outputs": [],
   "source": [
    "def regression_evc(X_train, y_train, X_test): \n",
    "    #Standardize X\n",
    "    scaler = StandardScaler()\n",
    "    X_train = scaler.fit_transform(X_train)\n",
    "\n",
    "    #Ridge CV to get the alpha parameter\n",
    "    clf = RidgeCV(cv=4).fit(X_train, y_train)\n",
    "\n",
    "    #Fit the Ridge model with the found best alpha\n",
    "    lr = Ridge(fit_intercept=False, alpha=clf.alpha_).fit(X_train, y_train)\n",
    "\n",
    "    #Scale testing \n",
    "    X_test = scaler.transform(X_test)\n",
    "    return X_test @ lr.coef_"
   ]
  },
  {
   "cell_type": "code",
   "execution_count": 34,
   "id": "165bef58-ae21-478e-8298-384abffa603d",
   "metadata": {},
   "outputs": [],
   "source": [
    "rois = ['EVC', 'MT']\n",
    "roi_names = ['EVC', 'MT']\n",
    "variable='Pearson r'\n",
    "df = pd.DataFrame()\n",
    "\n",
    "kf = KFold(n_splits=n_splits, shuffle=True, random_state=0)\n",
    "#Save the rs and null distributions\n",
    "rs = np.zeros((n_subjs, len(rois)))\n",
    "rs_null = np.zeros((n_subjs, len(rois), int(5e3)))\n",
    "rs_var = np.zeros_like(rs_null)\n",
    "for sid_ in range(n_subjs): \n",
    "    sid = str(sid_+1).zfill(2)\n",
    "    for iroi, (roi, roi_name) in enumerate(zip(rois, roi_names)):\n",
    "        y = get_ROIactivation(glob.glob(f'{mask_dir}/sub-{sid}/*region-{roi}*nii.gz')[0], z_maps[sid_, ...])\n",
    "\n",
    "        #Iterate through the different splits\n",
    "        y_pred = np.zeros((n_condpersplit, n_splits))\n",
    "        y_true = np.zeros((n_condpersplit, n_splits))\n",
    "        test_inds = np.zeros((n_condpersplit, n_splits), dtype='int')\n",
    "        for i, (train_index, test_index) in enumerate(kf.split(X)):\n",
    "            #Split the training and test data\n",
    "            X_train, X_test = control_model[train_index], control_model[test_index]\n",
    "            y_train, y_test = y[train_index], y[test_index]\n",
    "            \n",
    "            #save the current indices\n",
    "            test_inds[:, i] = test_index\n",
    "            y_true[:, i] = y_test\n",
    "        \n",
    "            #Prediction\n",
    "            y_pred[:, i] = regression_evc(X_train, y_train, X_test)\n",
    "        \n",
    "        r, p, r_null = permutation_test(y_pred.flatten(),\n",
    "                                   y_true.flatten(), test_inds)\n",
    "        r_var = bootstrap(y_pred.flatten(),\n",
    "                          y_true.flatten(), test_inds)\n",
    "        df = df.append({'Subjects': f'sub-{sid}',\n",
    "                        'Features': 'control model',\n",
    "                        'ROIs': roi_name, \n",
    "                        'Pearson r': r,\n",
    "                        'p value': p, \n",
    "                        'low sem': r-r_var.std(), \n",
    "                        'high sem': r+r_var.std(), \n",
    "                        'Explained variance': r ** 2},\n",
    "                        ignore_index=True)\n",
    "        rs[sid_, iroi] = r\n",
    "        rs_null[sid_, iroi, :] = r_null\n",
    "        rs_var[sid_, iroi, :] = r_var"
   ]
  },
  {
   "cell_type": "markdown",
   "id": "f1b864ac-7198-4b53-afbb-492aac8d7d0c",
   "metadata": {},
   "source": [
    "## Group p values"
   ]
  },
  {
   "cell_type": "code",
   "execution_count": 35,
   "id": "b8a93cc7-673a-4766-a120-511d60b852d9",
   "metadata": {},
   "outputs": [],
   "source": [
    "df['subj sig'] = df['p value'] < 0.05"
   ]
  },
  {
   "cell_type": "code",
   "execution_count": 36,
   "id": "f2e01785-83ad-4060-a19d-57e5bfca7f05",
   "metadata": {},
   "outputs": [],
   "source": [
    "df['group_p_value'] = 0 \n",
    "\n",
    "rs_avg = rs.mean(axis=0)\n",
    "rs_avg_null = rs_null.mean(axis=0)\n",
    "ps = np.zeros_like(rs_avg)\n",
    "for iroi, roi in enumerate(roi_names):\n",
    "    p = np.sum(np.abs(rs_avg_null[iroi, :]) >= np.abs(rs_avg[iroi])) / 5e3\n",
    "    ps[iroi] = p\n",
    "    df.loc[(df.ROIs == roi), 'group_p_value'] = p\n",
    "df['group sig'] = df['group_p_value'] < 0.05"
   ]
  },
  {
   "cell_type": "code",
   "execution_count": 37,
   "id": "7d359d0a-bc49-47d5-ac70-b248d45a075a",
   "metadata": {},
   "outputs": [],
   "source": [
    "df.to_csv('control_model_prediction.csv', index=False)"
   ]
  },
  {
   "cell_type": "markdown",
   "id": "ef22af09-3896-4c11-ab64-4e49e645eac0",
   "metadata": {},
   "source": [
    "## Plotting"
   ]
  },
  {
   "cell_type": "code",
   "execution_count": 38,
   "id": "df1e5ec3-e8d6-4f7e-9ee5-6c9994fdcef2",
   "metadata": {},
   "outputs": [
    {
     "data": {
      "image/png": "[encoded data removed]",
      "text/plain": [
       "<Figure size 432x360 with 1 Axes>"
      ]
     },
     "metadata": {},
     "output_type": "display_data"
    }
   ],
   "source": [
    "fig, ax = plt.subplots()\n",
    "sns.set(style='white', context='talk')\n",
    "sns.barplot(x='ROIs', y='Pearson r',\n",
    "           data=df, ax=ax, \n",
    "           color='gray', ci=None)\n",
    "\n",
    "for iroi, roi in enumerate(df.ROIs.unique()):\n",
    "    x = iroi\n",
    "    sig = df.loc[df.ROIs == roi, 'group sig'].reset_index(drop=True)[0]\n",
    "    p = df.loc[df.ROIs == roi, 'group_p_value'].reset_index(drop=True)[0]\n",
    "    if sig:\n",
    "        if p > 0.01:\n",
    "            text = '*'\n",
    "        elif p < 0.01 and p > 0.001:\n",
    "            text = '**'\n",
    "        elif p < 0.001:\n",
    "            text = '***'\n",
    "        ax.annotate(text, (x, 0.6), fontsize=20,\n",
    "                    weight='bold', ha='center', color='gray')\n",
    "    \n",
    "    #Plot error bars\n",
    "    y1 = df[(df.ROIs == roi)].mean()['low sem']\n",
    "    y2 = df[(df.ROIs == roi)].mean()['high sem']\n",
    "    plt.plot([x, x], [y1, y2], 'black', linewidth=2)\n",
    "    \n",
    "    #Plot noise ceiling\n",
    "    x = np.linspace(x-0.5, x+0.5, num=3)\n",
    "    y1 = np.ones_like(x)*noise_ceiling.loc[noise_ceiling.ROIs == roi, variable].tolist()[0]\n",
    "    ax.plot(x, y1, color='gray', alpha=0.5, linewidth=3)\n",
    "\n",
    "ax.set_ylabel('Prediction accuracy ($\\it{r}$)')\n",
    "sns.despine(left=True)\n",
    "ax.set_ylim([0, 0.65])\n",
    "plt.tight_layout()"
   ]
  },
  {
   "cell_type": "code",
   "execution_count": null,
   "id": "08b8c1bd-1241-430f-bf36-1acf5dc12e3a",
   "metadata": {},
   "outputs": [],
   "source": []
  }
 ],
 "metadata": {
  "kernelspec": {
   "display_name": "Python 3",
   "language": "python",
   "name": "python3"
  },
  "language_info": {
   "codemirror_mode": {
    "name": "ipython",
    "version": 3
   },
   "file_extension": ".py",
   "mimetype": "text/x-python",
   "name": "python",
   "nbconvert_exporter": "python",
   "pygments_lexer": "ipython3",
   "version": "3.6.13"
  }
 },
 "nbformat": 4,
 "nbformat_minor": 5
}
