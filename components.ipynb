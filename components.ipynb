{
 "cells": [
  {
   "cell_type": "code",
   "execution_count": 1,
   "id": "029b15b7-fee1-4eb9-a8aa-3c3797ac38e8",
   "metadata": {},
   "outputs": [
    {
     "name": "stderr",
     "output_type": "stream",
     "text": [
      "/Applications/anaconda3/envs/nilearn/lib/python3.6/site-packages/nilearn/datasets/__init__.py:89: FutureWarning: Fetchers from the nilearn.datasets module will be updated in version 0.9 to return python strings instead of bytes and Pandas dataframes instead of Numpy arrays.\n",
      "  \"Numpy arrays.\", FutureWarning)\n"
     ]
    }
   ],
   "source": [
    "import os\n",
    "\n",
    "import pandas as pd\n",
    "import numpy as np\n",
    "\n",
    "from sklearn.decomposition import PCA\n",
    "from sklearn.preprocessing import StandardScaler\n",
    "from sklearn.linear_model import LinearRegression\n",
    "\n",
    "import matplotlib.pyplot as plt\n",
    "import nibabel as nib\n",
    "from nilearn import plotting\n",
    "\n",
    "from statsmodels.regression.linear_model import OLS"
   ]
  },
  {
   "cell_type": "code",
   "execution_count": 2,
   "id": "b9b420ab-96dd-48dc-99b5-7cd49b4e2b48",
   "metadata": {},
   "outputs": [],
   "source": [
    "process = 'components'\n",
    "top_dir = '/Users/emcmaho7/Dropbox/projects/SI_fmri/fmri'\n",
    "data_dir = f'{top_dir}/input_data'\n",
    "out_dir = f'{top_dir}/output_data'\n",
    "figure_dir = f'{top_dir}/figures/{process}'\n",
    "if not os.path.exists(figure_dir):\n",
    "    os.mkdir(figure_dir)"
   ]
  },
  {
   "cell_type": "code",
   "execution_count": 3,
   "id": "14646aa4-e7d1-461d-85c6-fed2462f1187",
   "metadata": {},
   "outputs": [],
   "source": [
    "of = np.load(f'{out_dir}/of_activations/of_adelsonbergen.npy')\n",
    "alexnet = np.load(f'{out_dir}/alexnet_activations/alexnet_conv2_avgframe.npy')\n",
    "control = np.hstack([of, alexnet.T])\n",
    "control_scaled = StandardScaler().fit_transform(control)\n",
    "control_PCs = PCA(whiten=True, svd_solver='full', n_components=0.99).fit_transform(control_scaled)"
   ]
  },
  {
   "cell_type": "code",
   "execution_count": 4,
   "id": "bceba557-1675-4a57-a673-657b3954892b",
   "metadata": {},
   "outputs": [],
   "source": [
    "X = []\n",
    "mask = np.load(f'{out_dir}/group_reliability/sub-all_reliability-mask.npy').astype('bool')\n",
    "n_voxels = sum(mask)\n",
    "for sid_ in range(4):\n",
    "    sid = str(sid_+1).zfill(2)\n",
    "    betas = np.load(f'{out_dir}/grouped_runs/sub-{sid}/sub-{sid}_train-data.npy')\n",
    "    tot_voxels = betas.shape[0]\n",
    "\n",
    "    #Filter the beta values to the reliable voxels\n",
    "    betas = betas[mask, :]\n",
    "    \n",
    "    #Mean center the activation within subject\n",
    "    offset_subject = betas.mean()\n",
    "    betas -= offset_subject\n",
    "\n",
    "    if type(X) is list:\n",
    "        X = betas.T\n",
    "    else:\n",
    "        X = np.hstack([X, betas.T])\n",
    "X_scaled = StandardScaler().fit_transform(X)"
   ]
  },
  {
   "cell_type": "code",
   "execution_count": 5,
   "id": "fed568c1-3e08-4c0f-b2d6-db8c21153340",
   "metadata": {},
   "outputs": [],
   "source": [
    "# n = X_scaled.shape[0]\n",
    "# inds = np.zeros(n, dtype='bool')\n",
    "# inds[:int(n*0.8)] = 1\n",
    "# np.random.shuffle(inds)\n",
    "# X_train = X_scaled[inds, :]\n",
    "# X_test = X_scaled[~inds, :]"
   ]
  },
  {
   "cell_type": "code",
   "execution_count": 6,
   "id": "742a8e10-5e5c-4eba-95c3-74ba2b236d08",
   "metadata": {},
   "outputs": [],
   "source": [
    "ols = LinearRegression(fit_intercept=False).fit(control_PCs, X_scaled)\n",
    "residuals = X_scaled - ols.predict(control_PCs)"
   ]
  },
  {
   "cell_type": "code",
   "execution_count": 7,
   "id": "78f0ef54-2885-496e-9fc9-8b8e76bfbe74",
   "metadata": {},
   "outputs": [],
   "source": [
    "pca = PCA(whiten=True, svd_solver='full', n_components=0.8)\n",
    "videos_by_comp = pca.fit_transform(residuals)\n",
    "comp_by_voxels = pca.components_\n",
    "\n",
    "avg = comp_by_voxels.reshape((-1, 4, n_voxels)).mean(axis=-2)"
   ]
  },
  {
   "cell_type": "code",
   "execution_count": 8,
   "id": "e25dcd30-fe5b-4786-99ca-531b473faf17",
   "metadata": {},
   "outputs": [
    {
     "data": {
      "text/plain": [
       "[<matplotlib.lines.Line2D at 0x7fdfc114d0f0>]"
      ]
     },
     "execution_count": 8,
     "metadata": {},
     "output_type": "execute_result"
    },
    {
     "data": {
      "image/png": "[encoded data removed]",
      "text/plain": [
       "<Figure size 432x288 with 1 Axes>"
      ]
     },
     "metadata": {
      "needs_background": "light"
     },
     "output_type": "display_data"
    }
   ],
   "source": [
    "plt.plot(pca.explained_variance_ratio_.cumsum())"
   ]
  },
  {
   "cell_type": "code",
   "execution_count": 12,
   "id": "66ef081f-93f1-43cd-b1c6-67e01d7f5a34",
   "metadata": {},
   "outputs": [],
   "source": [
    "im = nib.load(f'{out_dir}/group_reliability/sub-all_stat-rho_statmap.nii.gz')\n",
    "for i in range(avg.shape[0]):\n",
    "    #Plot on the brain\n",
    "    outname = f'{figure_dir}/PC{str(i+1).zfill(2)}.pdf'\n",
    "    pc = np.zeros(tot_voxels)\n",
    "    pc[mask] = avg[i, ...]\n",
    "    out_im = nib.Nifti1Image(pc.reshape(im.shape), affine=im.affine)\n",
    "    plotting.plot_img_on_surf(out_im, inflate=True,\n",
    "                              threshold=avg[i, ...].mean(),\n",
    "                              output_file=outname,\n",
    "                              views=['lateral', 'medial', 'ventral'])\n",
    "    \n",
    "#     # Look at response by stim\n",
    "#     plt.bar(np.arange(0, 200), videos_by_comp[:, i])\n",
    "#     plt.show()"
   ]
  },
  {
   "cell_type": "code",
   "execution_count": 9,
   "id": "93f0611a-7612-402a-9ca3-b77dc401b614",
   "metadata": {},
   "outputs": [],
   "source": [
    "df = pd.read_csv(f'{data_dir}/annotations/annotations.csv')\n",
    "train = pd.read_csv(f'{data_dir}/annotations/train.csv')\n",
    "df = df.merge(train)\n",
    "df.sort_values(by=['video_name'], inplace=True)\n",
    "features = df.columns.to_list()\n",
    "features.remove('video_name')"
   ]
  },
  {
   "cell_type": "code",
   "execution_count": 18,
   "id": "2ecefdb3-1b77-4967-bf88-933a041ae66e",
   "metadata": {},
   "outputs": [],
   "source": [
    "d = pd.DataFrame()\n",
    "for feature in features:\n",
    "    for i in range(videos_by_comp.shape[-1]):\n",
    "        pc = f'PC{i+1}'\n",
    "        prod = np.abs(np.dot(df[feature],videos_by_comp[:, i]))\n",
    "        d = d.append({'feature': feature, 'pc': pc,\n",
    "                      'prod': prod},\n",
    "                     ignore_index=True)"
   ]
  },
  {
   "cell_type": "code",
   "execution_count": 30,
   "id": "9afeb116-8e07-4ff7-a1d2-c1b803a82572",
   "metadata": {},
   "outputs": [
    {
     "name": "stdout",
     "output_type": "stream",
     "text": [
      "           feature      prod\n",
      "28    transitivity  9.306080\n",
      "0           indoor  5.467026\n",
      "63        intimacy  4.329544\n",
      "56       dominance  3.918194\n",
      "70         valence  3.234328\n",
      "77         arousal  2.281035\n",
      "49     cooperation  2.192972\n",
      "35    joint action  0.898283\n",
      "7          expanse  0.570666\n",
      "14  agent distance  0.445439\n",
      "42   communication  0.263006\n",
      "21      facingness  0.139223\n",
      "\n",
      "           feature      prod\n",
      "22      facingness  6.766137\n",
      "36    joint action  5.711261\n",
      "29    transitivity  5.375471\n",
      "78         arousal  3.766730\n",
      "50     cooperation  2.748343\n",
      "57       dominance  2.685975\n",
      "64        intimacy  2.603749\n",
      "1           indoor  2.571770\n",
      "15  agent distance  2.184213\n",
      "8          expanse  1.791953\n",
      "71         valence  1.456204\n",
      "43   communication  0.643128\n",
      "\n",
      "           feature      prod\n",
      "30    transitivity  7.854922\n",
      "58       dominance  7.077635\n",
      "2           indoor  3.567632\n",
      "9          expanse  2.649621\n",
      "51     cooperation  2.455384\n",
      "79         arousal  2.044128\n",
      "72         valence  1.541850\n",
      "23      facingness  1.426330\n",
      "16  agent distance  1.344485\n",
      "37    joint action  0.878396\n",
      "65        intimacy  0.853331\n",
      "44   communication  0.811465\n",
      "\n",
      "           feature      prod\n",
      "59       dominance  5.364696\n",
      "38    joint action  4.895326\n",
      "52     cooperation  4.684432\n",
      "45   communication  3.077893\n",
      "73         valence  2.346050\n",
      "24      facingness  1.984114\n",
      "10         expanse  1.382429\n",
      "66        intimacy  1.381235\n",
      "31    transitivity  1.353189\n",
      "80         arousal  0.272527\n",
      "17  agent distance  0.133837\n",
      "3           indoor  0.082068\n",
      "\n",
      "           feature      prod\n",
      "60       dominance  7.616511\n",
      "74         valence  6.663018\n",
      "46   communication  4.935102\n",
      "39    joint action  3.449958\n",
      "67        intimacy  3.287590\n",
      "18  agent distance  2.663115\n",
      "11         expanse  2.121655\n",
      "4           indoor  1.858796\n",
      "53     cooperation  0.780770\n",
      "25      facingness  0.592699\n",
      "81         arousal  0.203774\n",
      "32    transitivity  0.019768\n",
      "\n",
      "           feature      prod\n",
      "26      facingness  8.208737\n",
      "61       dominance  5.091827\n",
      "33    transitivity  4.623319\n",
      "47   communication  2.958607\n",
      "68        intimacy  2.608621\n",
      "40    joint action  2.116594\n",
      "5           indoor  2.087317\n",
      "12         expanse  0.986478\n",
      "82         arousal  0.938447\n",
      "19  agent distance  0.886183\n",
      "54     cooperation  0.486394\n",
      "75         valence  0.215899\n",
      "\n",
      "           feature      prod\n",
      "83         arousal  4.710388\n",
      "55     cooperation  3.897437\n",
      "27      facingness  3.614756\n",
      "34    transitivity  3.137963\n",
      "76         valence  3.126875\n",
      "6           indoor  1.946682\n",
      "41    joint action  1.605146\n",
      "69        intimacy  1.014872\n",
      "48   communication  0.970537\n",
      "13         expanse  0.243945\n",
      "20  agent distance  0.055742\n",
      "62       dominance  0.046927\n",
      "\n"
     ]
    }
   ],
   "source": [
    "for i in range(videos_by_comp.shape[-1]):\n",
    "    print(d[d.pc == f'PC{i+1}'].drop(columns=['pc']).sort_values(by='prod', ascending=False))\n",
    "    print()"
   ]
  },
  {
   "cell_type": "code",
   "execution_count": null,
   "id": "61edd9eb-29e1-4599-a95b-1ea6dd1a2d8e",
   "metadata": {},
   "outputs": [],
   "source": []
  }
 ],
 "metadata": {
  "kernelspec": {
   "display_name": "Python 3",
   "language": "python",
   "name": "python3"
  },
  "language_info": {
   "codemirror_mode": {
    "name": "ipython",
    "version": 3
   },
   "file_extension": ".py",
   "mimetype": "text/x-python",
   "name": "python",
   "nbconvert_exporter": "python",
   "pygments_lexer": "ipython3",
   "version": "3.6.13"
  }
 },
 "nbformat": 4,
 "nbformat_minor": 5
}
