{
 "cells": [
  {
   "cell_type": "code",
   "execution_count": 1,
   "id": "585e8cea-aeca-4e34-8997-e318a00efa1c",
   "metadata": {},
   "outputs": [
    {
     "name": "stderr",
     "output_type": "stream",
     "text": [
      "/Applications/anaconda3/envs/nilearn/lib/python3.6/site-packages/nilearn/datasets/__init__.py:89: FutureWarning: Fetchers from the nilearn.datasets module will be updated in version 0.9 to return python strings instead of bytes and Pandas dataframes instead of Numpy arrays.\n",
      "  \"Numpy arrays.\", FutureWarning)\n"
     ]
    }
   ],
   "source": [
    "import os\n",
    "import glob\n",
    "from natsort import natsorted\n",
    "from tqdm import tqdm\n",
    "import itertools\n",
    "\n",
    "import pandas as pd\n",
    "import numpy as np\n",
    "\n",
    "from nilearn import image, plotting, datasets, surface\n",
    "import nibabel as nib\n",
    "from matplotlib.offsetbox import OffsetImage, AnnotationBbox\n",
    "\n",
    "import matplotlib.pyplot as plt\n",
    "import seaborn as sns\n",
    "\n",
    "from sklearn.metrics.pairwise import euclidean_distances\n",
    "from scipy.stats import spearmanr, sem\n",
    "from sklearn.manifold import MDS\n",
    "\n",
    "import imageio"
   ]
  },
  {
   "cell_type": "markdown",
   "id": "c4ccced6-9bb7-4dc9-a14e-1bad5b3c041d",
   "metadata": {},
   "source": [
    "# Functions"
   ]
  },
  {
   "cell_type": "code",
   "execution_count": 2,
   "id": "35ce65f3-4895-4705-ba55-31b12178b32b",
   "metadata": {},
   "outputs": [],
   "source": [
    "def plot_mds(out_name, images, mds):\n",
    "    fig, ax = plt.subplots(figsize=(20,20), dpi=80)\n",
    "    x, y = mds[:,0], mds[:,1]\n",
    "    ax.scatter(x, y) \n",
    "    for x0, y0, image in zip(x, y, images):\n",
    "        ab = AnnotationBbox(OffsetImage(image, zoom=0.1), (x0, y0), frameon=False)\n",
    "        ax.add_artist(ab)\n",
    "    plt.axis('off')\n",
    "    plt.savefig(out_name)\n",
    "    plt.close()"
   ]
  },
  {
   "cell_type": "code",
   "execution_count": 3,
   "id": "8d73ca34-a842-4099-838d-14d44420e01a",
   "metadata": {},
   "outputs": [],
   "source": [
    "def compute_rdm(data, flat=True):\n",
    "    std = data.std(axis=0) != 0\n",
    "    data = data[:, std]\n",
    "    rdm = 1 - np.corrcoef(data)\n",
    "    if flat: \n",
    "        rows, cols = np.tril_indices(len(rdm))\n",
    "        rdm = rdm[rows, cols]\n",
    "    return rdm"
   ]
  },
  {
   "cell_type": "markdown",
   "id": "e411639b-d060-4610-9f50-2855051cd912",
   "metadata": {},
   "source": [
    "# Set up paths"
   ]
  },
  {
   "cell_type": "code",
   "execution_count": 4,
   "id": "a13c3eb4-cc2f-491d-8321-0a1e7a72ae98",
   "metadata": {},
   "outputs": [],
   "source": [
    "bids_dir = '/Users/emcmaho7/Desktop/SI_fMRI'\n",
    "derivatives_dir = f'{bids_dir}/derivatives'\n",
    "nilearn_dir = f'{derivatives_dir}/nilearn'\n",
    "reliability_dir = f'{derivatives_dir}/reliability'\n",
    "mask_dir = f'{derivatives_dir}/ROI_masks'\n",
    "rsa_dir = f'{derivatives_dir}/RSA'\n",
    "fsaverage = datasets.fetch_surf_fsaverage()"
   ]
  },
  {
   "cell_type": "markdown",
   "id": "7499fa36-6b04-4937-bfbc-5a83a70293e7",
   "metadata": {
    "tags": []
   },
   "source": [
    "# Loading"
   ]
  },
  {
   "cell_type": "markdown",
   "id": "b518d5d1-e6eb-4ae9-92a2-3f225bbcdbda",
   "metadata": {},
   "source": [
    "## Features"
   ]
  },
  {
   "cell_type": "markdown",
   "id": "37e7ddfd-6c61-4d9a-9931-c3e3e5fa9101",
   "metadata": {
    "tags": []
   },
   "source": [
    "### AlexNet"
   ]
  },
  {
   "cell_type": "code",
   "execution_count": 5,
   "id": "8bf64794-9191-41b6-9193-c5f45a7d59c0",
   "metadata": {},
   "outputs": [],
   "source": [
    "features = []\n",
    "categories = []\n",
    "feature_rdms = []\n",
    "for layer in [1, 5]:\n",
    "    alexnet = np.load(f'alexnet_conv{layer}_avgframe.npy')\n",
    "    features.append(f'AlexNet conv{layer}')\n",
    "    categories.append('visual')\n",
    "    alexnet_rdm = compute_rdm(alexnet.T)\n",
    "    feature_rdms.append(alexnet_rdm)"
   ]
  },
  {
   "cell_type": "markdown",
   "id": "10822c1e-0a2c-47c6-8784-46a0385aa9da",
   "metadata": {},
   "source": [
    "### Optic Flow"
   ]
  },
  {
   "cell_type": "code",
   "execution_count": 6,
   "id": "5dd6c2cc-d3d7-4504-86f3-c3eda7453aaf",
   "metadata": {},
   "outputs": [],
   "source": [
    "features.append(f'optic flow')\n",
    "categories.append('visual')\n",
    "of_rdm = compute_rdm(np.load(f'opticflow.npy'))\n",
    "feature_rdms.append(of_rdm)"
   ]
  },
  {
   "cell_type": "markdown",
   "id": "6e0cc0a2-393d-4825-8765-49dc379884ec",
   "metadata": {},
   "source": [
    "### Rated features"
   ]
  },
  {
   "cell_type": "code",
   "execution_count": 7,
   "id": "66e1fdee-ddc8-4109-b982-8c4dc39c4c5e",
   "metadata": {},
   "outputs": [],
   "source": [
    "bdf = pd.read_csv('/Users/emcmaho7/Dropbox/projects/SI_fmri/experiment/SIdyads_presentation/train_features.csv')\n",
    "bdf.sort_values(by=['video_name'], inplace=True)\n",
    "categories.extend(['visual', 'visual',  'visual', 'visual',\n",
    "            'social detection', 'social detection',\n",
    "            'social evaluation', 'social evaluation', 'social evaluation', 'social evaluation', 'social evaluation'])\n",
    "bdf_features = ['indoor', 'expanse_videos', 'distance', 'object', \n",
    "            'joint_videos', 'communicating',\n",
    "            'cooperation', 'dominance', 'relation', 'valence', 'arousal']\n",
    "features.extend(['indoor', 'expanse', 'agent distance', 'transitivity', \n",
    "            'joint action', 'communicating',\n",
    "            'cooperation', 'dominance', 'relation', 'valence', 'arousal'])\n",
    "\n",
    "for feature in bdf_features:\n",
    "    vec = np.expand_dims(bdf[feature].to_numpy(), axis=1)\n",
    "    rdm = euclidean_distances(vec)\n",
    "    rows, cols = np.tril_indices(len(rdm))\n",
    "    feature_rdms.append(rdm[rows, cols])"
   ]
  },
  {
   "cell_type": "markdown",
   "id": "f9abb9cf-ea76-41df-94de-cbb95bbd61b4",
   "metadata": {
    "tags": []
   },
   "source": [
    "## Video frames"
   ]
  },
  {
   "cell_type": "code",
   "execution_count": 8,
   "id": "9ca47397-894c-4325-9ca7-c7d92bbd685f",
   "metadata": {},
   "outputs": [
    {
     "name": "stderr",
     "output_type": "stream",
     "text": [
      "100%|██████████| 200/200 [00:14<00:00, 14.10it/s]\n"
     ]
    }
   ],
   "source": [
    "vid_dir = '/Users/emcmaho7/Dropbox/projects/SI_fmri/experiment/SIdyads_presentation/social_dyad_videos_500ms/videos'\n",
    "frames = []\n",
    "names = []\n",
    "for vid in tqdm(bdf.video_name, total=len(bdf)):\n",
    "    names.append(vid.split('.mp4')[0])\n",
    "    vid = imageio.get_reader(f'{vid_dir}/{vid}', 'ffmpeg')\n",
    "    frames.append(vid.get_data(0))"
   ]
  },
  {
   "cell_type": "markdown",
   "id": "572ecb25-3253-4bc5-a0bc-e03d466fcc81",
   "metadata": {},
   "source": [
    "## Zmaps"
   ]
  },
  {
   "cell_type": "code",
   "execution_count": 9,
   "id": "75e82422-6ce8-4ebe-99e4-47bf26f57415",
   "metadata": {},
   "outputs": [],
   "source": [
    "fname = f'{nilearn_dir}/sub-all_task-SIdyads_desc-train_stat-z_statmap.npy'\n",
    "z_maps = np.load(fname)\n",
    "n_subjs = z_maps.shape[0]"
   ]
  },
  {
   "cell_type": "markdown",
   "id": "101d6fd9-052b-48b5-a720-f77e50fe8c12",
   "metadata": {},
   "source": [
    "## Rhos"
   ]
  },
  {
   "cell_type": "code",
   "execution_count": null,
   "id": "54719275-51bf-47df-a60d-c9c05a5ff86f",
   "metadata": {},
   "outputs": [],
   "source": [
    "def plot_on_surface(rho_map, fsaverage, sid, out_dir):\n",
    "    #Right hemisphere\n",
    "    hemi = 'right'\n",
    "    texture = surface.vol_to_surf(rho_map, fsaverage.pial_right)\n",
    "    for view in ['lateral', 'ventral', 'medial']:\n",
    "        out_name = f'{out_dir}/sub-{sid}_desc-train_stat-rho_view-{view}_hemi-{hemi}.pdf'\n",
    "        plotting.plot_surf_stat_map(fsaverage.infl_right, texture, hemi=hemi,\n",
    "                                    colorbar=True, threshold=0.139,\n",
    "                                    bg_map=fsaverage.sulc_right,\n",
    "                                    view=view, output_file=out_name)\n",
    "\n",
    "    #Left hemisphere\n",
    "    hemi = 'left'\n",
    "    texture = surface.vol_to_surf(rho_map, fsaverage.pial_left)\n",
    "    for view in ['lateral', 'ventral', 'medial']:\n",
    "        out_name = f'{out_dir}/sub-{sid}_desc-train_stat-rho_view-{view}_hemi-{hemi}.pdf'\n",
    "        plotting.plot_surf_stat_map(fsaverage.infl_left, texture, hemi=hemi,\n",
    "                                    colorbar=True, threshold=0.139,\n",
    "                                    bg_map=fsaverage.sulc_left,\n",
    "                                view=view, output_file=out_name)"
   ]
  },
  {
   "cell_type": "code",
   "execution_count": null,
   "id": "156f1100-3ae4-45dd-b891-3821491b29e2",
   "metadata": {},
   "outputs": [],
   "source": [
    "fname = f'{nilearn_dir}/sub-all_task-SIdyads_desc-train_stat-rho_statmap.npy'\n",
    "rho_maps = np.load(fname)"
   ]
  },
  {
   "cell_type": "code",
   "execution_count": null,
   "id": "a274f387-dedb-43f4-9dc1-29530ea7ccbf",
   "metadata": {},
   "outputs": [],
   "source": [
    "affine = np.array([[   1.92900002,    0.        ,    0.        ,  -96.5       ],\n",
    "       [   0.        ,    1.92900002,    0.        , -132.5       ],\n",
    "       [   0.        ,    0.        ,    2.        ,  -78.5       ],\n",
    "       [   0.        ,    0.        ,    0.        ,    1.        ]])\n",
    "shape = (101, 120, 97)"
   ]
  },
  {
   "cell_type": "code",
   "execution_count": null,
   "id": "dc0b1b99-771c-4b3d-8d0f-e49618812351",
   "metadata": {},
   "outputs": [
    {
     "name": "stderr",
     "output_type": "stream",
     "text": [
      "/Applications/anaconda3/envs/nilearn/lib/python3.6/site-packages/nilearn/surface/surface.py:467: RuntimeWarning: Mean of empty slice\n",
      "  texture = np.nanmean(all_samples, axis=2)\n",
      "/Applications/anaconda3/envs/nilearn/lib/python3.6/site-packages/nilearn/surface/surface.py:467: RuntimeWarning: Mean of empty slice\n",
      "  texture = np.nanmean(all_samples, axis=2)\n"
     ]
    }
   ],
   "source": [
    "rho_map = nib.Nifti1Image(rho_maps.mean(axis=0).reshape(shape), affine)\n",
    "plot_on_surface(rho_map, fsaverage, 'all', reliability_dir)"
   ]
  },
  {
   "cell_type": "markdown",
   "id": "f1e5c775-f883-4a2b-8df2-8aebec5ea613",
   "metadata": {
    "tags": []
   },
   "source": [
    "# Cross-subject Reliability"
   ]
  },
  {
   "cell_type": "code",
   "execution_count": 14,
   "id": "a71cdc52-a3cf-4642-aa01-896a56b061cc",
   "metadata": {},
   "outputs": [],
   "source": [
    "rois = ['EVC', 'MT', 'EBA', 'PPA', 'TOS', 'RSC', 'LOC',  'FFA', 'OFA', 'faceSTS', 'biomotion', 'SIpSTS', 'TPJ', 'DMPFC']\n",
    "roi_names = ['EVC', 'MT', 'EBA', 'PPA', 'OPA', 'RSC', 'LOC',  'FFA', 'OFA', 'faceSTS', 'biomotion', 'SIpSTS', 'TPJ', 'DMPFC']"
   ]
  },
  {
   "cell_type": "code",
   "execution_count": 15,
   "id": "6cf55796-ebbe-4f28-b91e-b0f39c6eee34",
   "metadata": {},
   "outputs": [],
   "source": [
    "lower_all = []\n",
    "upper_all = []\n",
    "for roi, roi_name in zip(rois, roi_names):\n",
    "    rdm = np.zeros((of_rdm.shape[0], 4))\n",
    "    for sid_ in range(n_subjs): \n",
    "        sid = str(sid_+1).zfill(2)\n",
    "        #activity in ROI\n",
    "        mask = image.load_img(glob.glob(f'{mask_dir}/sub-{sid}/*region-{roi}*nii.gz')[0])\n",
    "        mask = np.array(mask.dataobj, dtype='bool').flatten()\n",
    "        roi_activation = z_maps[sid_, mask, :]\n",
    "\n",
    "        #Remove nan values (these are voxels that do not vary across the different videos)\n",
    "        inds = ~np.any(np.isnan(roi_activation), axis=1)\n",
    "        roi_activation = roi_activation[inds, ...]\n",
    "\n",
    "        #RDM\n",
    "        rdm[..., sid_] = compute_rdm(roi_activation.T)\n",
    "    \n",
    "    cur_lower = []\n",
    "    cur_upper = []\n",
    "    for sid_ in range(n_subjs): \n",
    "        #define the indices for the lower bound\n",
    "        inds = np.arange(n_subjs, dtype='int')\n",
    "        inds = np.append(inds[:sid_], inds[sid_+1:])\n",
    "\n",
    "        #compute the current lower (exclusive) and upper (inclusive) bounds\n",
    "        lower, _ = spearmanr(rdm[..., inds].mean(axis=-1), rdm[..., sid_])\n",
    "        upper, _ = spearmanr(rdm.mean(axis=-1), rdm[..., sid_])\n",
    "        \n",
    "        cur_lower.append(lower)\n",
    "        cur_upper.append(upper)\n",
    "        \n",
    "    lower_all.append(cur_lower)\n",
    "    upper_all.append(cur_upper)"
   ]
  },
  {
   "cell_type": "code",
   "execution_count": 16,
   "id": "6efca434-2ad3-4a6a-b104-7eb6f660ce06",
   "metadata": {},
   "outputs": [
    {
     "data": {
      "image/png": "[encoded data removed]",
      "text/plain": [
       "<Figure size 432x288 with 1 Axes>"
      ]
     },
     "metadata": {},
     "output_type": "display_data"
    }
   ],
   "source": [
    "subjects = [f'sub-{i+1:02d}' for i in range(n_subjs)]\n",
    "\n",
    "lower_all = np.array(lower_all)\n",
    "df = pd.DataFrame(lower_all.T, columns=roi_names, index=subjects)\n",
    "df.reset_index(inplace=True)\n",
    "df.rename(columns={'index': 'Subjects'}, inplace=True)\n",
    "df = pd.melt(df, id_vars='Subjects', \n",
    "         var_name='ROIs',\n",
    "         value_vars=roi_names, value_name='Spearman rho')\n",
    "\n",
    "sns.set(style='white', context='paper')\n",
    "fig, ax = plt.subplots()\n",
    "sns.barplot(x='ROIs', y='Spearman rho',\n",
    "        data=df, ax=ax, color='#ADDDF2')\n",
    "# g = sns.stripplot(x='ROIs', y='Spearman rho', \n",
    "#               data=df, ax=ax,\n",
    "#               size=8,\n",
    "#               color='#0F2357')\n",
    "ax.set_xticklabels(ax.get_xticklabels(),rotation=45)\n",
    "# sns.move_legend(g, 'upper left', bbox_to_anchor=(1, 1))\n",
    "ax.set_ylim([0, 0.75])\n",
    "sns.despine(left=True)\n",
    "plt.tight_layout()"
   ]
  },
  {
   "cell_type": "code",
   "execution_count": 17,
   "id": "55e37ffc-2dfc-4f04-87c3-af0de4dec030",
   "metadata": {},
   "outputs": [],
   "source": [
    "noise_ceiling = pd.DataFrame()\n",
    "for cur, bound in zip([upper_all, lower_all], ['upper', 'lower']):\n",
    "    cur = np.array(cur)\n",
    "    cur = pd.DataFrame(cur.T, columns=roi_names, index=subjects)\n",
    "    cur.reset_index(inplace=True)\n",
    "    cur.rename(columns={'index': 'Subjects'}, inplace=True)\n",
    "    cur = pd.melt(cur, id_vars='Subjects', \n",
    "             var_name='ROIs',\n",
    "             value_vars=roi_names, value_name='Spearman rho')\n",
    "    cur['bound'] = bound\n",
    "    noise_ceiling = noise_ceiling.append(cur).reset_index(drop=True)\n",
    "noise_ceiling = noise_ceiling.groupby(['ROIs', 'bound']).mean().reset_index()"
   ]
  },
  {
   "cell_type": "markdown",
   "id": "e9bd57d4-9d29-429e-aa93-0d3d1e1c9b56",
   "metadata": {},
   "source": [
    "# Within subject reliability"
   ]
  },
  {
   "cell_type": "code",
   "execution_count": 18,
   "id": "454a6c8a-3d3d-474c-9e86-4f7ec92242aa",
   "metadata": {},
   "outputs": [],
   "source": [
    "within = pd.DataFrame()\n",
    "for roi, roi_name in zip(rois, roi_names):\n",
    "    for sid_ in range(n_subjs): \n",
    "        sid = str(sid_+1).zfill(2)\n",
    "        #activity in ROI\n",
    "        mask = image.load_img(glob.glob(f'{mask_dir}/sub-{sid}/*region-{roi}*nii.gz')[0])\n",
    "        mask = np.array(mask.dataobj, dtype='bool').flatten()\n",
    "        roi_activation = z_maps[sid_, mask, :]\n",
    "        rhos = rho_maps[sid_, mask]\n",
    "\n",
    "        #Remove nan values (these are voxels that do not vary across the different videos)\n",
    "        inds = ~np.any(np.isnan(roi_activation), axis=1)\n",
    "        \n",
    "        within = within.append({'Subjects': f'sub-{sid}',\n",
    "                               'ROIs': roi_name, \n",
    "                               'Spearman rho': rhos[inds].mean()}, ignore_index=True)"
   ]
  },
  {
   "cell_type": "code",
   "execution_count": 19,
   "id": "2dc7c2ea-956b-4750-a428-a84ff1a34cc7",
   "metadata": {},
   "outputs": [
    {
     "data": {
      "image/png": "[encoded data removed]",
      "text/plain": [
       "<Figure size 432x288 with 1 Axes>"
      ]
     },
     "metadata": {},
     "output_type": "display_data"
    }
   ],
   "source": [
    "sns.set(style='white', context='paper')\n",
    "fig, ax = plt.subplots()\n",
    "sns.barplot(x='ROIs', y='Spearman rho',\n",
    "        data=within, ax=ax, color='#ADDDF2')\n",
    "# g = sns.stripplot(x='ROIs', y='Spearman rho', \n",
    "#               hue='Subjects',\n",
    "#               data=within, ax=ax,\n",
    "#               size=8,\n",
    "#               palette=sns.color_palette('cubehelix', 6))\n",
    "ax.set_xticklabels(ax.get_xticklabels(),rotation=45)\n",
    "# sns.move_legend(g, 'upper left', bbox_to_anchor=(1, 1))\n",
    "ax.set_ylim([0, 0.75])\n",
    "sns.despine(left=True)\n",
    "plt.tight_layout()"
   ]
  },
  {
   "cell_type": "markdown",
   "id": "86678f5c-60e7-439f-9269-fed53e0e40ff",
   "metadata": {
    "tags": []
   },
   "source": [
    "# ROI RSA Multivariate"
   ]
  },
  {
   "cell_type": "code",
   "execution_count": 20,
   "id": "4840c5fe-a8b6-43ae-9b7f-5bde9bd144f2",
   "metadata": {},
   "outputs": [],
   "source": [
    "df = pd.DataFrame()\n",
    "for sid_ in range(n_subjs): \n",
    "    sid = str(sid_+1).zfill(2)\n",
    "    for roi, roi_name in zip(rois, roi_names):\n",
    "        #activity in ROI\n",
    "        mask = image.load_img(glob.glob(f'{mask_dir}/sub-{sid}/*region-{roi}*nii.gz')[0])\n",
    "        mask = np.array(mask.dataobj, dtype='bool').flatten()\n",
    "        roi_activation = z_maps[sid_, mask, :]\n",
    "        \n",
    "        #Remove nan values (these are voxels that do not vary across the different videos)\n",
    "        inds = ~np.any(np.isnan(roi_activation), axis=1)\n",
    "        roi_activation = roi_activation[inds, ...]\n",
    "        \n",
    "        #RDM and MDS\n",
    "        rdm = compute_rdm(roi_activation.T)\n",
    "        \n",
    "        #RSA\n",
    "        rhos = []\n",
    "        for category, (feature, feature_rdm) in zip(categories, zip(features, feature_rdms)):\n",
    "            rho, _ = spearmanr(rdm, feature_rdm)\n",
    "            df = df.append({'Subjects': f'sub-{sid}',\n",
    "                            'ROIs': roi_name,\n",
    "                            'Features': feature,\n",
    "                            'Category': category,\n",
    "                            'Spearman rho': rho},\n",
    "                           ignore_index=True)"
   ]
  },
  {
   "cell_type": "code",
   "execution_count": 21,
   "id": "bc3f975e-3ca1-4d6f-aa54-1c5a35d0cbb7",
   "metadata": {},
   "outputs": [],
   "source": [
    "colors = ['#48D4E1', '#8C55FD', '#FADC00']\n",
    "cmap = sns.color_palette(colors, as_cmap=True)"
   ]
  },
  {
   "cell_type": "code",
   "execution_count": 22,
   "id": "0e821b43-50fb-48f2-8221-eaa769366fe7",
   "metadata": {},
   "outputs": [],
   "source": [
    "for roi in df.ROIs.unique():\n",
    "    #Get current ROI data frame\n",
    "    cur = df[df.ROIs == roi]\n",
    "\n",
    "    #Set up figures\n",
    "    sns.set(style='white', context='paper')\n",
    "    fig, ax = plt.subplots()\n",
    "\n",
    "    #Plot bars and dots\n",
    "    g = sns.barplot(x='Features', y='Spearman rho',\n",
    "                data=cur, ax=ax, \n",
    "                hue='Category',\n",
    "                palette=cmap,\n",
    "                dodge=False)\n",
    "    sns.stripplot(x='Features', y='Spearman rho', \n",
    "                      data=cur, ax=ax, color='gray')\n",
    "\n",
    "    #Plot noise ceiling\n",
    "    x = np.arange(-1, len(ax.get_xticklabels())+1)\n",
    "    y1 = np.ones_like(x)*noise_ceiling.loc[(noise_ceiling.ROIs == roi) & (noise_ceiling.bound == 'lower'), 'Spearman rho'].tolist()[0]\n",
    "    #     y2 = np.ones_like(x)*noise_ceiling.loc[(noise_ceiling.ROIs == roi) & (noise_ceiling.bound == 'upper'), 'Spearman rho'].tolist()[0]\n",
    "    ax.plot(x, y1, color='gray', alpha=0.5, linewidth=3)\n",
    "\n",
    "    # #Aesthetics\n",
    "    ax.set_xticklabels(ax.get_xticklabels(), rotation=90, ha='center', fontsize=14)\n",
    "    ax.set_xlabel(\"\")\n",
    "    ax.set_ylabel('Spearman rho', fontsize=14)\n",
    "    ax.tick_params(axis='y', labelsize=12)\n",
    "    ax.set_xlim([-1, len(ax.get_xticklabels())])\n",
    "    sns.despine(left=True)\n",
    "    plt.title(roi, fontsize=18)\n",
    "    plt.tight_layout()\n",
    "    plt.legend([],[], frameon=False)\n",
    "    plt.savefig(f'{rsa_dir}/sub-all_region-{roi}_bars.pdf')\n",
    "    plt.close()\n",
    "    \n",
    "#     ps = []\n",
    "#     ts = []\n",
    "#     for feature in features:\n",
    "#         f = cur[cur.Features == feature]\n",
    "#         t, p = ttest_1samp(f['Spearman rho'], popmean=0)\n",
    "#         ps.append(p)\n",
    "#         ts.append(t)\n",
    "#     result = multipletests(ps, method='fdr_bh')\n",
    "#     ps_corrected = result[1]\n",
    "#     ps_bool = result[0]\n",
    "    \n",
    "#     for p, feature in zip(ps_bool, features):\n",
    "#         if not p:\n",
    "#             print(f'ROI: {roi}, feature: {feature}')"
   ]
  },
  {
   "cell_type": "markdown",
   "id": "94cdc38e-0d43-470c-9999-ba13de90a05e",
   "metadata": {
    "tags": []
   },
   "source": [
    "# ROI RSA Univariate"
   ]
  },
  {
   "cell_type": "code",
   "execution_count": 23,
   "id": "141e8cfa-1315-4f0a-a522-3badecbc9b22",
   "metadata": {},
   "outputs": [],
   "source": [
    "df = pd.DataFrame()\n",
    "for sid_ in range(n_subjs): \n",
    "    sid = str(sid_+1).zfill(2)\n",
    "    for roi, roi_name in zip(rois, roi_names):\n",
    "        #activity in ROI\n",
    "        mask = image.load_img(glob.glob(f'{mask_dir}/sub-{sid}/*region-{roi}*nii.gz')[0])\n",
    "        mask = np.array(mask.dataobj, dtype='bool').flatten()\n",
    "        roi_activation = z_maps[sid_, mask, :]\n",
    "        \n",
    "        #Remove nan values (these are voxels that do not vary across the different videos)\n",
    "        inds = ~np.any(np.isnan(roi_activation), axis=1)\n",
    "        roi_activation = roi_activation[inds, ...]\n",
    "        \n",
    "        #RDM and MDS\n",
    "        vec = np.expand_dims(roi_activation.mean(axis=0), axis=1)\n",
    "        rdm = euclidean_distances(vec)\n",
    "        rows, cols = np.tril_indices(len(rdm))\n",
    "        rdm = rdm[rows, cols]\n",
    "        \n",
    "        #RSA\n",
    "        rhos = []\n",
    "        for category, (feature, feature_rdm) in zip(categories, zip(features, feature_rdms)):\n",
    "            rho, _ = spearmanr(rdm, feature_rdm)\n",
    "            df = df.append({'Subjects': f'sub-{sid}',\n",
    "                            'ROIs': roi_name,\n",
    "                            'Features': feature,\n",
    "                            'Category': category,\n",
    "                            'Spearman rho': rho},\n",
    "                           ignore_index=True)"
   ]
  },
  {
   "cell_type": "code",
   "execution_count": 24,
   "id": "34d8df9c-5c7a-4122-97bb-ed9737ff002c",
   "metadata": {},
   "outputs": [],
   "source": [
    "colors = ['#48D4E1', '#8C55FD', '#FADC00']\n",
    "cmap = sns.color_palette(colors, as_cmap=True)"
   ]
  },
  {
   "cell_type": "code",
   "execution_count": 26,
   "id": "5b17615e-afd4-4e3b-a1ce-64bdef9bd22b",
   "metadata": {},
   "outputs": [],
   "source": [
    "for roi in df.ROIs.unique():\n",
    "    #Get current ROI data frame\n",
    "    cur = df[df.ROIs == roi]\n",
    "\n",
    "    #Set up figures\n",
    "    sns.set(style='white', context='paper')\n",
    "    fig, ax = plt.subplots()\n",
    "\n",
    "    #Plot bars and dots\n",
    "    g = sns.barplot(x='Features', y='Spearman rho',\n",
    "                data=cur, ax=ax, \n",
    "                hue='Category',\n",
    "                palette=cmap,\n",
    "                dodge=False)\n",
    "    sns.stripplot(x='Features', y='Spearman rho', \n",
    "                      data=cur, ax=ax, color='gray')\n",
    "\n",
    "    #Plot noise ceiling\n",
    "    x = np.arange(-1, len(ax.get_xticklabels())+1)\n",
    "    y1 = np.ones_like(x)*noise_ceiling.loc[(noise_ceiling.ROIs == roi) & (noise_ceiling.bound == 'lower'), 'Spearman rho'].tolist()[0]\n",
    "    #     y2 = np.ones_like(x)*noise_ceiling.loc[(noise_ceiling.ROIs == roi) & (noise_ceiling.bound == 'upper'), 'Spearman rho'].tolist()[0]\n",
    "    ax.plot(x, y1, color='gray', alpha=0.5, linewidth=3)\n",
    "\n",
    "    # #Aesthetics\n",
    "    ax.set_xticklabels(ax.get_xticklabels(), rotation=90, ha='center', fontsize=14)\n",
    "    ax.set_xlabel(\"\")\n",
    "    ax.set_ylabel('Spearman rho', fontsize=14)\n",
    "    ax.tick_params(axis='y', labelsize=12)\n",
    "    ax.set_xlim([-1, len(ax.get_xticklabels())])\n",
    "    sns.despine(left=True)\n",
    "    plt.title(roi, fontsize=18)\n",
    "    plt.tight_layout()\n",
    "    plt.legend([],[], frameon=False)\n",
    "    plt.savefig(f'{rsa_dir}/sub-all_region-{roi}_bars_univariate.pdf')\n",
    "    plt.close()"
   ]
  },
  {
   "cell_type": "markdown",
   "id": "afe76ef2-3b55-458d-b3a3-42224336b191",
   "metadata": {},
   "source": [
    "# MDS"
   ]
  },
  {
   "cell_type": "code",
   "execution_count": null,
   "id": "70d2bc8d-cbde-487f-8218-485d17d6051c",
   "metadata": {},
   "outputs": [],
   "source": [
    "from sklearn.manifold import TSNE"
   ]
  },
  {
   "cell_type": "code",
   "execution_count": null,
   "id": "610e3b88-be1e-4c88-abab-b2ed70382e4a",
   "metadata": {},
   "outputs": [],
   "source": [
    "# for roi, roi_name in zip(rois, roi_names):\n",
    "#     rdm = np.zeros((200, 200, 4))\n",
    "#     for sid_ in range(n_subjs): \n",
    "#         sid = str(sid_+1).zfill(2)\n",
    "#         #activity in ROI\n",
    "#         mask = image.load_img(glob.glob(f'{mask_dir}/sub-{sid}/*region-{roi}*nii.gz')[0])\n",
    "#         mask = np.array(mask.dataobj, dtype='bool').flatten()\n",
    "#         roi_activation = z_maps[sid_, mask, :]\n",
    "\n",
    "#         #Remove nan values (these are voxels that do not vary across the different videos)\n",
    "#         inds = ~np.any(np.isnan(roi_activation), axis=1)\n",
    "#         roi_activation = roi_activation[inds, ...]\n",
    "\n",
    "#         #RDM and MDS\n",
    "#         rdm[..., sid_] = compute_rdm(roi_activation.T, flat=False)\n",
    "\n",
    "#     points = TSNE(metric='precomputed', square_distances=True).fit_transform(rdm.mean(axis=-1))\n",
    "#     plot_mds(f'{rsa_dir}/sub-all_region-{roi}_mds.pdf', frames, points)\n"
   ]
  },
  {
   "cell_type": "code",
   "execution_count": null,
   "id": "1a37abd8-fe1a-4e19-9885-464375ce755f",
   "metadata": {},
   "outputs": [],
   "source": []
  }
 ],
 "metadata": {
  "kernelspec": {
   "display_name": "Python 3",
   "language": "python",
   "name": "python3"
  },
  "language_info": {
   "codemirror_mode": {
    "name": "ipython",
    "version": 3
   },
   "file_extension": ".py",
   "mimetype": "text/x-python",
   "name": "python",
   "nbconvert_exporter": "python",
   "pygments_lexer": "ipython3",
   "version": "3.6.13"
  }
 },
 "nbformat": 4,
 "nbformat_minor": 5
}
