{
 "cells": [
  {
   "cell_type": "code",
   "execution_count": 11,
   "id": "82b4e540-4c7f-4b70-a468-d75982881890",
   "metadata": {
    "pycharm": {
     "name": "#%%\n"
    }
   },
   "outputs": [],
   "source": [
    "import nibabel as nib\n",
    "import os\n",
    "import neuropythy as ny\n",
    "import seaborn as sns\n",
    "# We also import ipyvolume, the 3D graphics library used by neurropythy, for 3D\n",
    "# surface rendering (optional).\n",
    "# import ipyvolume as ipv"
   ]
  },
  {
   "cell_type": "code",
   "execution_count": 2,
   "id": "9c28c0bc",
   "metadata": {
    "pycharm": {
     "name": "#%%\n"
    }
   },
   "outputs": [],
   "source": [
    "sid = '01'\n",
    "task = 'SIdyads'\n",
    "space = 'T1w'\n",
    "group = 'test'\n",
    "step = 'fracridge'\n",
    "top_dir = '/Users/emcmaho7/Dropbox/projects/SI_fmri/SIfMRI_analysis/data'\n",
    "model = 'communication'"
   ]
  },
  {
   "cell_type": "code",
   "execution_count": 7,
   "id": "fbe6b812",
   "metadata": {
    "pycharm": {
     "name": "#%%\n"
    }
   },
   "outputs": [],
   "source": [
    "derivatives_dir = path = f'{top_dir}/raw'\n",
    "freesurfer_dir = f'{derivatives_dir}/freesurfer/'\n",
    "ny.config['freesurfer_subject_paths'] = [freesurfer_dir]\n",
    "stat_path = f'{top_dir}/interim/SurfaceStats/sub-{sid}_prediction-all_drop-{model}_single-None_method-CV_r2filtered_hemi'\n"
   ]
  },
  {
   "cell_type": "code",
   "execution_count": 9,
   "id": "9caf3fa3",
   "metadata": {
    "pycharm": {
     "name": "#%%\n"
    }
   },
   "outputs": [
    {
     "name": "stdout",
     "output_type": "stream",
     "text": [
      "Files exist. Loading files...\n"
     ]
    }
   ],
   "source": [
    "if os.path.exists(f'{stat_path}-lh.mgz'):\n",
    "    print('Files exist. Loading files...')\n",
    "    sub = ny.freesurfer_subject(f'sub-{sid}')\n",
    "    lh_prop, rh_prop = nib.load(f'{stat_path}-lh.mgz'), nib.load(f'{stat_path}-rh.mgz')\n",
    "else:\n",
    "    print('File does not exist')"
   ]
  },
  {
   "cell_type": "code",
   "execution_count": 13,
   "id": "e3052ab2",
   "metadata": {
    "pycharm": {
     "name": "#%%\n"
    }
   },
   "outputs": [
    {
     "ename": "TypeError",
     "evalue": "unsupported callable",
     "output_type": "error",
     "traceback": [
      "\u001B[0;31m---------------------------------------------------------------------------\u001B[0m",
      "\u001B[0;31mTypeError\u001B[0m                                 Traceback (most recent call last)",
      "File \u001B[0;32m/Applications/anaconda3/envs/neuropy/lib/python3.8/inspect.py:1135\u001B[0m, in \u001B[0;36mgetfullargspec\u001B[0;34m(func)\u001B[0m\n\u001B[1;32m   1118\u001B[0m \u001B[38;5;28;01mtry\u001B[39;00m:\n\u001B[1;32m   1119\u001B[0m     \u001B[38;5;66;03m# Re: `skip_bound_arg=False`\u001B[39;00m\n\u001B[1;32m   1120\u001B[0m     \u001B[38;5;66;03m#\u001B[39;00m\n\u001B[0;32m   (...)\u001B[0m\n\u001B[1;32m   1132\u001B[0m     \u001B[38;5;66;03m# getfullargspec() historically ignored __wrapped__ attributes,\u001B[39;00m\n\u001B[1;32m   1133\u001B[0m     \u001B[38;5;66;03m# so we ensure that remains the case in 3.3+\u001B[39;00m\n\u001B[0;32m-> 1135\u001B[0m     sig \u001B[38;5;241m=\u001B[39m \u001B[43m_signature_from_callable\u001B[49m\u001B[43m(\u001B[49m\u001B[43mfunc\u001B[49m\u001B[43m,\u001B[49m\n\u001B[1;32m   1136\u001B[0m \u001B[43m                                   \u001B[49m\u001B[43mfollow_wrapper_chains\u001B[49m\u001B[38;5;241;43m=\u001B[39;49m\u001B[38;5;28;43;01mFalse\u001B[39;49;00m\u001B[43m,\u001B[49m\n\u001B[1;32m   1137\u001B[0m \u001B[43m                                   \u001B[49m\u001B[43mskip_bound_arg\u001B[49m\u001B[38;5;241;43m=\u001B[39;49m\u001B[38;5;28;43;01mFalse\u001B[39;49;00m\u001B[43m,\u001B[49m\n\u001B[1;32m   1138\u001B[0m \u001B[43m                                   \u001B[49m\u001B[43msigcls\u001B[49m\u001B[38;5;241;43m=\u001B[39;49m\u001B[43mSignature\u001B[49m\u001B[43m)\u001B[49m\n\u001B[1;32m   1139\u001B[0m \u001B[38;5;28;01mexcept\u001B[39;00m \u001B[38;5;167;01mException\u001B[39;00m \u001B[38;5;28;01mas\u001B[39;00m ex:\n\u001B[1;32m   1140\u001B[0m     \u001B[38;5;66;03m# Most of the times 'signature' will raise ValueError.\u001B[39;00m\n\u001B[1;32m   1141\u001B[0m     \u001B[38;5;66;03m# But, it can also raise AttributeError, and, maybe something\u001B[39;00m\n\u001B[1;32m   1142\u001B[0m     \u001B[38;5;66;03m# else. So to be fully backwards compatible, we catch all\u001B[39;00m\n\u001B[1;32m   1143\u001B[0m     \u001B[38;5;66;03m# possible exceptions here, and reraise a TypeError.\u001B[39;00m\n",
      "File \u001B[0;32m/Applications/anaconda3/envs/neuropy/lib/python3.8/inspect.py:2228\u001B[0m, in \u001B[0;36m_signature_from_callable\u001B[0;34m(obj, follow_wrapper_chains, skip_bound_arg, sigcls)\u001B[0m\n\u001B[1;32m   2227\u001B[0m \u001B[38;5;28;01mif\u001B[39;00m \u001B[38;5;129;01mnot\u001B[39;00m callable(obj):\n\u001B[0;32m-> 2228\u001B[0m     \u001B[38;5;28;01mraise\u001B[39;00m \u001B[38;5;167;01mTypeError\u001B[39;00m(\u001B[38;5;124m'\u001B[39m\u001B[38;5;132;01m{!r}\u001B[39;00m\u001B[38;5;124m is not a callable object\u001B[39m\u001B[38;5;124m'\u001B[39m\u001B[38;5;241m.\u001B[39mformat(obj))\n\u001B[1;32m   2230\u001B[0m \u001B[38;5;28;01mif\u001B[39;00m \u001B[38;5;28misinstance\u001B[39m(obj, types\u001B[38;5;241m.\u001B[39mMethodType):\n\u001B[1;32m   2231\u001B[0m     \u001B[38;5;66;03m# In this case we skip the first parameter of the underlying\u001B[39;00m\n\u001B[1;32m   2232\u001B[0m     \u001B[38;5;66;03m# function (usually `self` or `cls`).\u001B[39;00m\n",
      "\u001B[0;31mTypeError\u001B[0m: <nibabel.freesurfer.mghformat.MGHImage object at 0x7fcf5bbd4e50> is not a callable object",
      "\nThe above exception was the direct cause of the following exception:\n",
      "\u001B[0;31mTypeError\u001B[0m                                 Traceback (most recent call last)",
      "Input \u001B[0;32mIn [13]\u001B[0m, in \u001B[0;36m<cell line: 2>\u001B[0;34m()\u001B[0m\n\u001B[1;32m      1\u001B[0m ny_surf \u001B[38;5;241m=\u001B[39m sub\u001B[38;5;241m.\u001B[39mlh\u001B[38;5;241m.\u001B[39msurface(\u001B[38;5;124m'\u001B[39m\u001B[38;5;124minflated\u001B[39m\u001B[38;5;124m'\u001B[39m)\n\u001B[0;32m----> 2\u001B[0m \u001B[43mny\u001B[49m\u001B[38;5;241;43m.\u001B[39;49m\u001B[43mcortex_plot\u001B[49m\u001B[43m(\u001B[49m\u001B[43mny_surf\u001B[49m\u001B[43m,\u001B[49m\u001B[43m \u001B[49m\u001B[43mcolor\u001B[49m\u001B[38;5;241;43m=\u001B[39;49m\u001B[43mlh_prop\u001B[49m\u001B[43m,\u001B[49m\n\u001B[1;32m      3\u001B[0m \u001B[38;5;66;43;03m#                cmap=sns.color_palette('crest_r', as_cmap=True),\u001B[39;49;00m\n\u001B[1;32m      4\u001B[0m \u001B[43m               \u001B[49m\u001B[43mvmin\u001B[49m\u001B[38;5;241;43m=\u001B[39;49m\u001B[38;5;241;43m0.2\u001B[39;49m\u001B[43m,\u001B[49m\u001B[43m \u001B[49m\u001B[43mvmax\u001B[49m\u001B[38;5;241;43m=\u001B[39;49m\u001B[38;5;241;43m1.\u001B[39;49m\u001B[43m,\u001B[49m\n\u001B[1;32m      5\u001B[0m \u001B[43m               \u001B[49m\u001B[43malpha\u001B[49m\u001B[38;5;241;43m=\u001B[39;49m\u001B[38;5;241;43m0.5\u001B[39;49m\u001B[43m)\u001B[49m\n",
      "File \u001B[0;32m/Applications/anaconda3/envs/neuropy/lib/python3.8/site-packages/neuropythy/graphics/core.py:1344\u001B[0m, in \u001B[0;36mcortex_plot\u001B[0;34m(mesh, *args, **opts)\u001B[0m\n\u001B[1;32m   1293\u001B[0m \u001B[38;5;124;03m'''\u001B[39;00m\n\u001B[1;32m   1294\u001B[0m \u001B[38;5;124;03mcortex_plot(mesh) calls either cortex_plot_2D or cortex_plot_3D depending on the dimensionality\u001B[39;00m\n\u001B[1;32m   1295\u001B[0m \u001B[38;5;124;03m  of the given mesh, and yields the resulting graphics object. All optional arguments supported\u001B[39;00m\n\u001B[0;32m   (...)\u001B[0m\n\u001B[1;32m   1340\u001B[0m \u001B[38;5;124;03m    already exists; otherwise a new one is made.\u001B[39;00m\n\u001B[1;32m   1341\u001B[0m \u001B[38;5;124;03m'''\u001B[39;00m\n\u001B[1;32m   1342\u001B[0m \u001B[38;5;28;01mif\u001B[39;00m \u001B[38;5;129;01mnot\u001B[39;00m \u001B[38;5;28misinstance\u001B[39m(mesh, geo\u001B[38;5;241m.\u001B[39mMesh) \u001B[38;5;129;01mor\u001B[39;00m mesh\u001B[38;5;241m.\u001B[39mcoordinates\u001B[38;5;241m.\u001B[39mshape[\u001B[38;5;241m0\u001B[39m] \u001B[38;5;241m>\u001B[39m \u001B[38;5;241m2\u001B[39m:\n\u001B[1;32m   1343\u001B[0m     \u001B[38;5;66;03m# must be a 3D call\u001B[39;00m\n\u001B[0;32m-> 1344\u001B[0m     \u001B[38;5;28;01mreturn\u001B[39;00m \u001B[43mcortex_plot_3D\u001B[49m\u001B[43m(\u001B[49m\u001B[43mmesh\u001B[49m\u001B[43m,\u001B[49m\u001B[43m \u001B[49m\u001B[38;5;241;43m*\u001B[39;49m\u001B[43margs\u001B[49m\u001B[43m,\u001B[49m\u001B[43m \u001B[49m\u001B[38;5;241;43m*\u001B[39;49m\u001B[38;5;241;43m*\u001B[39;49m\u001B[43mopts\u001B[49m\u001B[43m)\u001B[49m\n\u001B[1;32m   1345\u001B[0m \u001B[38;5;28;01melse\u001B[39;00m:\n\u001B[1;32m   1346\u001B[0m     \u001B[38;5;28;01mreturn\u001B[39;00m cortex_plot_2D(mesh, \u001B[38;5;241m*\u001B[39margs, \u001B[38;5;241m*\u001B[39m\u001B[38;5;241m*\u001B[39mopts)\n",
      "File \u001B[0;32m/Applications/anaconda3/envs/neuropy/lib/python3.8/site-packages/neuropythy/graphics/core.py:1210\u001B[0m, in \u001B[0;36mcortex_plot_3D\u001B[0;34m(obj, color, cmap, vmin, vmax, alpha, underlay, mask, hemi, surface, figure, width, height, mesh_alpha, view, camera_distance, camera_fov, camera_up)\u001B[0m\n\u001B[1;32m   1207\u001B[0m             \u001B[38;5;28;01mfor\u001B[39;00m hhh \u001B[38;5;129;01min\u001B[39;00m hh: mesh\u001B[38;5;241m.\u001B[39mappend(geo\u001B[38;5;241m.\u001B[39mto_mesh((hhh, surface)))\n\u001B[1;32m   1208\u001B[0m \u001B[38;5;66;03m# process the colors\u001B[39;00m\n\u001B[1;32m   1209\u001B[0m rgba \u001B[38;5;241m=\u001B[39m np\u001B[38;5;241m.\u001B[39mconcatenate(\n\u001B[0;32m-> 1210\u001B[0m     [cortex_plot_colors(m, color\u001B[38;5;241m=\u001B[39mcolor, cmap\u001B[38;5;241m=\u001B[39mcmap, vmin\u001B[38;5;241m=\u001B[39mvmin, vmax\u001B[38;5;241m=\u001B[39mvmax,\n\u001B[1;32m   1211\u001B[0m                         alpha\u001B[38;5;241m=\u001B[39malpha, underlay\u001B[38;5;241m=\u001B[39munderlay, mask\u001B[38;5;241m=\u001B[39mmask)\n\u001B[1;32m   1212\u001B[0m      \u001B[38;5;28;01mfor\u001B[39;00m m \u001B[38;5;129;01min\u001B[39;00m mesh])\n\u001B[1;32m   1213\u001B[0m n \u001B[38;5;241m=\u001B[39m \u001B[38;5;28mlen\u001B[39m(rgba)\n\u001B[1;32m   1214\u001B[0m \u001B[38;5;66;03m# process the mesh_alpha parameter\u001B[39;00m\n",
      "File \u001B[0;32m/Applications/anaconda3/envs/neuropy/lib/python3.8/site-packages/neuropythy/graphics/core.py:1210\u001B[0m, in \u001B[0;36m<listcomp>\u001B[0;34m(.0)\u001B[0m\n\u001B[1;32m   1207\u001B[0m             \u001B[38;5;28;01mfor\u001B[39;00m hhh \u001B[38;5;129;01min\u001B[39;00m hh: mesh\u001B[38;5;241m.\u001B[39mappend(geo\u001B[38;5;241m.\u001B[39mto_mesh((hhh, surface)))\n\u001B[1;32m   1208\u001B[0m \u001B[38;5;66;03m# process the colors\u001B[39;00m\n\u001B[1;32m   1209\u001B[0m rgba \u001B[38;5;241m=\u001B[39m np\u001B[38;5;241m.\u001B[39mconcatenate(\n\u001B[0;32m-> 1210\u001B[0m     [\u001B[43mcortex_plot_colors\u001B[49m\u001B[43m(\u001B[49m\u001B[43mm\u001B[49m\u001B[43m,\u001B[49m\u001B[43m \u001B[49m\u001B[43mcolor\u001B[49m\u001B[38;5;241;43m=\u001B[39;49m\u001B[43mcolor\u001B[49m\u001B[43m,\u001B[49m\u001B[43m \u001B[49m\u001B[43mcmap\u001B[49m\u001B[38;5;241;43m=\u001B[39;49m\u001B[43mcmap\u001B[49m\u001B[43m,\u001B[49m\u001B[43m \u001B[49m\u001B[43mvmin\u001B[49m\u001B[38;5;241;43m=\u001B[39;49m\u001B[43mvmin\u001B[49m\u001B[43m,\u001B[49m\u001B[43m \u001B[49m\u001B[43mvmax\u001B[49m\u001B[38;5;241;43m=\u001B[39;49m\u001B[43mvmax\u001B[49m\u001B[43m,\u001B[49m\n\u001B[1;32m   1211\u001B[0m \u001B[43m                        \u001B[49m\u001B[43malpha\u001B[49m\u001B[38;5;241;43m=\u001B[39;49m\u001B[43malpha\u001B[49m\u001B[43m,\u001B[49m\u001B[43m \u001B[49m\u001B[43munderlay\u001B[49m\u001B[38;5;241;43m=\u001B[39;49m\u001B[43munderlay\u001B[49m\u001B[43m,\u001B[49m\u001B[43m \u001B[49m\u001B[43mmask\u001B[49m\u001B[38;5;241;43m=\u001B[39;49m\u001B[43mmask\u001B[49m\u001B[43m)\u001B[49m\n\u001B[1;32m   1212\u001B[0m      \u001B[38;5;28;01mfor\u001B[39;00m m \u001B[38;5;129;01min\u001B[39;00m mesh])\n\u001B[1;32m   1213\u001B[0m n \u001B[38;5;241m=\u001B[39m \u001B[38;5;28mlen\u001B[39m(rgba)\n\u001B[1;32m   1214\u001B[0m \u001B[38;5;66;03m# process the mesh_alpha parameter\u001B[39;00m\n",
      "File \u001B[0;32m/Applications/anaconda3/envs/neuropy/lib/python3.8/site-packages/neuropythy/graphics/core.py:1043\u001B[0m, in \u001B[0;36mcortex_plot_colors\u001B[0;34m(the_map, color, cmap, vmin, vmax, alpha, underlay, mask)\u001B[0m\n\u001B[1;32m   1040\u001B[0m     color \u001B[38;5;241m=\u001B[39m apply_cmap(p, cmap, vmin\u001B[38;5;241m=\u001B[39mvmin, vmax\u001B[38;5;241m=\u001B[39mvmax, unit\u001B[38;5;241m=\u001B[39munit, logrescale\u001B[38;5;241m=\u001B[39mlogtr)\n\u001B[1;32m   1041\u001B[0m \u001B[38;5;28;01mif\u001B[39;00m \u001B[38;5;129;01mnot\u001B[39;00m pimms\u001B[38;5;241m.\u001B[39mis_matrix(color):\n\u001B[1;32m   1042\u001B[0m     \u001B[38;5;66;03m# must be a function; let's try it...\u001B[39;00m\n\u001B[0;32m-> 1043\u001B[0m     color \u001B[38;5;241m=\u001B[39m to_rgba(\u001B[43mthe_map\u001B[49m\u001B[38;5;241;43m.\u001B[39;49m\u001B[43mmap\u001B[49m\u001B[43m(\u001B[49m\u001B[43mcolor\u001B[49m\u001B[43m)\u001B[49m)\n\u001B[1;32m   1044\u001B[0m color \u001B[38;5;241m=\u001B[39m np\u001B[38;5;241m.\u001B[39marray(color)\n\u001B[1;32m   1045\u001B[0m \u001B[38;5;28;01mif\u001B[39;00m color\u001B[38;5;241m.\u001B[39mshape[\u001B[38;5;241m1\u001B[39m] \u001B[38;5;241m!=\u001B[39m \u001B[38;5;241m4\u001B[39m: color \u001B[38;5;241m=\u001B[39m np\u001B[38;5;241m.\u001B[39mhstack([color, np\u001B[38;5;241m.\u001B[39mones([color\u001B[38;5;241m.\u001B[39mshape[\u001B[38;5;241m0\u001B[39m], \u001B[38;5;241m1\u001B[39m])])\n",
      "File \u001B[0;32m/Applications/anaconda3/envs/neuropy/lib/python3.8/site-packages/neuropythy/geometry/mesh.py:302\u001B[0m, in \u001B[0;36mVertexSet.map\u001B[0;34m(self, f)\u001B[0m\n\u001B[1;32m    298\u001B[0m \u001B[38;5;28;01mdef\u001B[39;00m \u001B[38;5;21mmap\u001B[39m(\u001B[38;5;28mself\u001B[39m, f):\n\u001B[1;32m    299\u001B[0m     \u001B[38;5;124;03m'''\u001B[39;00m\n\u001B[1;32m    300\u001B[0m \u001B[38;5;124;03m    tess.map(f) is equivalent to tess.properties.map(f).\u001B[39;00m\n\u001B[1;32m    301\u001B[0m \u001B[38;5;124;03m    '''\u001B[39;00m\n\u001B[0;32m--> 302\u001B[0m     \u001B[38;5;28;01mreturn\u001B[39;00m \u001B[38;5;28;43mself\u001B[39;49m\u001B[38;5;241;43m.\u001B[39;49m\u001B[43mproperties\u001B[49m\u001B[38;5;241;43m.\u001B[39;49m\u001B[43mmap\u001B[49m\u001B[43m(\u001B[49m\u001B[43mf\u001B[49m\u001B[43m)\u001B[49m\n",
      "File \u001B[0;32m/Applications/anaconda3/envs/neuropy/lib/python3.8/site-packages/pimms/table.py:328\u001B[0m, in \u001B[0;36mITable.map\u001B[0;34m(self, f)\u001B[0m\n\u001B[1;32m    323\u001B[0m \u001B[38;5;124;03m'''\u001B[39;00m\n\u001B[1;32m    324\u001B[0m \u001B[38;5;124;03mitbl.map(f) yields the result of mapping the rows of the given datatable itbl over the\u001B[39;00m\n\u001B[1;32m    325\u001B[0m \u001B[38;5;124;03m  given function f.\u001B[39;00m\n\u001B[1;32m    326\u001B[0m \u001B[38;5;124;03m'''\u001B[39;00m\n\u001B[1;32m    327\u001B[0m \u001B[38;5;28;01mif\u001B[39;00m \u001B[38;5;28misinstance\u001B[39m(f, six\u001B[38;5;241m.\u001B[39mstring_types) \u001B[38;5;129;01mand\u001B[39;00m f \u001B[38;5;129;01min\u001B[39;00m \u001B[38;5;28mself\u001B[39m\u001B[38;5;241m.\u001B[39mdata: \u001B[38;5;28;01mreturn\u001B[39;00m \u001B[38;5;28mself\u001B[39m\u001B[38;5;241m.\u001B[39mdata[f]\n\u001B[0;32m--> 328\u001B[0m (args, vargs, kwargs, dflts) \u001B[38;5;241m=\u001B[39m \u001B[43mgetargspec_py27like\u001B[49m\u001B[43m(\u001B[49m\u001B[43mf\u001B[49m\u001B[43m)\u001B[49m\n\u001B[1;32m    329\u001B[0m dflts \u001B[38;5;241m=\u001B[39m dflts \u001B[38;5;28;01mif\u001B[39;00m dflts \u001B[38;5;28;01melse\u001B[39;00m ()\n\u001B[1;32m    330\u001B[0m dflts \u001B[38;5;241m=\u001B[39m \u001B[38;5;28mtuple\u001B[39m([\u001B[38;5;28;01mNone\u001B[39;00m \u001B[38;5;28;01mfor\u001B[39;00m _ \u001B[38;5;129;01min\u001B[39;00m \u001B[38;5;28mrange\u001B[39m(\u001B[38;5;28mlen\u001B[39m(args) \u001B[38;5;241m-\u001B[39m \u001B[38;5;28mlen\u001B[39m(dflts))]) \u001B[38;5;241m+\u001B[39m dflts\n",
      "File \u001B[0;32m/Applications/anaconda3/envs/neuropy/lib/python3.8/site-packages/pimms/util.py:52\u001B[0m, in \u001B[0;36mgetargspec_py27like\u001B[0;34m(f)\u001B[0m\n\u001B[1;32m     47\u001B[0m \u001B[38;5;28;01mdef\u001B[39;00m \u001B[38;5;21mgetargspec_py27like\u001B[39m(f):\n\u001B[1;32m     48\u001B[0m     \u001B[38;5;124;03m'''\u001B[39;00m\n\u001B[1;32m     49\u001B[0m \u001B[38;5;124;03mgetargspec_py27like(f) yields the results of calling inspect.getargspec(f) in Python 2.7, or the\u001B[39;00m\n\u001B[1;32m     50\u001B[0m \u001B[38;5;124;03m  equivalent in Python 3.\u001B[39;00m\n\u001B[1;32m     51\u001B[0m \u001B[38;5;124;03m'''\u001B[39;00m\n\u001B[0;32m---> 52\u001B[0m     \u001B[38;5;28;01mreturn\u001B[39;00m \u001B[43minspect\u001B[49m\u001B[38;5;241;43m.\u001B[39;49m\u001B[43mgetfullargspec\u001B[49m\u001B[43m(\u001B[49m\u001B[43mf\u001B[49m\u001B[43m)\u001B[49m[:\u001B[38;5;241m4\u001B[39m]\n",
      "File \u001B[0;32m/Applications/anaconda3/envs/neuropy/lib/python3.8/inspect.py:1144\u001B[0m, in \u001B[0;36mgetfullargspec\u001B[0;34m(func)\u001B[0m\n\u001B[1;32m   1135\u001B[0m     sig \u001B[38;5;241m=\u001B[39m _signature_from_callable(func,\n\u001B[1;32m   1136\u001B[0m                                    follow_wrapper_chains\u001B[38;5;241m=\u001B[39m\u001B[38;5;28;01mFalse\u001B[39;00m,\n\u001B[1;32m   1137\u001B[0m                                    skip_bound_arg\u001B[38;5;241m=\u001B[39m\u001B[38;5;28;01mFalse\u001B[39;00m,\n\u001B[1;32m   1138\u001B[0m                                    sigcls\u001B[38;5;241m=\u001B[39mSignature)\n\u001B[1;32m   1139\u001B[0m \u001B[38;5;28;01mexcept\u001B[39;00m \u001B[38;5;167;01mException\u001B[39;00m \u001B[38;5;28;01mas\u001B[39;00m ex:\n\u001B[1;32m   1140\u001B[0m     \u001B[38;5;66;03m# Most of the times 'signature' will raise ValueError.\u001B[39;00m\n\u001B[1;32m   1141\u001B[0m     \u001B[38;5;66;03m# But, it can also raise AttributeError, and, maybe something\u001B[39;00m\n\u001B[1;32m   1142\u001B[0m     \u001B[38;5;66;03m# else. So to be fully backwards compatible, we catch all\u001B[39;00m\n\u001B[1;32m   1143\u001B[0m     \u001B[38;5;66;03m# possible exceptions here, and reraise a TypeError.\u001B[39;00m\n\u001B[0;32m-> 1144\u001B[0m     \u001B[38;5;28;01mraise\u001B[39;00m \u001B[38;5;167;01mTypeError\u001B[39;00m(\u001B[38;5;124m'\u001B[39m\u001B[38;5;124munsupported callable\u001B[39m\u001B[38;5;124m'\u001B[39m) \u001B[38;5;28;01mfrom\u001B[39;00m \u001B[38;5;21;01mex\u001B[39;00m\n\u001B[1;32m   1146\u001B[0m args \u001B[38;5;241m=\u001B[39m []\n\u001B[1;32m   1147\u001B[0m varargs \u001B[38;5;241m=\u001B[39m \u001B[38;5;28;01mNone\u001B[39;00m\n",
      "\u001B[0;31mTypeError\u001B[0m: unsupported callable"
     ]
    }
   ],
   "source": [
    "ny_surf = sub.lh.surface('inflated')\n",
    "ny.cortex_plot(ny_surf, color=lh_prop,\n",
    "#                cmap=sns.color_palette('crest_r', as_cmap=True),\n",
    "               vmin=0.2, vmax=1.,\n",
    "               alpha=0.5)"
   ]
  },
  {
   "cell_type": "code",
   "execution_count": null,
   "id": "a9a1813d",
   "metadata": {
    "pycharm": {
     "name": "#%%\n"
    }
   },
   "outputs": [],
   "source": [
    "ny_surf = sub.rh.surface('inflated')\n",
    "ny.cortex_plot(ny_surf, color=rh_prop,\n",
    "               cmap=sns.color_palette('magma', as_cmap=True),\n",
    "               vmin=0.2, vmax=1.,\n",
    "               alpha=0.5)"
   ]
  }
 ],
 "metadata": {
  "kernelspec": {
   "display_name": "Python 3 (ipykernel)",
   "language": "python",
   "name": "python3"
  },
  "language_info": {
   "codemirror_mode": {
    "name": "ipython",
    "version": 3
   },
   "file_extension": ".py",
   "mimetype": "text/x-python",
   "name": "python",
   "nbconvert_exporter": "python",
   "pygments_lexer": "ipython3",
   "version": "3.8.13"
  }
 },
 "nbformat": 4,
 "nbformat_minor": 5
}