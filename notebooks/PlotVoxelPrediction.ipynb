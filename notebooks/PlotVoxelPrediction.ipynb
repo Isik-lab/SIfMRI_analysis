{
 "cells": [
  {
   "cell_type": "code",
   "execution_count": 1,
   "id": "82b4e540-4c7f-4b70-a468-d75982881890",
   "metadata": {
    "pycharm": {
     "name": "#%%\n"
    }
   },
   "outputs": [],
   "source": [
    "import argparse\n",
    "import glob\n",
    "\n",
    "import seaborn as sns\n",
    "import numpy as np\n",
    "import nibabel as nib\n",
    "from nilearn import datasets\n",
    "from statsmodels.stats.multitest import multipletests\n",
    "from src.custom_plotting import plot_surface_stats, mkNifti\n",
    "from nilearn import surface\n",
    "from pathlib import Path"
   ]
  },
  {
   "cell_type": "code",
   "execution_count": 2,
   "outputs": [],
   "source": [
    "def load_noise_ceiling(mask_dir, sid, mask):\n",
    "    noise_ceiling = np.load(f'{mask_dir}/sub-{sid}_set-test_stat-rho_statmap.npy')\n",
    "    noise_ceiling = noise_ceiling[mask]\n",
    "    noise_ceiling[noise_ceiling < 0.] = np.nan\n",
    "    return noise_ceiling"
   ],
   "metadata": {
    "collapsed": false,
    "pycharm": {
     "name": "#%%\n"
    }
   }
  },
  {
   "cell_type": "code",
   "execution_count": 3,
   "outputs": [],
   "source": [
    "def filter_r(rs, ps, p_crit=0.05, correct=True, threshold=True):\n",
    "    if correct:\n",
    "        _, ps_corrected, _, _ = multipletests(ps, method='fdr_bh')\n",
    "    else:\n",
    "        ps_corrected = ps.copy()\n",
    "\n",
    "    if threshold:\n",
    "        rs[ps_corrected >= p_crit] = 0.\n",
    "    else:\n",
    "        rs[rs < 0.] = 0.\n",
    "    return rs, ps_corrected"
   ],
   "metadata": {
    "collapsed": false,
    "pycharm": {
     "name": "#%%\n"
    }
   }
  },
  {
   "cell_type": "code",
   "execution_count": 4,
   "outputs": [],
   "source": [
    "def plot(r_, p_, sid, mask_dir, mask, img, fsaverage):\n",
    "    p_ -= 1/5001\n",
    "    r, _ = filter_r(r_, p_)\n",
    "    # noise_ceiling = load_noise_ceiling(mask_dir, sid, mask)\n",
    "    # r_normed = np.divide(r_, noise_ceiling)\n",
    "    r_normed = r.copy()\n",
    "    volume = mkNifti(r_normed, mask, img)\n",
    "    texture = {'left': surface.vol_to_surf(volume, fsaverage['pial_left']),\n",
    "               'right': surface.vol_to_surf(volume, fsaverage['pial_right'])}\n",
    "\n",
    "    plot_surface_stats(fsaverage, texture,\n",
    "                       roi=roi_parcel,\n",
    "                       cmap=cmap,\n",
    "                       modes=['lateral', 'ventral'],\n",
    "                       threshold=0.01,\n",
    "                       # vmax=1.,\n",
    "                       output_file=f'{figure_dir}/sub-{sid}.png')"
   ],
   "metadata": {
    "collapsed": false,
    "pycharm": {
     "name": "#%%\n"
    }
   }
  },
  {
   "cell_type": "code",
   "execution_count": 5,
   "outputs": [],
   "source": [
    "data_dir='/Users/emcmaho7/Dropbox/projects/SI_fmri/SIfMRI_analysis/data/raw'\n",
    "out_dir = '/Users/emcmaho7/Dropbox/projects/SI_fmri/SIfMRI_analysis/data/interim'\n",
    "mask_dir = '/Users/emcmaho7/Dropbox/projects/SI_fmri/SIfMRI_analysis/data/interim/Reliability'\n",
    "top_fig_dir = '/Users/emcmaho7/Dropbox/projects/SI_fmri/SIfMRI_analysis/reports/figures/PlotVoxelEncodingTest'\n",
    "\n",
    "fsaverage = datasets.fetch_surf_fsaverage()\n",
    "cmap = sns.color_palette('magma', as_cmap=True)\n",
    "models = ['visual', 'socialprimitive', 'social']\n",
    "roi_parcel = None\n",
    "img = nib.load(f'{mask_dir}/sub-01_set-test_stat-rho_statmap.nii.gz')\n",
    "n_perm = 5000\n",
    "n_subjs = 3"
   ],
   "metadata": {
    "collapsed": false,
    "pycharm": {
     "name": "#%%\n"
    }
   }
  },
  {
   "cell_type": "code",
   "execution_count": 6,
   "outputs": [],
   "source": [
    "for model in models:\n",
    "    # subs = np.zeros((np.prod(img.shape)))\n",
    "    # null = np.zeros((np.prod(img.shape), n_perm))\n",
    "    # masks = np.zeros((np.prod(img.shape)))\n",
    "    for sid_ in range(n_subjs):\n",
    "        sid = str(sid_+1).zfill(2)\n",
    "        figure_dir = f'{top_fig_dir}/{model}'\n",
    "        Path(figure_dir).mkdir(parents=True, exist_ok=True)\n",
    "\n",
    "        r_true = np.load(f'{out_dir}/VoxelPermutation/sub-{sid}_prediction-{model}_method-test_rs.npy')\n",
    "        # r_null = np.load(f'{out_dir}/VoxelPermutation/sub-{sid}_prediction-{model}_method-test_rnull.npy')\n",
    "        p = np.load(f'{out_dir}/VoxelPermutation/sub-{sid}_prediction-{model}_method-test_ps.npy')\n",
    "        mask = np.load(f'{out_dir}/Reliability/sub-all_set-test_reliability-mask.npy').astype('bool')\n",
    "        plot(r_true, p, sid, mask_dir, mask, img, fsaverage)\n",
    "\n",
    "        # subs += mkNifti(r_true, mask, img, nii=False)\n",
    "        # null += mkNifti(r_null, mask, img, nii=False)\n",
    "        # masks += mask.astype('float')\n"
   ],
   "metadata": {
    "collapsed": false,
    "pycharm": {
     "name": "#%%\n"
    }
   }
  },
  {
   "cell_type": "code",
   "execution_count": 7,
   "outputs": [],
   "source": [
    "# subs /= n_subjs\n",
    "# null /= n_subjs\n",
    "# masks /= n_subjs\n",
    "#\n",
    "# plot(subs, p, 'all', mask_dir, mask, img, fsaverage)"
   ],
   "metadata": {
    "collapsed": false,
    "pycharm": {
     "name": "#%%\n"
    }
   }
  }
 ],
 "metadata": {
  "kernelspec": {
   "display_name": "Python 3 (ipykernel)",
   "language": "python",
   "name": "python3"
  },
  "language_info": {
   "codemirror_mode": {
    "name": "ipython",
    "version": 3
   },
   "file_extension": ".py",
   "mimetype": "text/x-python",
   "name": "python",
   "nbconvert_exporter": "python",
   "pygments_lexer": "ipython3",
   "version": "3.10.4"
  }
 },
 "nbformat": 4,
 "nbformat_minor": 5
}