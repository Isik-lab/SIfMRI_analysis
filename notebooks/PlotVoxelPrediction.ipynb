{
 "cells": [
  {
   "cell_type": "code",
   "execution_count": 1,
   "id": "82b4e540-4c7f-4b70-a468-d75982881890",
   "metadata": {
    "pycharm": {
     "name": "#%%\n"
    }
   },
   "outputs": [],
   "source": [
    "import seaborn as sns\n",
    "import numpy as np\n",
    "import nibabel as nib\n",
    "from nilearn import datasets\n",
    "from statsmodels.stats.multitest import multipletests\n",
    "from src.custom_plotting import plot_surface_stats, mkNifti\n",
    "from nilearn import surface\n",
    "from pathlib import Path"
   ]
  },
  {
   "cell_type": "code",
   "execution_count": 2,
   "id": "7ab05a7f",
   "metadata": {
    "collapsed": false,
    "jupyter": {
     "outputs_hidden": false
    },
    "pycharm": {
     "name": "#%%\n"
    }
   },
   "outputs": [],
   "source": [
    "def load_noise_ceiling(mask_dir, sid, mask, dataset):\n",
    "    noise_ceiling = np.load(f'{mask_dir}/sub-{sid}_set-{dataset}_stat-rho_statmap.npy')\n",
    "    noise_ceiling = noise_ceiling[mask]\n",
    "    noise_ceiling[noise_ceiling <= 0.] = np.nan\n",
    "    return noise_ceiling"
   ]
  },
  {
   "cell_type": "code",
   "execution_count": 3,
   "id": "650b4685",
   "metadata": {
    "collapsed": false,
    "jupyter": {
     "outputs_hidden": false
    },
    "pycharm": {
     "name": "#%%\n"
    }
   },
   "outputs": [],
   "source": [
    "def filter_r(rs, ps, p_crit=0.05, correct=False, threshold=False):\n",
    "    if correct and (ps is not None):\n",
    "        _, ps_corrected, _, _ = multipletests(ps, method='fdr_bh')\n",
    "    elif not correct and (ps is not None):\n",
    "        ps_corrected = ps.copy()\n",
    "    else:\n",
    "        ps_corrected = None\n",
    "\n",
    "    if threshold and (ps is not None):\n",
    "        rs[ps_corrected >= p_crit] = 0.\n",
    "    else:\n",
    "        rs[rs < 0.] = 0.\n",
    "    return rs, ps_corrected"
   ]
  },
  {
   "cell_type": "code",
   "execution_count": 4,
   "id": "a2a87723",
   "metadata": {
    "collapsed": false,
    "jupyter": {
     "outputs_hidden": false
    },
    "pycharm": {
     "name": "#%%\n"
    }
   },
   "outputs": [],
   "source": [
    "def plot(r_, p_, sid, mask_dir, mask, img, fsaverage, method):\n",
    "    r, _ = filter_r(r_, p_)\n",
    "    if method == 'test':\n",
    "        dataset = 'test'\n",
    "    else:\n",
    "        dataset = 'train'\n",
    "    # noise_ceiling = load_noise_ceiling(mask_dir, sid, mask, dataset)**2\n",
    "    # r_normed = np.divide(r_, noise_ceiling)\n",
    "    # r_normed[np.isnan(r_normed)] = 0.\n",
    "    r_normed = r.copy()\n",
    "    volume = mkNifti(r_normed, mask, img)\n",
    "    texture = {'left': surface.vol_to_surf(volume, fsaverage['pial_left']),\n",
    "               'right': surface.vol_to_surf(volume, fsaverage['pial_right'])}\n",
    "\n",
    "    # plotting.plot_glass_brain(volume,\n",
    "    #                           threshold=1e-2, vmax=1.,\n",
    "    #                           colorbar=True, symmetric_cbar=False,\n",
    "    #                           cmap=cmap,\n",
    "    #                           output_file=f'{figure_dir}/sub-{sid}_volume.pdf')\n",
    "\n",
    "    # vmax = 1.\n",
    "    threshold = np.nanmin(r_normed[np.invert(np.isclose(r_normed, 0.))])\n",
    "    vmax = np.nanmax(r_normed)\n",
    "    print(threshold)\n",
    "    plot_surface_stats(fsaverage, texture,\n",
    "                       roi=roi_parcel,\n",
    "                       cmap=cmap,\n",
    "                       modes=['lateral'],\n",
    "                       threshold=threshold,\n",
    "                       vmax=vmax,\n",
    "                       cbar_title=r\"Noise-normalized explained variance ($r^2$)\",\n",
    "                       output_file=f'{figure_dir}/sub-{sid}.pdf')"
   ]
  },
  {
   "cell_type": "code",
   "execution_count": 5,
   "id": "4ce99abf",
   "metadata": {
    "collapsed": false,
    "jupyter": {
     "outputs_hidden": false
    },
    "pycharm": {
     "name": "#%%\n"
    }
   },
   "outputs": [],
   "source": [
    "data_dir='/Users/emcmaho7/Dropbox/projects/SI_fmri/SIfMRI_analysis/data/raw'\n",
    "out_dir = '/Users/emcmaho7/Dropbox/projects/SI_fmri/SIfMRI_analysis/data/interim'\n",
    "mask_dir = '/Users/emcmaho7/Dropbox/projects/SI_fmri/SIfMRI_analysis/data/interim/Reliability'\n",
    "top_fig_dir = '/Users/emcmaho7/Dropbox/projects/SI_fmri/SIfMRI_analysis/reports/figures/PlotVoxelEncoding'\n",
    "\n",
    "fsaverage = datasets.fetch_surf_fsaverage()\n",
    "cmap = sns.color_palette('magma', as_cmap=True)\n",
    "models = ['facingness', 'joint action', 'communication']#, 'annotated', 'social', 'socialprimitive', 'visual']\n",
    "roi_parcel = None\n",
    "img = nib.load(f'{mask_dir}/sub-01_set-test_stat-rho_statmap.nii.gz')\n",
    "n_perm = 5000\n",
    "n_subjs = 4\n",
    "method = 'CV'"
   ]
  },
  {
   "cell_type": "code",
   "execution_count": 6,
   "id": "64b7215c",
   "metadata": {
    "collapsed": false,
    "jupyter": {
     "outputs_hidden": false
    },
    "pycharm": {
     "name": "#%%\n"
    }
   },
   "outputs": [
    {
     "name": "stdout",
     "output_type": "stream",
     "text": [
      "sub-01: facingness\n",
      "3.2508483365819204e-08\n",
      "sub-01: joint action\n",
      "8.614548439133276e-08\n",
      "sub-01: communication\n",
      "1.068011890572742e-07\n",
      "sub-02: facingness\n",
      "4.1594640938511434e-08\n",
      "sub-02: joint action\n",
      "2.7522255625142437e-07\n",
      "sub-02: communication\n",
      "1.4217637527876156e-08\n",
      "sub-03: facingness\n",
      "1.7491541286006562e-08\n",
      "sub-03: joint action\n",
      "8.29469431212369e-08\n",
      "sub-03: communication\n",
      "1.1201631982225846e-07\n",
      "sub-04: facingness\n",
      "1.854888133775749e-08\n",
      "sub-04: joint action\n",
      "1.9870784970436877e-08\n",
      "sub-04: communication\n",
      "2.3907065521255183e-08\n"
     ]
    }
   ],
   "source": [
    "for sid in ['01', '02', '03', '04']:\n",
    "    for model in models:\n",
    "        print(f'sub-{sid}: {model}')\n",
    "        figure_dir = f'{top_fig_dir}/{method}/{model}'\n",
    "        Path(figure_dir).mkdir(parents=True, exist_ok=True)\n",
    "\n",
    "        r_cond = np.load(f'{out_dir}/VoxelPermutation/sub-{sid}_prediction-{model}_method-{method}_rs.npy')\n",
    "        r_all = np.load(f'{out_dir}/VoxelPermutation/sub-{sid}_prediction-all_method-{method}_rs.npy')\n",
    "        r_unique = r_all**2 - r_cond**2\n",
    "        p = np.load(f'{out_dir}/VoxelPermutation/sub-{sid}_prediction-{model}_method-{method}_ps.npy')\n",
    "        mask = np.load(f'{out_dir}/Reliability/sub-all_set-test_reliability-mask.npy').astype('bool')\n",
    "        plot(r_unique, p, sid, mask_dir, mask, img, fsaverage, method)"
   ]
  },
  {
   "cell_type": "markdown",
   "id": "f789314f",
   "metadata": {
    "pycharm": {
     "name": "#%% md\n"
    }
   },
   "source": [
    "## CV\n",
    "\n",
    "sub-all: all\n",
    "0.0631975360498012\n",
    "sub-all: annotated\n",
    "0.06852206426895464\n",
    "sub-all: social\n",
    "0.06733947858672726\n",
    "sub-all: socialprimitive\n",
    "0.061688830459653766\n",
    "sub-all: visual\n",
    "0.07508201780010568\n",
    "sub-01: all\n",
    "0.19710323592952353\n",
    "sub-01: annotated\n",
    "0.21299163933680912\n",
    "sub-01: social\n",
    "0.24851814420135068\n",
    "sub-01: socialprimitive\n",
    "0.3475932623463479\n",
    "sub-01: visual\n",
    "0.2581237118488072\n",
    "sub-02: all\n",
    "0.16106848173399038\n",
    "sub-02: annotated\n",
    "0.1575668065152995\n",
    "sub-02: social\n",
    "0.18176281495486762\n",
    "sub-02: socialprimitive\n",
    "0.2684050238495838\n",
    "sub-02: visual\n",
    "0.22039256562543508\n",
    "sub-03: all\n",
    "0.17644936721341456\n",
    "sub-03: annotated\n",
    "0.18059337314134882\n",
    "sub-03: social\n",
    "0.1993087680337161\n",
    "sub-03: socialprimitive\n",
    "0.19075753339992757\n",
    "sub-03: visual\n",
    "0.17793348987720783\n",
    "sub-04: all\n",
    "0.14438412074624118\n",
    "sub-04: annotated\n",
    "0.11520621087218676\n",
    "sub-04: social\n",
    "0.2444177936439139\n",
    "sub-04: socialprimitive\n",
    "0.11475725752040819\n",
    "sub-04: visual\n",
    "0.19607340970603424"
   ]
  },
  {
   "cell_type": "markdown",
   "id": "2d579c89",
   "metadata": {
    "pycharm": {
     "name": "#%% md\n"
    }
   },
   "source": [
    "#Test\n",
    "\n",
    "sub-01: all\n",
    "0.43543420107836805\n",
    "sub-01: annotated\n",
    "0.4570510498675174\n",
    "sub-01: social\n",
    "0.5366723383283916\n",
    "sub-01: socialprimitive\n",
    "0.5525512352336553\n",
    "sub-01: visual\n",
    "0.5199364082321195\n",
    "sub-02: all\n",
    "0.37789098283185923\n",
    "sub-02: annotated\n",
    "0.3879710302933686\n",
    "sub-02: social\n",
    "0.5924107057206871\n",
    "sub-02: socialprimitive\n",
    "0.5025188260261044\n",
    "sub-02: visual\n",
    "0.4337947383904805\n",
    "sub-03: all\n",
    "0.3607558570563405\n",
    "sub-03: annotated\n",
    "0.37027075265724785\n",
    "sub-03: social\n",
    "0.45973866149800097\n",
    "sub-03: socialprimitive\n",
    "0.40422288811008483\n",
    "sub-03: visual\n",
    "0.40035745372401305\n",
    "sub-04: all\n",
    "0.40334746236281094\n",
    "sub-04: annotated\n",
    "0.42449088842849325\n",
    "sub-04: social\n",
    "0.5452816896173873\n",
    "sub-04: socialprimitive\n",
    "0.5168589101877343\n",
    "sub-04: visual\n",
    "0.43964581"
   ]
  },
  {
   "cell_type": "code",
   "execution_count": 6,
   "id": "e5d594b5",
   "metadata": {
    "collapsed": false,
    "jupyter": {
     "outputs_hidden": false
    },
    "pycharm": {
     "name": "#%%\n"
    }
   },
   "outputs": [],
   "source": []
  }
 ],
 "metadata": {
  "kernelspec": {
   "display_name": "Python 3 (ipykernel)",
   "language": "python",
   "name": "python3"
  },
  "language_info": {
   "codemirror_mode": {
    "name": "ipython",
    "version": 3
   },
   "file_extension": ".py",
   "mimetype": "text/x-python",
   "name": "python",
   "nbconvert_exporter": "python",
   "pygments_lexer": "ipython3",
   "version": "3.10.4"
  }
 },
 "nbformat": 4,
 "nbformat_minor": 5
}