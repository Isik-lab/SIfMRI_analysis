{
 "cells": [
  {
   "cell_type": "code",
   "execution_count": 1,
   "id": "82b4e540-4c7f-4b70-a468-d75982881890",
   "metadata": {
    "pycharm": {
     "name": "#%%\n"
    }
   },
   "outputs": [],
   "source": [
    "import seaborn as sns\n",
    "import numpy as np\n",
    "import nibabel as nib\n",
    "from nilearn import datasets\n",
    "from statsmodels.stats.multitest import multipletests\n",
    "from src.custom_plotting import plot_surface_stats, mkNifti\n",
    "from nilearn import surface\n",
    "from pathlib import Path"
   ]
  },
  {
   "cell_type": "code",
   "execution_count": 2,
   "outputs": [],
   "source": [
    "def load_noise_ceiling(mask_dir, sid, mask, dataset):\n",
    "    noise_ceiling = np.load(f'{mask_dir}/sub-{sid}_set-{dataset}_stat-rho_statmap.npy')\n",
    "    noise_ceiling = noise_ceiling[mask]\n",
    "    noise_ceiling[noise_ceiling < 0.] = np.nan\n",
    "    return noise_ceiling"
   ],
   "metadata": {
    "collapsed": false,
    "pycharm": {
     "name": "#%%\n"
    }
   }
  },
  {
   "cell_type": "code",
   "execution_count": 3,
   "outputs": [],
   "source": [
    "def filter_r(rs, ps, p_crit=0.05, correct=True, threshold=True):\n",
    "    # rs_out = rs.copy()\n",
    "    if correct and (ps is not None):\n",
    "        _, ps_corrected, _, _ = multipletests(ps, method='fdr_bh')\n",
    "    elif not correct and (ps is not None):\n",
    "        ps_corrected = ps.copy()\n",
    "    else:\n",
    "        ps_corrected = None\n",
    "\n",
    "    if threshold and (ps is not None):\n",
    "        rs[ps_corrected >= p_crit] = 0.\n",
    "    else:\n",
    "        rs[rs < 0.] = 0.\n",
    "    return rs, ps_corrected"
   ],
   "metadata": {
    "collapsed": false,
    "pycharm": {
     "name": "#%%\n"
    }
   }
  },
  {
   "cell_type": "code",
   "execution_count": 4,
   "outputs": [],
   "source": [
    "def plot(r_, p_, sid, mask_dir, mask, img, fsaverage, method):\n",
    "    r, _ = filter_r(r_, p_, correct=False, threshold=False)\n",
    "    if method == 'test':\n",
    "        dataset = 'test'\n",
    "    else:\n",
    "        dataset = 'train'\n",
    "    noise_ceiling = load_noise_ceiling(mask_dir, sid, mask, dataset)\n",
    "    r_normed = np.divide(r_, noise_ceiling)\n",
    "    # r_normed = r.copy()\n",
    "    volume = mkNifti(r_normed, mask, img)\n",
    "    texture = {'left': surface.vol_to_surf(volume, fsaverage['pial_left']),\n",
    "               'right': surface.vol_to_surf(volume, fsaverage['pial_right'])}\n",
    "\n",
    "    # vmax = r_normed.max()\n",
    "    vmax = 1.\n",
    "    plot_surface_stats(fsaverage, texture,\n",
    "                       roi=roi_parcel,\n",
    "                       cmap=cmap,\n",
    "                       modes=['lateral', 'ventral'],\n",
    "                       threshold=1e-3,\n",
    "                       vmax=vmax,\n",
    "                       output_file=f'{figure_dir}/sub-{sid}.png')"
   ],
   "metadata": {
    "collapsed": false,
    "pycharm": {
     "name": "#%%\n"
    }
   }
  },
  {
   "cell_type": "code",
   "execution_count": 5,
   "outputs": [],
   "source": [
    "data_dir='/Users/emcmaho7/Dropbox/projects/SI_fmri/SIfMRI_analysis/data/raw'\n",
    "out_dir = '/Users/emcmaho7/Dropbox/projects/SI_fmri/SIfMRI_analysis/data/interim'\n",
    "mask_dir = '/Users/emcmaho7/Dropbox/projects/SI_fmri/SIfMRI_analysis/data/interim/Reliability'\n",
    "top_fig_dir = '/Users/emcmaho7/Dropbox/projects/SI_fmri/SIfMRI_analysis/reports/figures/PlotVoxelEncoding'\n",
    "\n",
    "fsaverage = datasets.fetch_surf_fsaverage()\n",
    "cmap = sns.color_palette('magma', as_cmap=True)\n",
    "models = ['all', 'annotated', 'social', 'socialprimitive', 'visual']\n",
    "roi_parcel = None\n",
    "img = nib.load(f'{mask_dir}/sub-01_set-test_stat-rho_statmap.nii.gz')\n",
    "n_perm = 5000\n",
    "n_subjs = 4\n",
    "method = 'test'"
   ],
   "metadata": {
    "collapsed": false,
    "pycharm": {
     "name": "#%%\n"
    }
   }
  },
  {
   "cell_type": "code",
   "execution_count": 6,
   "outputs": [
    {
     "name": "stdout",
     "output_type": "stream",
     "text": [
      "sub-all: all\n",
      "sub-all: annotated\n",
      "sub-all: social\n",
      "sub-all: socialprimitive\n",
      "sub-all: visual\n"
     ]
    }
   ],
   "source": [
    "sid = 'all'\n",
    "for model in models:\n",
    "    print(f'sub-{sid}: {model}')\n",
    "    figure_dir = f'{top_fig_dir}/{method}/{model}'\n",
    "    Path(figure_dir).mkdir(parents=True, exist_ok=True)\n",
    "\n",
    "    r_true = np.load(f'{out_dir}/VoxelPermutation/sub-{sid}_prediction-{model}_method-{method}_rs.npy')\n",
    "    p = np.load(f'{out_dir}/VoxelPermutation/sub-{sid}_prediction-{model}_method-{method}_ps.npy')\n",
    "    mask = np.load(f'{out_dir}/Reliability/sub-all_set-test_reliability-mask.npy').astype('bool')\n",
    "    plot(r_true, p, sid, mask_dir, mask, img, fsaverage, method)"
   ],
   "metadata": {
    "collapsed": false,
    "pycharm": {
     "name": "#%%\n"
    }
   }
  },
  {
   "cell_type": "code",
   "execution_count": 7,
   "outputs": [],
   "source": [
    "# for model in models:\n",
    "#     for sid_ in range(n_subjs):\n",
    "#         sid = str(sid_+1).zfill(2)\n",
    "#         print(f'sub-{sid}: {model}')\n",
    "#         figure_dir = f'{top_fig_dir}/{method}/{model}'\n",
    "#         Path(figure_dir).mkdir(parents=True, exist_ok=True)\n",
    "#\n",
    "#         r_true = np.load(f'{out_dir}/VoxelPermutation/sub-{sid}_prediction-{model}_method-{method}_rs.npy')\n",
    "#         p = np.load(f'{out_dir}/VoxelPermutation/sub-{sid}_prediction-{model}_method-{method}_ps.npy')\n",
    "#         mask = np.load(f'{out_dir}/Reliability/sub-all_set-test_reliability-mask.npy').astype('bool')\n",
    "#         plot(r_true, p, sid, mask_dir, mask, img, fsaverage, method)"
   ],
   "metadata": {
    "collapsed": false,
    "pycharm": {
     "name": "#%%\n"
    }
   }
  },
  {
   "cell_type": "code",
   "execution_count": 7,
   "outputs": [],
   "source": [],
   "metadata": {
    "collapsed": false,
    "pycharm": {
     "name": "#%%\n"
    }
   }
  }
 ],
 "metadata": {
  "kernelspec": {
   "display_name": "Python 3 (ipykernel)",
   "language": "python",
   "name": "python3"
  },
  "language_info": {
   "codemirror_mode": {
    "name": "ipython",
    "version": 3
   },
   "file_extension": ".py",
   "mimetype": "text/x-python",
   "name": "python",
   "nbconvert_exporter": "python",
   "pygments_lexer": "ipython3",
   "version": "3.10.4"
  }
 },
 "nbformat": 4,
 "nbformat_minor": 5
}