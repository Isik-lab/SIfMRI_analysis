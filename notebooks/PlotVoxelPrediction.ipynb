{
 "cells": [
  {
   "cell_type": "code",
   "execution_count": 55,
   "id": "82b4e540-4c7f-4b70-a468-d75982881890",
   "metadata": {
    "pycharm": {
     "name": "#%%\n"
    }
   },
   "outputs": [],
   "source": [
    "import seaborn as sns\n",
    "import numpy as np\n",
    "import nibabel as nib\n",
    "from nilearn import datasets, plotting\n",
    "from statsmodels.stats.multitest import multipletests\n",
    "from src.custom_plotting import plot_surface_stats, mkNifti\n",
    "from nilearn import surface\n",
    "from pathlib import Path\n",
    "\n",
    "import matplotlib.pyplot as plt\n",
    "from matplotlib import gridspec\n",
    "import itertools\n",
    "from nilearn.plotting import plot_surf_roi"
   ]
  },
  {
   "cell_type": "code",
   "execution_count": 56,
   "outputs": [],
   "source": [
    "def fetch_surf(path):\n",
    "    surf = dict()\n",
    "    surf['infl_left'] = f'{path}/lh.inflated'#surface.load_surf_mesh()\n",
    "    surf['infl_right'] = f'{path}/rh.inflated'#surface.load_surf_mesh()\n",
    "    surf['pial_left'] = f'{path}/lh.pial'#surface.load_surf_mesh()\n",
    "    surf['pial_right'] = f'{path}/rh.pial'#surface.load_surf_mesh()\n",
    "    surf['sulc_left'] = f'{path}/lh.sulc'#surface.load_surf_data()\n",
    "    surf['sulc_right'] = f'{path}/rh.sulc'#surface.load_surf_data()\n",
    "    surf['sphere_left'] = f'{path}/lh.sphere'#surface.load_surf_mesh()\n",
    "    surf['sphere_right'] = f'{path}/rh.sphere'#surface.load_surf_mesh()\n",
    "    surf['curve_left'] = f'{path}/lh.curv'#surface.load_surf_data()\n",
    "    surf['curve_right'] = f'{path}/rh.curv'#surface.load_surf_data()\n",
    "    surf['area_left'] = f'{path}/lh.area'#surface.load_surf_data()\n",
    "    surf['area_right'] = f'{path}/rh.area'#surface.load_surf_data()\n",
    "    surf['thick_left'] = f'{path}/lh.thickness'#surface.load_surf_data()\n",
    "    surf['thick_right'] = f'{path}/rh.thickness'#surface.load_surf_data()\n",
    "    surf['white_left'] = f'{path}/lh.white'#surface.load_surf_mesh()\n",
    "    surf['white_right'] = f'{path}/rh.white'#surface.load_surf_mesh()\n",
    "    return surf"
   ],
   "metadata": {
    "collapsed": false,
    "pycharm": {
     "name": "#%%\n"
    }
   }
  },
  {
   "cell_type": "code",
   "execution_count": 57,
   "id": "7ab05a7f",
   "metadata": {
    "collapsed": false,
    "jupyter": {
     "outputs_hidden": false
    },
    "pycharm": {
     "name": "#%%\n"
    }
   },
   "outputs": [],
   "source": [
    "def load_noise_ceiling(mask_dir, sid, mask, dataset):\n",
    "    noise_ceiling = np.load(f'{mask_dir}/sub-{sid}_space-T1w_desc-{dataset}-fracridge_stat-r_statmap.npy')\n",
    "    noise_ceiling = noise_ceiling[mask]\n",
    "    noise_ceiling[noise_ceiling <= 0.] = np.nan\n",
    "    return noise_ceiling"
   ]
  },
  {
   "cell_type": "code",
   "execution_count": 58,
   "id": "650b4685",
   "metadata": {
    "collapsed": false,
    "jupyter": {
     "outputs_hidden": false
    },
    "pycharm": {
     "name": "#%%\n"
    }
   },
   "outputs": [],
   "source": [
    "def filter_r(rs, ps, p_crit=0.05, correct=True, threshold=True):\n",
    "    if correct and (ps is not None):\n",
    "        _, ps_corrected, _, _ = multipletests(ps, method='fdr_bh')\n",
    "    elif not correct and (ps is not None):\n",
    "        ps_corrected = ps.copy()\n",
    "    else:\n",
    "        ps_corrected = None\n",
    "\n",
    "    if threshold and (ps is not None):\n",
    "        rs[ps_corrected >= p_crit] = 0.\n",
    "    else:\n",
    "        rs[rs < 0.] = 0.\n",
    "    return rs, ps_corrected"
   ]
  },
  {
   "cell_type": "code",
   "execution_count": 59,
   "id": "f1039c5b",
   "metadata": {
    "collapsed": false,
    "jupyter": {
     "outputs_hidden": false
    },
    "pycharm": {
     "name": "#%%\n"
    }
   },
   "outputs": [],
   "source": [
    "def full_model_mask(out_dir, sid, method):\n",
    "    r = np.load(f'{out_dir}/VoxelPermutation/sub-{sid}_prediction-all_drop-None_single-None_method-{method}_rs.npy')\n",
    "    p = np.load(f'{out_dir}/VoxelPermutation/sub-{sid}_prediction-all_drop-None_single-None_method-{method}_ps.npy')\n",
    "    _, ps_corrected = filter_r(r, p)\n",
    "    return ps_corrected >= 0.05"
   ]
  },
  {
   "cell_type": "code",
   "execution_count": 37,
   "outputs": [],
   "source": [
    "data_dir='/Users/emcmaho7/Dropbox/projects/SI_fmri/SIfMRI_analysis/data/raw'\n",
    "out_dir = '/Users/emcmaho7/Dropbox/projects/SI_fmri/SIfMRI_analysis/data/interim'\n",
    "mask_dir = '/Users/emcmaho7/Dropbox/projects/SI_fmri/SIfMRI_analysis/data/interim/Reliability'\n",
    "top_fig_dir = '/Users/emcmaho7/Dropbox/projects/SI_fmri/SIfMRI_analysis/reports/figures/PlotVoxelEncoding'\n",
    "\n",
    "fsaverage = datasets.fetch_surf_fsaverage()\n",
    "cmap = sns.color_palette('magma', as_cmap=True)\n",
    "roi_parcel = None\n",
    "n_perm = 5000\n",
    "n_subjs = 4\n",
    "method = 'CV'"
   ],
   "metadata": {
    "collapsed": false,
    "pycharm": {
     "name": "#%%\n"
    }
   }
  },
  {
   "cell_type": "code",
   "execution_count": 60,
   "id": "8d4d227c",
   "metadata": {
    "collapsed": false,
    "jupyter": {
     "outputs_hidden": false
    },
    "pycharm": {
     "name": "#%%\n"
    }
   },
   "outputs": [],
   "source": [
    "models = ['None']"
   ]
  },
  {
   "cell_type": "code",
   "execution_count": 66,
   "id": "f74a4ed5-e8e0-4bbc-a487-661bbb948613",
   "metadata": {},
   "outputs": [],
   "source": [
    "for sid in ['02']:#['01', '02', '03', '04']:\n",
    "    anat = nib.load(f'{data_dir}/anatomy/sub-{sid}/sub-{sid}_desc-preproc_T1w.nii.gz')\n",
    "    img = nib.load(f'{mask_dir}/sub-{sid}_space-T1w_desc-test-fracridge_stat-r_statmap.nii.gz')\n",
    "    mask = np.load(f'{out_dir}/Reliability/sub-{sid}_space-T1w_desc-test-fracridge_reliability-mask.npy').astype('bool')\n",
    "    for model in models:\n",
    "        r = np.load(f'{out_dir}/VoxelPermutation/sub-{sid}_prediction-all_drop-None_single-{model}_method-{method}_rs.npy')\n",
    "        p = np.load(f'{out_dir}/VoxelPermutation/sub-{sid}_prediction-all_drop-None_single-{model}_method-{method}_ps.npy')\n",
    "        r_filtered, _ = filter_r(r, p)\n",
    "        volume = mkNifti(r_filtered, mask, img)\n",
    "        # view = plotting.view_img_on_surf(volume, cmap=cmap_pred,\n",
    "        #                                  symmetric_cmap=False, threshold=0.1,\n",
    "        #                                  title=f'sub-{sid} model-{model}')"
   ]
  },
  {
   "cell_type": "code",
   "execution_count": 95,
   "outputs": [],
   "source": [
    "nib.save(volume, 'test.nii.gz')"
   ],
   "metadata": {
    "collapsed": false,
    "pycharm": {
     "name": "#%%\n"
    }
   }
  },
  {
   "cell_type": "code",
   "execution_count": 91,
   "outputs": [],
   "source": [
    "view = plotting.view_img(volume, bg_img=anat,\n",
    "                         cmap=cmap, black_bg=False,\n",
    "                         symmetric_cmap=False,\n",
    "                         threshold=1e-6)\n",
    "view.save_as_html('volume.html')"
   ],
   "metadata": {
    "collapsed": false,
    "pycharm": {
     "name": "#%%\n"
    }
   }
  },
  {
   "cell_type": "code",
   "execution_count": 94,
   "outputs": [],
   "source": [
    "surf = fetch_surf(f'{data_dir}/surfaces/sub-{sid}/surf')\n",
    "hemi = 'right'\n",
    "texture = surface.vol_to_surf(volume,\n",
    "                              surf_mesh=surf[f'pial_{hemi}'],\n",
    "                              interpolation='linear',\n",
    "                              inner_mesh=surf[f'white_{hemi}'])\n",
    "# nib.freesurfer.io.write_morph_data('test.gii', texture)"
   ],
   "metadata": {
    "collapsed": false,
    "pycharm": {
     "name": "#%%\n"
    }
   }
  },
  {
   "cell_type": "code",
   "execution_count": 90,
   "outputs": [],
   "source": [
    "view = plotting.view_surf(surf_mesh=surf[f'infl_{hemi}'],\n",
    "                          bg_map=surf[f'sulc_{hemi}'],\n",
    "                          colorbar=False)\n",
    "                          # surf_map=texture,\n",
    "                          # threshold=1e-6)#, cmap=cmap)\n",
    "                          # symmetric_cmap=False)\n",
    "view.save_as_html('surface.html')"
   ],
   "metadata": {
    "collapsed": false,
    "pycharm": {
     "name": "#%%\n"
    }
   }
  }
 ],
 "metadata": {
  "kernelspec": {
   "display_name": "Python 3 (ipykernel)",
   "language": "python",
   "name": "python3"
  },
  "language_info": {
   "codemirror_mode": {
    "name": "ipython",
    "version": 3
   },
   "file_extension": ".py",
   "mimetype": "text/x-python",
   "name": "python",
   "nbconvert_exporter": "python",
   "pygments_lexer": "ipython3",
   "version": "3.10.4"
  }
 },
 "nbformat": 4,
 "nbformat_minor": 5
}