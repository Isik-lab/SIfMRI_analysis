{
 "cells": [
  {
   "cell_type": "code",
   "execution_count": 1,
   "id": "82b4e540-4c7f-4b70-a468-d75982881890",
   "metadata": {
    "pycharm": {
     "name": "#%%\n"
    }
   },
   "outputs": [],
   "source": [
    "import seaborn as sns\n",
    "import numpy as np\n",
    "import nibabel as nib\n",
    "from nilearn import datasets\n",
    "from statsmodels.stats.multitest import multipletests\n",
    "from src.custom_plotting import plot_surface_stats, mkNifti\n",
    "from nilearn import surface\n",
    "from pathlib import Path\n",
    "\n",
    "import matplotlib.pyplot as plt\n",
    "from matplotlib import gridspec\n",
    "import itertools\n",
    "from nilearn.plotting import plot_surf_roi"
   ]
  },
  {
   "cell_type": "code",
   "execution_count": 2,
   "id": "7ab05a7f",
   "metadata": {
    "collapsed": false,
    "jupyter": {
     "outputs_hidden": false
    },
    "pycharm": {
     "name": "#%%\n"
    }
   },
   "outputs": [],
   "source": [
    "def load_noise_ceiling(mask_dir, sid, mask, dataset):\n",
    "    noise_ceiling = np.load(f'{mask_dir}/sub-{sid}_set-{dataset}_stat-rho_statmap.npy')\n",
    "    noise_ceiling = noise_ceiling[mask]\n",
    "    noise_ceiling[noise_ceiling <= 0.] = np.nan\n",
    "    return noise_ceiling"
   ]
  },
  {
   "cell_type": "code",
   "execution_count": 3,
   "id": "650b4685",
   "metadata": {
    "collapsed": false,
    "jupyter": {
     "outputs_hidden": false
    },
    "pycharm": {
     "name": "#%%\n"
    }
   },
   "outputs": [],
   "source": [
    "def filter_r(rs, ps, p_crit=0.05, correct=False, threshold=False):\n",
    "    if correct and (ps is not None):\n",
    "        _, ps_corrected, _, _ = multipletests(ps, method='fdr_bh')\n",
    "    elif not correct and (ps is not None):\n",
    "        ps_corrected = ps.copy()\n",
    "    else:\n",
    "        ps_corrected = None\n",
    "\n",
    "    if threshold and (ps is not None):\n",
    "        rs[ps_corrected >= p_crit] = 0.\n",
    "    else:\n",
    "        rs[rs < 0.] = 0.\n",
    "    return rs, ps_corrected"
   ]
  },
  {
   "cell_type": "code",
   "execution_count": 4,
   "id": "a2a87723",
   "metadata": {
    "collapsed": false,
    "jupyter": {
     "outputs_hidden": false
    },
    "pycharm": {
     "name": "#%%\n"
    }
   },
   "outputs": [],
   "source": [
    "def plot(r_, p_, sid, mask, img, fsaverage, method, cmap):\n",
    "    r_, _ = filter_r(r_, p_)\n",
    "    if method == 'test':\n",
    "        dataset = 'test'\n",
    "    else:\n",
    "        dataset = 'train'\n",
    "    volume = mkNifti(r_, mask, img)\n",
    "    texture = {'left': surface.vol_to_surf(volume, fsaverage['pial_left']),\n",
    "               'right': surface.vol_to_surf(volume, fsaverage['pial_right'])}\n",
    "\n",
    "    # plotting.plot_glass_brain(volume,\n",
    "    #                           threshold=1e-2, vmax=1.,\n",
    "    #                           colorbar=True, symmetric_cbar=False,\n",
    "    #                           cmap=cmap,\n",
    "    #                           output_file=f'{figure_dir}/sub-{sid}_volume.pdf')\n",
    "\n",
    "    vmax = 0.1\n",
    "    threshold = np.nanmin(r_[np.invert(np.isclose(r_, 0.))])\n",
    "    print(threshold)\n",
    "    plot_surface_stats(fsaverage, texture,\n",
    "                       roi=roi_parcel,\n",
    "                       cmap=cmap,\n",
    "                       modes=['lateral', 'ventral'],\n",
    "                       threshold=threshold,\n",
    "                       vmax=vmax,\n",
    "                       cbar_title=r\"Correlation ($r$)\",\n",
    "                       output_file=f'{figure_dir}/sub-{sid}.pdf')"
   ]
  },
  {
   "cell_type": "code",
   "execution_count": 5,
   "outputs": [],
   "source": [
    "def mk_cmap():\n",
    "    palette = {'black': (0., 0., 0.),\n",
    "               'gray': (0.25, 0.25, 0.25),\n",
    "               'mustard': (0.95703125, 0.86328125, 0.25),\n",
    "               'purple': (0.51953125, 0.34375, 0.953125),\n",
    "               'cyan': (0.44921875, 0.8203125, 0.87109375),\n",
    "               'reddish': (0.8515625, 0.32421875, 0.35546875)}\n",
    "    pref_cmap = sns.color_palette('Paired', len(palette.keys()), as_cmap=True)\n",
    "    pref_cmap._lut = pref_cmap._lut[:9]\n",
    "\n",
    "    out_colors = []\n",
    "    for i, feature in enumerate(palette.keys()):\n",
    "        print(feature)\n",
    "        rgb = palette[feature]\n",
    "        out_colors.append(rgb)\n",
    "        pref_cmap._lut[i] = list(rgb) + [1.]\n",
    "    pref_cmap.colors = tuple(out_colors)\n",
    "\n",
    "    pref_cmap._lut[6] = [0., 0., 0., 1.]\n",
    "    pref_cmap._lut[7] = [0., 0., 0., 1.]\n",
    "    pref_cmap._lut[8] = [0., 0., 0., 1.]\n",
    "\n",
    "    pref_cmap.N = 6\n",
    "    pref_cmap._i_over = 6\n",
    "    pref_cmap._i_under = 7\n",
    "    pref_cmap._i_bad = 8\n",
    "    return pref_cmap"
   ],
   "metadata": {
    "collapsed": false,
    "pycharm": {
     "name": "#%%\n"
    }
   }
  },
  {
   "cell_type": "code",
   "execution_count": 6,
   "outputs": [],
   "source": [
    "def plot_pref_map(texture, cmap, output_file=None):\n",
    "    hemis = ['left', 'right']\n",
    "    modes = ['lateral', 'ventral', 'medial']\n",
    "    threshold = 1.\n",
    "\n",
    "    cbar_h = .25\n",
    "    title_h = 0\n",
    "    w, h = plt.figaspect((len(modes) + cbar_h + title_h) / len(hemis)) * 2\n",
    "    fig = plt.figure(figsize=(w, h), constrained_layout=False)\n",
    "    height_ratios = [title_h] + [1.] * len(modes) + [cbar_h]\n",
    "    grid = gridspec.GridSpec(\n",
    "        len(modes) + 2, len(hemis),\n",
    "        left=0., right=1., bottom=0., top=1.,\n",
    "        height_ratios=height_ratios, hspace=0.0, wspace=0.0)\n",
    "    axes = []\n",
    "    for i, (mode, hemi) in enumerate(itertools.product(modes, hemis)):\n",
    "        bg_map = fsaverage['sulc_%s' % hemi]\n",
    "\n",
    "        ax = fig.add_subplot(grid[i + len(hemis)], projection=\"3d\")\n",
    "        axes.append(ax)\n",
    "        plot_surf_roi(surf_mesh=fsaverage[f'infl_{hemi}'],\n",
    "                      roi_map=texture[hemi],\n",
    "                      view=mode, hemi=hemi,\n",
    "                      bg_map=bg_map,\n",
    "                      alpha=1.,\n",
    "                      axes=ax,\n",
    "                      colorbar=False,  # Colorbar created externally.\n",
    "                      # vmax=vmax,\n",
    "                      threshold=threshold,\n",
    "                      cmap=cmap)\n",
    "\n",
    "        rect = ax.patch\n",
    "        rect.set_facecolor('white')\n",
    "\n",
    "    if output_file is not None:\n",
    "        fig.savefig(output_file, facecolor='white')\n",
    "    plt.close(fig)"
   ],
   "metadata": {
    "collapsed": false,
    "pycharm": {
     "name": "#%%\n"
    }
   }
  },
  {
   "cell_type": "code",
   "execution_count": 7,
   "id": "4ce99abf",
   "metadata": {
    "collapsed": false,
    "jupyter": {
     "outputs_hidden": false
    },
    "pycharm": {
     "name": "#%%\n"
    }
   },
   "outputs": [
    {
     "name": "stdout",
     "output_type": "stream",
     "text": [
      "black\n",
      "gray\n",
      "mustard\n",
      "purple\n",
      "cyan\n",
      "reddish\n"
     ]
    }
   ],
   "source": [
    "data_dir='/Users/emcmaho7/Dropbox/projects/SI_fmri/SIfMRI_analysis/data/raw'\n",
    "out_dir = '/Users/emcmaho7/Dropbox/projects/SI_fmri/SIfMRI_analysis/data/interim'\n",
    "mask_dir = '/Users/emcmaho7/Dropbox/projects/SI_fmri/SIfMRI_analysis/data/interim/Reliability'\n",
    "top_fig_dir = '/Users/emcmaho7/Dropbox/projects/SI_fmri/SIfMRI_analysis/reports/figures/PlotVoxelEncoding'\n",
    "\n",
    "fsaverage = datasets.fetch_surf_fsaverage()\n",
    "cmap_pred = sns.color_palette('magma', as_cmap=True)\n",
    "pref_cmap = mk_cmap()\n",
    "roi_parcel = None\n",
    "img = nib.load(f'{mask_dir}/sub-01_set-test_stat-rho_statmap.nii.gz')\n",
    "n_perm = 5000\n",
    "n_subjs = 4\n",
    "method = 'CV'"
   ]
  },
  {
   "cell_type": "code",
   "execution_count": 8,
   "outputs": [],
   "source": [
    "def full_model_mask(out_dir, sid, method):\n",
    "    r = np.load(f'{out_dir}/VoxelPermutation/sub-{sid}_prediction-all_method-{method}_rs.npy')\n",
    "    p = np.load(f'{out_dir}/VoxelPermutation/sub-{sid}_prediction-all_method-{method}_ps.npy')\n",
    "    _, ps_corrected = filter_r(r, p)\n",
    "    return ps_corrected >= 0.05"
   ],
   "metadata": {
    "collapsed": false,
    "pycharm": {
     "name": "#%%\n"
    }
   }
  },
  {
   "cell_type": "code",
   "execution_count": 9,
   "outputs": [],
   "source": [
    "def compute_pref_map(arr):\n",
    "    max_count = np.sum(np.isclose(arr, arr.max(axis=0)), axis=0)\n",
    "    out = arr.argmax(axis=0)\n",
    "    out[max_count > 1] = 0\n",
    "    return out"
   ],
   "metadata": {
    "collapsed": false,
    "pycharm": {
     "name": "#%%\n"
    }
   }
  },
  {
   "cell_type": "code",
   "execution_count": 10,
   "outputs": [],
   "source": [
    "# models = ['affective', 'social', 'primitive', 'visual', 'nuissance']\n",
    "# models.reverse()\n",
    "models = ['facingness', 'joint action', 'communication']"
   ],
   "metadata": {
    "collapsed": false,
    "pycharm": {
     "name": "#%%\n"
    }
   }
  },
  {
   "cell_type": "code",
   "execution_count": 11,
   "id": "64b7215c",
   "metadata": {
    "collapsed": false,
    "jupyter": {
     "outputs_hidden": false
    },
    "pycharm": {
     "name": "#%%\n"
    }
   },
   "outputs": [
    {
     "name": "stdout",
     "output_type": "stream",
     "text": [
      "2.025755024663567e-08\n",
      "8.850072707303613e-08\n",
      "2.3463626501831793e-07\n",
      "3.3220101102267983e-08\n",
      "2.3713171045001914e-08\n",
      "4.8696334889867875e-08\n",
      "1.5517726860916485e-08\n",
      "5.473188734866907e-08\n",
      "2.005029582688694e-08\n",
      "1.3111973664073736e-08\n",
      "3.003443051923828e-08\n",
      "2.3100724250157967e-08\n"
     ]
    }
   ],
   "source": [
    "for sid in ['01', '02', '03', '04']:\n",
    "    groups = None\n",
    "    for model in models:\n",
    "        # print(f'sub-{sid}: {model}')\n",
    "        figure_dir = f'{top_fig_dir}/{method}/wo_valence_arousal/{model}'\n",
    "        Path(figure_dir).mkdir(parents=True, exist_ok=True)\n",
    "\n",
    "        r_full = np.load(f'{out_dir}/VoxelPermutation/sub-{sid}_prediction-all_drop-None_method-{method}_rs.npy')\n",
    "        r_dropped = np.load(f'{out_dir}/VoxelPermutation/sub-{sid}_prediction-all_drop-{model}_method-{method}_rs.npy')\n",
    "        r = r_full**2 - r_dropped**2\n",
    "        # p = np.load(f'{out_dir}/VoxelPermutation/sub-{sid}_prediction-{model}_method-{method}_ps.npy')\n",
    "        mask = np.load(f'{out_dir}/Reliability/sub-{sid}_set-test_reliability-mask.npy').astype('bool')\n",
    "        # if groups is None:\n",
    "        #     groups = []\n",
    "        #     groups.append(np.zeros_like(r))\n",
    "        # groups.append(r)\n",
    "        plot(r, None, sid, mask, img, fsaverage, method, cmap_pred)\n",
    "\n",
    "    # figure_dir = f'{top_fig_dir}/{method}/full/pref_map'\n",
    "    # Path(figure_dir).mkdir(parents=True, exist_ok=True)\n",
    "    # pref_map = compute_pref_map(np.vstack(groups))\n",
    "    # insig_voxels = full_model_mask(out_dir, sid, method)\n",
    "    # pref_map[insig_voxels] = 0.\n",
    "    # volume = mkNifti(pref_map, mask, img)\n",
    "    # texture = {'left': np.round(surface.vol_to_surf(volume, fsaverage['pial_left'],\n",
    "    #                                                 interpolation='nearest')),\n",
    "    #            'right': np.round(surface.vol_to_surf(volume, fsaverage['pial_right'],\n",
    "    #                                                  interpolation='nearest'))}\n",
    "    # plot_pref_map(pref_cmap, f'{figure_dir}/sub-{sid}.pdf')"
   ]
  },
  {
   "cell_type": "code",
   "execution_count": 11,
   "outputs": [],
   "source": [],
   "metadata": {
    "collapsed": false,
    "pycharm": {
     "name": "#%%\n"
    }
   }
  }
 ],
 "metadata": {
  "kernelspec": {
   "display_name": "Python 3 (ipykernel)",
   "language": "python",
   "name": "python3"
  },
  "language_info": {
   "codemirror_mode": {
    "name": "ipython",
    "version": 3
   },
   "file_extension": ".py",
   "mimetype": "text/x-python",
   "name": "python",
   "nbconvert_exporter": "python",
   "pygments_lexer": "ipython3",
   "version": "3.10.4"
  }
 },
 "nbformat": 4,
 "nbformat_minor": 5
}