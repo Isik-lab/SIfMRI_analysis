{
 "cells": [
  {
   "cell_type": "code",
   "execution_count": 1,
   "id": "b7b459f0-a2ba-41c8-9113-4636820d379d",
   "metadata": {
    "pycharm": {
     "name": "#%%\n"
    }
   },
   "outputs": [],
   "source": [
    "import argparse\n",
    "import time\n",
    "import numpy as np\n",
    "import pandas as pd\n",
    "from pathlib import Path\n",
    "from src import regress\n",
    "\n",
    "from sklearn.preprocessing import StandardScaler\n",
    "from sklearn.linear_model import RidgeCV, Ridge\n",
    "from sklearn.model_selection import KFold\n",
    "import nibabel as nib"
   ]
  },
  {
   "cell_type": "code",
   "execution_count": 2,
   "id": "77eb1dfe-4485-4567-b712-be2fcb28fe85",
   "metadata": {
    "pycharm": {
     "name": "#%%\n"
    }
   },
   "outputs": [],
   "source": [
    "def load_neural(out_dir, sid, dataset):\n",
    "    path = f'{out_dir}/GroupRuns/sub-{sid}/sub-{sid}_{dataset}-data.npy'\n",
    "    return np.load(path)"
   ]
  },
  {
   "cell_type": "code",
   "execution_count": 3,
   "outputs": [],
   "source": [
    "def combine_mask_sd(mask, a, b):\n",
    "    a_sd = np.invert(np.isclose(a.std(axis=0), 0.))\n",
    "    b_sd = np.invert(np.isclose(b.std(axis=0), 0.))\n",
    "    arr = np.vstack([mask, a_sd, b_sd])\n",
    "    return np.all(arr, axis=0)"
   ],
   "metadata": {
    "collapsed": false,
    "pycharm": {
     "name": "#%%\n"
    }
   }
  },
  {
   "cell_type": "code",
   "execution_count": 4,
   "id": "d4366d60-a4bb-4cec-86ef-d9f4d03cf4fe",
   "metadata": {
    "pycharm": {
     "name": "#%%\n"
    }
   },
   "outputs": [],
   "source": [
    "sid = '04'\n",
    "data_dir='/Users/emcmaho7/Dropbox/projects/SI_fmri/SIfMRI_analysis/data/raw'\n",
    "out_dir = '/Users/emcmaho7/Dropbox/projects/SI_fmri/SIfMRI_analysis/data/interim'\n",
    "mask_dir = '/Users/emcmaho7/Dropbox/projects/SI_fmri/SIfMRI_analysis/data/interim/Reliability'\n",
    "\n",
    "mask = np.load(f'{mask_dir}/sub-{sid}_set-train_reliability-mask.npy').astype('bool')"
   ]
  },
  {
   "cell_type": "code",
   "execution_count": 5,
   "outputs": [],
   "source": [
    "X_train = np.load(f'{out_dir}/GenerateModels/annotated_model_set-train.npy')\n",
    "X_control = np.load(f'{out_dir}/GenerateModels/control_model_conv2_set-train.npy')\n",
    "X_train = np.hstack([X_train, X_control])\n",
    "\n",
    "X_test = np.load(f'{out_dir}/GenerateModels/annotated_model_set-test.npy')\n",
    "\n",
    "y_train = load_neural(out_dir, sid, 'train')\n",
    "y_test = load_neural(out_dir, sid, 'test')\n",
    "mask = combine_mask_sd(mask, y_train, y_test)\n",
    "np.save(f'{out_dir}/VoxelEncodingTest/sub-{sid}_mask.npy', mask)\n",
    "\n",
    "y_train = y_train[:, mask]\n",
    "y_test = y_test[:, mask]"
   ],
   "metadata": {
    "collapsed": false,
    "pycharm": {
     "name": "#%%\n"
    }
   }
  },
  {
   "cell_type": "code",
   "execution_count": 6,
   "outputs": [],
   "source": [
    "X_train, X_test = regress.scale(X_train, X_test)\n",
    "y_train, y_test = regress.scale(y_train, y_test)\n",
    "np.save(f'{out_dir}/VoxelEncodingTest/sub-{sid}_y-test.npy', y_test)"
   ],
   "metadata": {
    "collapsed": false,
    "pycharm": {
     "name": "#%%\n"
    }
   }
  },
  {
   "cell_type": "code",
   "execution_count": 7,
   "outputs": [
    {
     "name": "stdout",
     "output_type": "stream",
     "text": [
      "1000.0\n"
     ]
    }
   ],
   "source": [
    "alphas = 10. ** np.arange(start=-2., stop=6.)\n",
    "kf = KFold(n_splits=4, shuffle=True, random_state=0)\n",
    "clf = RidgeCV(cv=kf, scoring=\"r2\", alphas=alphas)\n",
    "clf.fit(X_train, y_train)\n",
    "alpha = clf.alpha_\n",
    "print(alpha)"
   ],
   "metadata": {
    "collapsed": false,
    "pycharm": {
     "name": "#%%\n"
    }
   }
  },
  {
   "cell_type": "code",
   "execution_count": 8,
   "outputs": [
    {
     "data": {
      "text/plain": "Ridge(alpha=1000.0, fit_intercept=False)"
     },
     "execution_count": 8,
     "metadata": {},
     "output_type": "execute_result"
    }
   ],
   "source": [
    "lr = Ridge(fit_intercept=False, alpha=alpha)\n",
    "lr.fit(X_train, y_train)"
   ],
   "metadata": {
    "collapsed": false,
    "pycharm": {
     "name": "#%%\n"
    }
   }
  },
  {
   "cell_type": "code",
   "execution_count": 9,
   "outputs": [],
   "source": [
    "np.save(f'{out_dir}/VoxelEncodingTest/sub-{sid}_betas.npy', lr.coef_[:, :12])"
   ],
   "metadata": {
    "collapsed": false,
    "pycharm": {
     "name": "#%%\n"
    }
   }
  },
  {
   "cell_type": "code",
   "execution_count": 10,
   "outputs": [],
   "source": [
    "models = {'visual': [0, 1, 2],\n",
    "          'socialprimitive': [3, 4],\n",
    "          'social': [5, 6, 7, 8, 9, 10, 11]}\n",
    "features = pd.read_csv(f'{data_dir}/annotations/annotations.csv').sort_values(by=['video_name']).drop(columns=['video_name']).columns.to_numpy()\n",
    "for ifeature, feature in enumerate(features):\n",
    "    models[feature] = ifeature"
   ],
   "metadata": {
    "collapsed": false,
    "pycharm": {
     "name": "#%%\n"
    }
   }
  },
  {
   "cell_type": "code",
   "execution_count": 11,
   "outputs": [
    {
     "name": "stdout",
     "output_type": "stream",
     "text": [
      "finished\n"
     ]
    }
   ],
   "source": [
    "prediction = dict()\n",
    "for key in models:\n",
    "    inds = models[key]\n",
    "    if type(inds) is list:\n",
    "        y_pred = X_test[:, inds] @ lr.coef_[:, inds].T\n",
    "    else:\n",
    "        y_pred = X_test[:, inds:inds+1] @ lr.coef_[:, inds:inds+1].T\n",
    "    prediction[key] = y_pred\n",
    "    np.save(f'{out_dir}/VoxelEncodingTest/sub-{sid}_{key}.npy', y_pred)\n",
    "print('finished')"
   ],
   "metadata": {
    "collapsed": false,
    "pycharm": {
     "name": "#%%\n"
    }
   }
  },
  {
   "cell_type": "code",
   "execution_count": 11,
   "outputs": [],
   "source": [],
   "metadata": {
    "collapsed": false,
    "pycharm": {
     "name": "#%%\n"
    }
   }
  }
 ],
 "metadata": {
  "kernelspec": {
   "display_name": "Python 3 (ipykernel)",
   "language": "python",
   "name": "python3"
  },
  "language_info": {
   "codemirror_mode": {
    "name": "ipython",
    "version": 3
   },
   "file_extension": ".py",
   "mimetype": "text/x-python",
   "name": "python",
   "nbconvert_exporter": "python",
   "pygments_lexer": "ipython3",
   "version": "3.10.4"
  }
 },
 "nbformat": 4,
 "nbformat_minor": 5
}