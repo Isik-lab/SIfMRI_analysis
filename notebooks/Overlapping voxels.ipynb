{
 "cells": [
  {
   "cell_type": "code",
   "execution_count": 94,
   "metadata": {
    "collapsed": true
   },
   "outputs": [],
   "source": [
    "from nilearn import plotting, datasets, surface\n",
    "import nibabel as nib\n",
    "import numpy as np\n",
    "from pathlib import Path\n",
    "from scipy import stats\n",
    "from statsmodels.stats.multitest import multipletests\n",
    "import src.custom_plotting as cp\n",
    "import seaborn as sns"
   ]
  },
  {
   "cell_type": "code",
   "execution_count": 95,
   "outputs": [],
   "source": [
    "def correct(ps_, rs_, p_crit=5e-2):\n",
    "    sig_bool, ps_corrected, _, _ = multipletests(ps_, alpha=p_crit, method='fdr_bh')\n",
    "    indices = np.where(sig_bool)[0]\n",
    "    return sig_bool, rs_[indices].min()\n",
    "\n",
    "\n",
    "def filter_r(rs, ps):\n",
    "    # remove nan\n",
    "    indices = np.isnan(rs)\n",
    "    rs[indices] = 0\n",
    "    ps[indices] = 1\n",
    "\n",
    "    # correct\n",
    "    ps, threshold = correct(ps, rs)\n",
    "    ps = np.invert(ps)\n",
    "    indices = np.where(ps)[0]\n",
    "    rs[indices] = 0.\n",
    "    rs_mask = np.copy(rs)\n",
    "    rs_mask[rs != 0.] = 1.\n",
    "    return rs, rs_mask, threshold"
   ],
   "metadata": {
    "collapsed": false,
    "pycharm": {
     "name": "#%%\n"
    }
   }
  },
  {
   "cell_type": "code",
   "execution_count": 96,
   "outputs": [],
   "source": [
    "#\n",
    "process = 'PlotOverlap'\n",
    "\n",
    "#Paths\n",
    "loc_dir = '/Users/emcmaho7/Dropbox/projects/SI_fmri/SIfMRI_analysis/data/raw/localizer_stats'\n",
    "stat_dir = '/Users/emcmaho7/Dropbox/projects/SI_fmri/SIfMRI_analysis/data/interim/VoxelPermutation'\n",
    "mask_dir = '/Users/emcmaho7/Dropbox/projects/SI_fmri/SIfMRI_analysis/data/interim/Reliability'\n",
    "figure_dir_top = f'/Users/emcmaho7/Dropbox/projects/SI_fmri/SIfMRI_analysis/reports/figures/{process}'\n",
    "\n",
    "#Surf plotting\n",
    "fsaverage = datasets.fetch_surf_fsaverage()\n",
    "cmap = sns.color_palette('magma', as_cmap=True)\n",
    "\n",
    "#ROIS\n",
    "tasks = ['tom', 'SIpSTS', 'FBOS', 'FBOS', 'biomotion']\n",
    "afni_labels = ['Belief-Photo_GLT#0_Tstat', 'Interact-Non_GLT#0_Tstat',\n",
    "               'Faces-Obj_GLT#0_Tstat', 'Bodies-Obj_GLT#0_Tstat',\n",
    "               'Bio-Trans_GLT#0_Tstat']\n",
    "titles = ['ToM', 'SIpSTS', 'Faces', 'Bodies', 'Biomotion']\n",
    "\n",
    "#Subjects\n",
    "sids = ['sub-01', 'sub-02', 'sub-03', 'sub-04']\n",
    "\n",
    "#Features\n",
    "features = ['JointactionCommunicationCooperationDominanceIntimacyValenceArousal',\n",
    "           'IndoorExpanseTransitivity',\n",
    "           'AgentdistanceFacingness']\n",
    "feature_names = ['social', 'scene_object', 'social_primitive']"
   ],
   "metadata": {
    "collapsed": false,
    "pycharm": {
     "name": "#%%\n"
    }
   }
  },
  {
   "cell_type": "code",
   "execution_count": null,
   "outputs": [
    {
     "name": "stderr",
     "output_type": "stream",
     "text": [
      "/Applications/anaconda3/envs/nibabel/lib/python3.10/site-packages/nilearn/_utils/niimg.py:61: UserWarning: Non-finite values detected. These values will be replaced with zeros.\n",
      "  warn(\n",
      "/Applications/anaconda3/envs/nibabel/lib/python3.10/site-packages/nilearn/_utils/niimg.py:61: UserWarning: Non-finite values detected. These values will be replaced with zeros.\n",
      "  warn(\n",
      "/Applications/anaconda3/envs/nibabel/lib/python3.10/site-packages/nilearn/_utils/niimg.py:61: UserWarning: Non-finite values detected. These values will be replaced with zeros.\n",
      "  warn(\n",
      "/Applications/anaconda3/envs/nibabel/lib/python3.10/site-packages/nilearn/_utils/niimg.py:61: UserWarning: Non-finite values detected. These values will be replaced with zeros.\n",
      "  warn(\n",
      "/Applications/anaconda3/envs/nibabel/lib/python3.10/site-packages/nilearn/_utils/niimg.py:61: UserWarning: Non-finite values detected. These values will be replaced with zeros.\n",
      "  warn(\n",
      "/Applications/anaconda3/envs/nibabel/lib/python3.10/site-packages/nilearn/_utils/niimg.py:61: UserWarning: Non-finite values detected. These values will be replaced with zeros.\n",
      "  warn(\n",
      "/Applications/anaconda3/envs/nibabel/lib/python3.10/site-packages/nilearn/_utils/niimg.py:61: UserWarning: Non-finite values detected. These values will be replaced with zeros.\n",
      "  warn(\n",
      "/Applications/anaconda3/envs/nibabel/lib/python3.10/site-packages/nilearn/_utils/niimg.py:61: UserWarning: Non-finite values detected. These values will be replaced with zeros.\n",
      "  warn(\n",
      "/Applications/anaconda3/envs/nibabel/lib/python3.10/site-packages/nilearn/_utils/niimg.py:61: UserWarning: Non-finite values detected. These values will be replaced with zeros.\n",
      "  warn(\n",
      "/Applications/anaconda3/envs/nibabel/lib/python3.10/site-packages/nilearn/_utils/niimg.py:61: UserWarning: Non-finite values detected. These values will be replaced with zeros.\n",
      "  warn(\n",
      "/Applications/anaconda3/envs/nibabel/lib/python3.10/site-packages/nilearn/_utils/niimg.py:61: UserWarning: Non-finite values detected. These values will be replaced with zeros.\n",
      "  warn(\n",
      "/Applications/anaconda3/envs/nibabel/lib/python3.10/site-packages/nilearn/_utils/niimg.py:61: UserWarning: Non-finite values detected. These values will be replaced with zeros.\n",
      "  warn(\n",
      "/Applications/anaconda3/envs/nibabel/lib/python3.10/site-packages/nilearn/_utils/niimg.py:61: UserWarning: Non-finite values detected. These values will be replaced with zeros.\n",
      "  warn(\n",
      "/Applications/anaconda3/envs/nibabel/lib/python3.10/site-packages/nilearn/_utils/niimg.py:61: UserWarning: Non-finite values detected. These values will be replaced with zeros.\n",
      "  warn(\n",
      "/Applications/anaconda3/envs/nibabel/lib/python3.10/site-packages/nilearn/_utils/niimg.py:61: UserWarning: Non-finite values detected. These values will be replaced with zeros.\n",
      "  warn(\n",
      "/Applications/anaconda3/envs/nibabel/lib/python3.10/site-packages/nilearn/_utils/niimg.py:61: UserWarning: Non-finite values detected. These values will be replaced with zeros.\n",
      "  warn(\n",
      "/Applications/anaconda3/envs/nibabel/lib/python3.10/site-packages/nilearn/_utils/niimg.py:61: UserWarning: Non-finite values detected. These values will be replaced with zeros.\n",
      "  warn(\n",
      "/Applications/anaconda3/envs/nibabel/lib/python3.10/site-packages/nilearn/_utils/niimg.py:61: UserWarning: Non-finite values detected. These values will be replaced with zeros.\n",
      "  warn(\n",
      "/Applications/anaconda3/envs/nibabel/lib/python3.10/site-packages/nilearn/_utils/niimg.py:61: UserWarning: Non-finite values detected. These values will be replaced with zeros.\n",
      "  warn(\n"
     ]
    }
   ],
   "source": [
    "for i_task in range(len(tasks)):\n",
    "    for i_sid in range(len(sids)):\n",
    "        for feature, feature_name in zip(features, feature_names):\n",
    "            figure_dir = f'{figure_dir_top}/{sids[i_sid]}/{feature_name}/'\n",
    "            Path(figure_dir).mkdir(parents=True, exist_ok=True)\n",
    "\n",
    "            # Load masks\n",
    "            mask_im = nib.load(f'{mask_dir}/{sids[i_sid]}_set-test_stat-rho_statmap.nii.gz')\n",
    "            mask = np.load(f'{mask_dir}/{sids[i_sid]}_set-test_reliability-mask.npy')\n",
    "\n",
    "            # Load ROI stats\n",
    "            brik = nib.load(f'{loc_dir}/{sids[i_sid]}.{tasks[i_task]}.results/stats.{sids[i_sid]}.{tasks[i_task]}+tlrc.BRIK')\n",
    "            labels = brik.header.get_volume_labels()\n",
    "            loc = np.array(brik.dataobj)[..., labels.index(afni_labels[i_task])]\n",
    "\n",
    "            # Plot ROI stats\n",
    "            loc_img = nib.Nifti1Image(loc, brik.affine, brik.header)\n",
    "            texture = {'left': surface.vol_to_surf(loc_img, fsaverage['pial_left'],\n",
    "                                                   interpolation='nearest'),\n",
    "                       'right': surface.vol_to_surf(loc_img, fsaverage['pial_right'],\n",
    "                                                    interpolation='nearest')}\n",
    "            cp.plot_surface_stats(fsaverage, texture,\n",
    "                                  # roi=self.roi_parcel,\n",
    "                                  cmap=sns.color_palette('icefire', as_cmap=True),\n",
    "                                  modes=['lateral', 'ventral'],\n",
    "                                  output_file=f'{figure_dir}/task-{titles[i_task]}_view-vol_roimap.png',\n",
    "                                  threshold=stats.norm.isf(0.001),\n",
    "                                  title=titles[i_task])\n",
    "\n",
    "            # Filter the significant voxels and the ones that are greater than 0\n",
    "            loc[loc < stats.norm.isf(0.001)] = 0.\n",
    "            loc[loc < 0] = 0.\n",
    "            # Make binary\n",
    "            loc[loc != 0] = 1.\n",
    "            loc = loc.astype('bool').flatten()\n",
    "\n",
    "            # Load the prediction accuracy\n",
    "            base = f'{stat_dir}/{sids[i_sid]}_model-full_predict-{feature}_control-conv2_pca-False'\n",
    "            rs = np.load(f'{base}_rs.npy')\n",
    "            ps = np.load(f'{base}_ps.npy')\n",
    "            rs, _, threshold = filter_r(rs, ps)\n",
    "            rs = cp.mkNifti(rs, mask, mask_im, nii=False)\n",
    "\n",
    "            #Filter the rmap by the localizer\n",
    "            i = np.where(np.invert(loc))\n",
    "            rs[i] = 0.\n",
    "\n",
    "            #Normalize rs by the split-half reliability\n",
    "            reliability = np.array(mask_im.dataobj).flatten()\n",
    "            reliability[np.isclose(reliability, 0.)] = np.nan\n",
    "            rs /= reliability\n",
    "            rs = nib.Nifti1Image(rs.reshape(mask_im.shape), affine=mask_im.affine)\n",
    "\n",
    "            # Plot overlap\n",
    "            plotting.plot_stat_map(rs, threshold=threshold,\n",
    "                                   cmap=cmap,\n",
    "                                   vmax=1.,\n",
    "                                   output_file=f'{figure_dir}/task-{titles[i_task]}_view-vol_conjunction.png')\n",
    "            texture = {'left': surface.vol_to_surf(rs, fsaverage['pial_left'],\n",
    "                                                   interpolation='nearest'),\n",
    "                       'right': surface.vol_to_surf(rs, fsaverage['pial_right'],\n",
    "                                                    interpolation='nearest')}\n",
    "            cp.plot_surface_stats(fsaverage, texture,\n",
    "                                  # roi=self.roi_parcel,\n",
    "                                  cmap=cmap,\n",
    "                                  modes=['lateral', 'ventral'],\n",
    "                                  output_file=f'{figure_dir}/task-{titles[i_task]}_view-surf_conjunction.png',\n",
    "                                  threshold=threshold,\n",
    "                                  vmax=1.,\n",
    "                                  title=titles[i_task])"
   ],
   "metadata": {
    "collapsed": false,
    "pycharm": {
     "name": "#%%\n",
     "is_executing": true
    }
   }
  }
 ],
 "metadata": {
  "kernelspec": {
   "display_name": "Python 3",
   "language": "python",
   "name": "python3"
  },
  "language_info": {
   "codemirror_mode": {
    "name": "ipython",
    "version": 2
   },
   "file_extension": ".py",
   "mimetype": "text/x-python",
   "name": "python",
   "nbconvert_exporter": "python",
   "pygments_lexer": "ipython2",
   "version": "2.7.6"
  }
 },
 "nbformat": 4,
 "nbformat_minor": 0
}