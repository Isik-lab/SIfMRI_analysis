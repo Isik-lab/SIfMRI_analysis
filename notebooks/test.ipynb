{
 "cells": [
  {
   "cell_type": "code",
   "execution_count": 1,
   "id": "82b4e540-4c7f-4b70-a468-d75982881890",
   "metadata": {
    "pycharm": {
     "name": "#%%\n"
    }
   },
   "outputs": [],
   "source": [
    "import argparse\n",
    "import glob\n",
    "\n",
    "import seaborn as sns\n",
    "import numpy as np\n",
    "import pandas as pd\n",
    "import nibabel as nib\n",
    "from nilearn import datasets, plotting\n",
    "from statsmodels.stats.multitest import multipletests\n",
    "from src import custom_plotting as cp\n",
    "from nilearn import surface\n",
    "from pathlib import Path\n",
    "\n",
    "from tqdm import tqdm\n",
    "import matplotlib.pyplot as plt"
   ]
  },
  {
   "cell_type": "code",
   "execution_count": null,
   "outputs": [],
   "source": [
    "def load_noise_ceiling(mask_dir, sid, mask):\n",
    "    noise_ceiling = np.load(f'{mask_dir}/sub-{sid}_set-test_stat-rho_statmap.npy')\n",
    "    noise_ceiling = noise_ceiling[mask]\n",
    "    noise_ceiling[noise_ceiling < 0.] = np.nan\n",
    "    return noise_ceiling"
   ],
   "metadata": {
    "collapsed": false,
    "pycharm": {
     "name": "#%%\n"
    }
   }
  },
  {
   "cell_type": "code",
   "execution_count": null,
   "outputs": [],
   "source": [
    "def filter_r(rs, ps, p_crit=0.05, correct=True, threshold=True):\n",
    "    if correct:\n",
    "        _, ps_corrected, _, _ = multipletests(ps, method='fdr_bh')\n",
    "    else:\n",
    "        ps_corrected = ps.copy()\n",
    "\n",
    "    if threshold:\n",
    "        rs[ps_corrected >= p_crit] = 0.\n",
    "    else:\n",
    "        rs[rs < 0.] = 0.\n",
    "    return rs, ps_corrected"
   ],
   "metadata": {
    "collapsed": false,
    "pycharm": {
     "name": "#%%\n"
    }
   }
  },
  {
   "cell_type": "code",
   "execution_count": null,
   "outputs": [],
   "source": [
    "sid = '01'\n",
    "data_dir='/Users/emcmaho7/Dropbox/projects/SI_fmri/SIfMRI_analysis/data/raw'\n",
    "out_dir = '/Users/emcmaho7/Dropbox/projects/SI_fmri/SIfMRI_analysis/data/interim'\n",
    "mask_dir = '/Users/emcmaho7/Dropbox/projects/SI_fmri/SIfMRI_analysis/data/interim/Reliability'\n",
    "figure_dir = '/Users/emcmaho7/Dropbox/projects/SI_fmri/SIfMRI_analysis/reports/figures/PlotVoxelEncodingTest'\n",
    "\n",
    "fsaverage = datasets.fetch_surf_fsaverage()\n",
    "cmap = sns.color_palette('magma', as_cmap=True)\n",
    "mask_im = nib.load(f'{mask_dir}/sub-{sub}_set-test_stat-rho_statmap.nii.gz')\n",
    "roi_parcel = None"
   ],
   "metadata": {
    "collapsed": false,
    "pycharm": {
     "name": "#%%\n"
    }
   }
  },
  {
   "cell_type": "code",
   "execution_count": null,
   "outputs": [],
   "source": [
    "r_true = np.load(f'{out_dir}/VoxelPermutationTest/sub-{sid}_{model}_rs.npy')\n",
    "p = np.load(f'{out_dir}/VoxelPermutationTest/sub-{sid}_{model}_ps.npy')\n",
    "mask = np.load(f'{out_dir}/VoxelPermutationTest/sub-{sid}_mask.npy')"
   ],
   "metadata": {
    "collapsed": false,
    "pycharm": {
     "name": "#%%\n"
    }
   }
  },
  {
   "cell_type": "code",
   "execution_count": 5,
   "outputs": [],
   "source": [
    "r_true, p_corrected = filter_r(r_true, p)\n",
    "noise_ceiling = load_noise_ceiling(mask_dir, sid, mask)\n",
    "r_normed = np.divide(r_true, noise_ceiling)\n",
    "volume = mkNifti(r_normed, mask, mask_im)\n",
    "texture = {'left': surface.vol_to_surf(volume, fsaverage['pial_left']),\n",
    "           'right': surface.vol_to_surf(volume, fsaverage['pial_right'])}"
   ],
   "metadata": {
    "collapsed": false,
    "pycharm": {
     "name": "#%%\n"
    }
   }
  },
  {
   "cell_type": "code",
   "execution_count": null,
   "outputs": [],
   "source": [
    "hemi = 'right'\n",
    "plotting.view_surf(fsaverage[f'infl_{hemi}'],\n",
    "                   texture[hemi],\n",
    "                   bg_map=fsaverage[f'sulc_{hemi}'],\n",
    "                   symmetric_cmap=False,\n",
    "                   threshold=0.01, vmax=1,\n",
    "                   cmap=cmap)"
   ],
   "metadata": {
    "collapsed": false,
    "pycharm": {
     "name": "#%%\n"
    }
   }
  },
  {
   "cell_type": "code",
   "execution_count": null,
   "outputs": [],
   "source": [
    "plot_surface_stats(fsaverage, texture,\n",
    "                   roi=roi_parcel,\n",
    "                   cmap=cmap,\n",
    "                   modes=['lateral', 'ventral'],\n",
    "                   threshold=0.01,\n",
    "                   vmax=1.,\n",
    "                   output_file=f'{figure_dir}/test.png')"
   ],
   "metadata": {
    "collapsed": false,
    "pycharm": {
     "name": "#%%\n"
    }
   }
  }
 ],
 "metadata": {
  "kernelspec": {
   "display_name": "Python 3 (ipykernel)",
   "language": "python",
   "name": "python3"
  },
  "language_info": {
   "codemirror_mode": {
    "name": "ipython",
    "version": 3
   },
   "file_extension": ".py",
   "mimetype": "text/x-python",
   "name": "python",
   "nbconvert_exporter": "python",
   "pygments_lexer": "ipython3",
   "version": "3.10.4"
  }
 },
 "nbformat": 4,
 "nbformat_minor": 5
}