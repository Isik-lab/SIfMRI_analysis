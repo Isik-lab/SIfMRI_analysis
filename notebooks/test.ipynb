{
 "cells": [
  {
   "cell_type": "code",
   "execution_count": 1,
   "id": "82b4e540-4c7f-4b70-a468-d75982881890",
   "metadata": {
    "pycharm": {
     "name": "#%%\n"
    }
   },
   "outputs": [],
   "source": [
    "import argparse\n",
    "import glob\n",
    "\n",
    "import seaborn as sns\n",
    "import numpy as np\n",
    "import pandas as pd\n",
    "import nibabel as nib\n",
    "from nilearn import datasets, plotting\n",
    "from statsmodels.stats.multitest import multipletests\n",
    "from src import custom_plotting as cp\n",
    "from nilearn import surface\n",
    "from pathlib import Path\n",
    "\n",
    "from tqdm import tqdm\n",
    "import matplotlib.pyplot as plt"
   ]
  },
  {
   "cell_type": "code",
   "execution_count": 2,
   "id": "d81147bb-70b1-4dad-96a2-6e6a18d89c25",
   "metadata": {
    "pycharm": {
     "name": "#%%\n"
    }
   },
   "outputs": [],
   "source": [
    "def load_noise_ceiling(mask_dir, sid, mask):\n",
    "    noise_ceiling = np.load(f'{mask_dir}/sub-{sid}_set-test_stat-rho_statmap.npy')\n",
    "    inds = np.where(noise_ceiling <= 0.)[0]\n",
    "    noise_ceiling[inds] = np.nan\n",
    "    inds = np.where(mask)[0]\n",
    "    noise_ceiling = noise_ceiling[inds]\n",
    "    return noise_ceiling"
   ]
  },
  {
   "cell_type": "code",
   "execution_count": 3,
   "id": "74e5eb6f-58c8-49bb-b075-0412171a04a0",
   "metadata": {
    "pycharm": {
     "name": "#%%\n"
    }
   },
   "outputs": [],
   "source": [
    "def load_prediction(stat_dir, file_name, mask, mask_im):\n",
    "    base = f'{stat_dir}/{file_name}'\n",
    "    rs = np.load(f'{base}_rs.npy')\n",
    "    ps = np.load(f'{base}_ps.npy')\n",
    "    return rs, ps"
   ]
  },
  {
   "cell_type": "code",
   "execution_count": 4,
   "id": "e5497106-ef10-4a86-b7d0-c90f45b5d387",
   "metadata": {
    "pycharm": {
     "name": "#%%\n"
    }
   },
   "outputs": [],
   "source": [
    "process = 'PlotVoxelEncodingTest'\n",
    "\n",
    "mask_dir = '/Users/emcmaho7/Dropbox/projects/SI_fmri/SIfMRI_analysis/data/interim/Reliability'\n",
    "annotation_dir = '/Users/emcmaho7/Dropbox/projects/SI_fmri/SIfMRI_analysis/data/raw/annotations'\n",
    "stat_dir = '/Users/emcmaho7/Dropbox/projects/SI_fmri/SIfMRI_analysis/data/interim/VoxelPermutationTest'\n",
    "figure_dir = '/Users/emcmaho7/Dropbox/projects/SI_fmri/SIfMRI_analysis/reports/figures'\n",
    "figure_dir = f'{figure_dir}/{process}'\n",
    "Path(figure_dir).mkdir(parents=True, exist_ok=True)\n",
    "\n",
    "mask_im = nib.load(f'{mask_dir}/sub-all_set-test_stat-rho_statmap.nii.gz')\n",
    "mask = np.load(f'{mask_dir}/sub-all_set-test_reliability-mask.npy')\n",
    "\n",
    "fsaverage = datasets.fetch_surf_fsaverage()\n",
    "cmap = sns.color_palette('magma', as_cmap=True)\n",
    "\n",
    "roi_parcel = None\n",
    "vmax = 1."
   ]
  },
  {
   "cell_type": "code",
   "execution_count": 5,
   "id": "59bad6b8-b199-4139-a480-51a51b154f96",
   "metadata": {
    "pycharm": {
     "name": "#%%\n"
    }
   },
   "outputs": [],
   "source": [
    "# for sid in ['01', '02', '03', '04']:\n",
    "sid = '02'\n",
    "noise_ceiling = load_noise_ceiling(mask_dir, sid, mask)\n",
    "for model in ['social', 'visual', 'socialprimitive']:\n",
    "    file_name = f'sub-{sid}_model-full_predict-{model}_control-conv2'\n",
    "\n",
    "    rs, ps = load_prediction(stat_dir, file_name, mask, mask_im)\n",
    "    _, ps, _, _ = multipletests(ps, method='fdr_bh')\n",
    "    normed_rs = rs / noise_ceiling\n",
    "    normed_rs[normed_rs > 1] = 1.\n",
    "    normed_rs[ps > 0.05] = 0.\n",
    "    # threshold = np.nanmin(normed_rs[normed_rs > 0])\n",
    "\n",
    "    volume = cp.mkNifti(normed_rs, mask, mask_im)\n",
    "    texture = {'left': surface.vol_to_surf(volume, fsaverage['pial_left'], interpolation='nearest'),\n",
    "               'right': surface.vol_to_surf(volume, fsaverage['pial_right'], interpolation='nearest')}\n",
    "\n",
    "    cp.plot_surface_stats(fsaverage, texture,\n",
    "                          roi=roi_parcel,\n",
    "                          cmap=cmap,\n",
    "                          modes=['lateral', 'ventral'],\n",
    "                          output_file=f'{figure_dir}/{file_name}.png',\n",
    "                          threshold=0.001,\n",
    "                          vmax=1.)"
   ]
  },
  {
   "cell_type": "code",
   "execution_count": 5,
   "outputs": [],
   "source": [],
   "metadata": {
    "collapsed": false,
    "pycharm": {
     "name": "#%%\n"
    }
   }
  }
 ],
 "metadata": {
  "kernelspec": {
   "display_name": "Python 3 (ipykernel)",
   "language": "python",
   "name": "python3"
  },
  "language_info": {
   "codemirror_mode": {
    "name": "ipython",
    "version": 3
   },
   "file_extension": ".py",
   "mimetype": "text/x-python",
   "name": "python",
   "nbconvert_exporter": "python",
   "pygments_lexer": "ipython3",
   "version": "3.10.4"
  }
 },
 "nbformat": 4,
 "nbformat_minor": 5
}