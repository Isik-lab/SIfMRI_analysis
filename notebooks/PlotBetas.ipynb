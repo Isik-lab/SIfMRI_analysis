{
 "cells": [
  {
   "cell_type": "code",
   "execution_count": 1,
   "metadata": {
    "tags": [],
    "pycharm": {
     "name": "#%%\n"
    }
   },
   "outputs": [],
   "source": [
    "import re\n",
    "import numpy as np\n",
    "import nibabel as nib\n",
    "from pathlib import Path\n",
    "\n",
    "import pandas as pd\n",
    "from statsmodels.stats.multitest import multipletests\n",
    "\n",
    "from src import custom_plotting as cp\n",
    "from nilearn import surface, datasets\n",
    "import seaborn as sns\n",
    "import matplotlib.pyplot as plt"
   ]
  },
  {
   "cell_type": "code",
   "execution_count": 2,
   "metadata": {
    "collapsed": false,
    "jupyter": {
     "outputs_hidden": false
    },
    "pycharm": {
     "name": "#%%\n"
    }
   },
   "outputs": [],
   "source": [
    "def correct(ps_, rs_, p_crit=5e-2):\n",
    "    sig_bool, ps_corrected, _, _ = multipletests(ps_, alpha=p_crit, method='fdr_bh')\n",
    "    indices = np.where(sig_bool)[0]\n",
    "    return sig_bool, np.abs(rs_[indices]).min()\n",
    "\n",
    "def filter_r(rs, ps):\n",
    "    # remove nan\n",
    "    indices = np.isnan(rs)\n",
    "    rs[indices] = 0\n",
    "    ps[indices] = 1\n",
    "\n",
    "    # correct\n",
    "    ps, threshold = correct(ps, rs)\n",
    "    ps = np.invert(ps)\n",
    "    indices = np.where(ps)[0]\n",
    "    rs[indices] = 0.\n",
    "    rs_mask = np.copy(rs)\n",
    "    rs_mask[rs != 0.] = 1.\n",
    "    return rs, rs_mask, threshold"
   ]
  },
  {
   "cell_type": "code",
   "execution_count": 3,
   "metadata": {
    "collapsed": false,
    "jupyter": {
     "outputs_hidden": false
    },
    "pycharm": {
     "name": "#%%\n"
    }
   },
   "outputs": [],
   "source": [
    "process = 'PlotVoxelBetas'\n",
    "sid = '04'\n",
    "top_dir = '/Users/emcmaho7/Dropbox/projects/SI_fmri/SIfMRI_analysis'\n",
    "data_dir = f'{top_dir}/data/raw'\n",
    "out_dir = f'{top_dir}/data/interim'\n",
    "figure_dir = f'{top_dir}/reports/figures/{process}/sub-{sid}'\n",
    "Path(figure_dir).mkdir(parents=True, exist_ok=True)\n",
    "fsaverage = datasets.fetch_surf_fsaverage()\n",
    "roi_parcel = None\n",
    "cmap = sns.color_palette(\"magma\", as_cmap=True)"
   ]
  },
  {
   "cell_type": "code",
   "execution_count": 4,
   "metadata": {
    "collapsed": false,
    "jupyter": {
     "outputs_hidden": false
    },
    "pycharm": {
     "name": "#%%\n"
    }
   },
   "outputs": [],
   "source": [
    "mask_im = nib.load(f'{out_dir}/Reliability/sub-{sid}_set-test_stat-rho_statmap.nii.gz')\n",
    "mask = np.load(f'{out_dir}/VoxelEncodingTest/sub-{sid}_mask.npy').astype('bool')\n",
    "betas = np.load(f'{out_dir}/VoxelEncodingTest/sub-{sid}_betas.npy')\n",
    "features = pd.read_csv(f'{data_dir}/annotations/annotations.csv').sort_values(by=['video_name']).drop(columns=['video_name']).columns.to_numpy()"
   ]
  },
  {
   "cell_type": "code",
   "execution_count": 5,
   "metadata": {
    "collapsed": false,
    "jupyter": {
     "outputs_hidden": false
    },
    "pycharm": {
     "name": "#%%\n"
    }
   },
   "outputs": [],
   "source": [
    "for i_feature, feature in enumerate(features):\n",
    "    volume = betas[:,i_feature]\n",
    "    # ps_bool, _, _, _ = multipletests(ps)\n",
    "    # ps_bool = np.invert(ps_bool)\n",
    "    # volume[ps_bool] = 0.\n",
    "\n",
    "    volume = cp.mkNifti(volume, mask, mask_im)\n",
    "    texture = {'left': surface.vol_to_surf(volume, fsaverage['pial_left'],\n",
    "                                           interpolation='nearest'),\n",
    "               'right': surface.vol_to_surf(volume, fsaverage['pial_right'],\n",
    "                                            interpolation='nearest')}\n",
    "\n",
    "    vmax = np.nanmax(texture['right'])\n",
    "    # threshold = np.min(np.abs(texture['right'][texture['right'] != 0]))\n",
    "\n",
    "    cp.plot_betas(fsaverage, texture,\n",
    "                  roi=roi_parcel,\n",
    "                  cmap=cmap,\n",
    "                  modes=['lateral', 'ventral'],\n",
    "                  threshold=0.001,\n",
    "                  vmax=vmax,\n",
    "                  output_file=f'{figure_dir}/{feature}.png')"
   ]
  },
  {
   "cell_type": "code",
   "execution_count": 5,
   "metadata": {
    "pycharm": {
     "name": "#%%\n"
    }
   },
   "outputs": [],
   "source": []
  }
 ],
 "metadata": {
  "kernelspec": {
   "display_name": "Python 3 (ipykernel)",
   "language": "python",
   "name": "python3"
  },
  "language_info": {
   "codemirror_mode": {
    "name": "ipython",
    "version": 3
   },
   "file_extension": ".py",
   "mimetype": "text/x-python",
   "name": "python",
   "nbconvert_exporter": "python",
   "pygments_lexer": "ipython3",
   "version": "3.10.4"
  }
 },
 "nbformat": 4,
 "nbformat_minor": 4
}