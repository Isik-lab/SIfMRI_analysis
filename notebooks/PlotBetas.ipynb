{
 "cells": [
  {
   "cell_type": "code",
   "execution_count": 1,
   "metadata": {
    "pycharm": {
     "is_executing": true
    },
    "tags": []
   },
   "outputs": [],
   "source": [
    "import re\n",
    "import numpy as np\n",
    "import nibabel as nib\n",
    "from pathlib import Path\n",
    "from statsmodels.stats.multitest import multipletests\n",
    "\n",
    "from src import custom_plotting as cp\n",
    "from nilearn import surface, datasets\n",
    "import seaborn as sns\n",
    "import matplotlib.pyplot as plt"
   ]
  },
  {
   "cell_type": "code",
   "execution_count": 2,
   "metadata": {
    "collapsed": false,
    "jupyter": {
     "outputs_hidden": false
    },
    "pycharm": {
     "name": "#%%\n"
    }
   },
   "outputs": [],
   "source": [
    "def correct(ps_, rs_, p_crit=5e-2):\n",
    "    sig_bool, ps_corrected, _, _ = multipletests(ps_, alpha=p_crit, method='fdr_bh')\n",
    "    indices = np.where(sig_bool)[0]\n",
    "    return sig_bool, np.abs(rs_[indices]).min()\n",
    "\n",
    "def filter_r(rs, ps):\n",
    "    # remove nan\n",
    "    indices = np.isnan(rs)\n",
    "    rs[indices] = 0\n",
    "    ps[indices] = 1\n",
    "\n",
    "    # correct\n",
    "    ps, threshold = correct(ps, rs)\n",
    "    ps = np.invert(ps)\n",
    "    indices = np.where(ps)[0]\n",
    "    rs[indices] = 0.\n",
    "    rs_mask = np.copy(rs)\n",
    "    rs_mask[rs != 0.] = 1.\n",
    "    return rs, rs_mask, threshold"
   ]
  },
  {
   "cell_type": "code",
   "execution_count": 3,
   "metadata": {
    "collapsed": false,
    "jupyter": {
     "outputs_hidden": false
    },
    "pycharm": {
     "name": "#%%\n"
    }
   },
   "outputs": [],
   "source": [
    "process = 'PlotVoxelBetas'\n",
    "sid = '04'\n",
    "top_dir = '/Users/emcmaho7/Dropbox/projects/SI_fmri/SIfMRI_analysis'\n",
    "data_dir = f'{top_dir}/data/interim'\n",
    "out_dir = f'{top_dir}/reports/figures/{process}/sub-{sid}'\n",
    "Path(out_dir).mkdir(parents=True, exist_ok=True)\n",
    "fsaverage = datasets.fetch_surf_fsaverage()\n",
    "roi_parcel = None\n",
    "cmap = sns.color_palette(\"viridis\", as_cmap=True)"
   ]
  },
  {
   "cell_type": "code",
   "execution_count": 4,
   "metadata": {
    "collapsed": false,
    "jupyter": {
     "outputs_hidden": false
    },
    "pycharm": {
     "name": "#%%\n"
    }
   },
   "outputs": [],
   "source": [
    "mask_im = nib.load(f'{data_dir}/Reliability/sub-{sid}_set-test_stat-rho_statmap.nii.gz')\n",
    "mask = np.load(f'{data_dir}/Reliability/sub-{sid}_set-test_reliability-mask.npy').astype('bool')"
   ]
  },
  {
   "cell_type": "code",
   "execution_count": 5,
   "metadata": {
    "collapsed": false,
    "jupyter": {
     "outputs_hidden": false
    },
    "pycharm": {
     "name": "#%%\n"
    }
   },
   "outputs": [],
   "source": [
    "betas_name = f'{data_dir}/VoxelEncoding/sub-{sid}_model-full_predict-JointactionCommunicationCooperationDominanceIntimacyValenceArousal_control-conv2_pca-False_betas.npy'\n",
    "betas = np.load(betas_name)\n",
    "ps = np.load(f'{data_dir}/VoxelPermutation/sub-{sid}_model-full_predict-JointactionCommunicationCooperationDominanceIntimacyValenceArousal_control-conv2_pca-False_ps.npy')"
   ]
  },
  {
   "cell_type": "code",
   "execution_count": 6,
   "metadata": {
    "collapsed": false,
    "jupyter": {
     "outputs_hidden": false
    },
    "pycharm": {
     "name": "#%%\n"
    }
   },
   "outputs": [],
   "source": [
    "features = betas_name.split('predict')[-1].split('_')[0].replace('-', '')\n",
    "features = re.findall('[A-Z][^A-Z]*', features)"
   ]
  },
  {
   "cell_type": "code",
   "execution_count": 7,
   "metadata": {
    "collapsed": false,
    "jupyter": {
     "outputs_hidden": false
    },
    "pycharm": {
     "name": "#%%\n"
    }
   },
   "outputs": [
    {
     "name": "stderr",
     "output_type": "stream",
     "text": [
      "/Applications/anaconda3/envs/nibabel/lib/python3.10/site-packages/statsmodels/stats/multitest.py:177: RuntimeWarning: divide by zero encountered in log1p\n",
      "  np.log1p(-pvals))\n",
      "/Applications/anaconda3/envs/nibabel/lib/python3.10/site-packages/statsmodels/stats/multitest.py:177: RuntimeWarning: divide by zero encountered in log1p\n",
      "  np.log1p(-pvals))\n",
      "/Applications/anaconda3/envs/nibabel/lib/python3.10/site-packages/statsmodels/stats/multitest.py:177: RuntimeWarning: divide by zero encountered in log1p\n",
      "  np.log1p(-pvals))\n",
      "/Applications/anaconda3/envs/nibabel/lib/python3.10/site-packages/statsmodels/stats/multitest.py:177: RuntimeWarning: divide by zero encountered in log1p\n",
      "  np.log1p(-pvals))\n",
      "/Applications/anaconda3/envs/nibabel/lib/python3.10/site-packages/statsmodels/stats/multitest.py:177: RuntimeWarning: divide by zero encountered in log1p\n",
      "  np.log1p(-pvals))\n",
      "/Applications/anaconda3/envs/nibabel/lib/python3.10/site-packages/statsmodels/stats/multitest.py:177: RuntimeWarning: divide by zero encountered in log1p\n",
      "  np.log1p(-pvals))\n",
      "/Applications/anaconda3/envs/nibabel/lib/python3.10/site-packages/statsmodels/stats/multitest.py:177: RuntimeWarning: divide by zero encountered in log1p\n",
      "  np.log1p(-pvals))\n"
     ]
    }
   ],
   "source": [
    "for i_feature, feature in enumerate(features):\n",
    "    volume = betas[:,i_feature]\n",
    "    ps_bool, _, _, _ = multipletests(ps)\n",
    "    ps_bool = np.invert(ps_bool)\n",
    "    volume[ps_bool] = 0.\n",
    "\n",
    "    volume = cp.mkNifti(volume, mask, mask_im)\n",
    "    texture = {'left': surface.vol_to_surf(volume, fsaverage['pial_left'],\n",
    "                                           interpolation='nearest'),\n",
    "               'right': surface.vol_to_surf(volume, fsaverage['pial_right'],\n",
    "                                            interpolation='nearest')}\n",
    "\n",
    "    vmax = np.nanmax(texture['right'])\n",
    "    threshold = np.min(np.abs(texture['right'][texture['right'] != 0]))\n",
    "\n",
    "    cp.plot_betas(fsaverage, texture,\n",
    "                  roi=roi_parcel,\n",
    "                  cmap=cmap,\n",
    "                  modes=['lateral', 'ventral'],\n",
    "                  threshold=threshold,\n",
    "                  vmax=vmax,\n",
    "                  output_file=f'{out_dir}/{feature}.png')"
   ]
  },
  {
   "cell_type": "code",
   "execution_count": null,
   "metadata": {},
   "outputs": [],
   "source": []
  }
 ],
 "metadata": {
  "kernelspec": {
   "display_name": "Python 3 (ipykernel)",
   "language": "python",
   "name": "python3"
  },
  "language_info": {
   "codemirror_mode": {
    "name": "ipython",
    "version": 3
   },
   "file_extension": ".py",
   "mimetype": "text/x-python",
   "name": "python",
   "nbconvert_exporter": "python",
   "pygments_lexer": "ipython3",
   "version": "3.10.4"
  }
 },
 "nbformat": 4,
 "nbformat_minor": 4
}
