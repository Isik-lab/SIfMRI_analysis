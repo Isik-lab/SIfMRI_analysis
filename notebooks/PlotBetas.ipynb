{
 "cells": [
  {
   "cell_type": "code",
   "execution_count": 1,
   "metadata": {
    "tags": [],
    "pycharm": {
     "name": "#%%\n"
    }
   },
   "outputs": [],
   "source": [
    "import glob\n",
    "import re\n",
    "import numpy as np\n",
    "import nibabel as nib\n",
    "from pathlib import Path\n",
    "\n",
    "import pandas as pd\n",
    "from scipy import stats\n",
    "from statsmodels.stats.multitest import multipletests\n",
    "\n",
    "from src import custom_plotting as cp\n",
    "from nilearn import surface, datasets\n",
    "import seaborn as sns\n",
    "import matplotlib.pyplot as plt"
   ]
  },
  {
   "cell_type": "code",
   "execution_count": 2,
   "metadata": {
    "collapsed": false,
    "jupyter": {
     "outputs_hidden": false
    },
    "pycharm": {
     "name": "#%%\n"
    }
   },
   "outputs": [],
   "source": [
    "def filter_r(rs, ps, p_crit=0.05, correct=True, threshold=True):\n",
    "    if correct and (ps is not None):\n",
    "        _, ps_corrected, _, _ = multipletests(ps, method='fdr_bh')\n",
    "    else:\n",
    "        ps_corrected = ps.copy()\n",
    "\n",
    "    if threshold and (ps is not None):\n",
    "        rs[ps_corrected >= p_crit] = 0.\n",
    "    else:\n",
    "        rs[rs < 0.] = 0.\n",
    "    return rs, ps_corrected"
   ]
  },
  {
   "cell_type": "code",
   "execution_count": 3,
   "outputs": [],
   "source": [
    "def load_roi_stats(loc_dir, mask, sid, task, afni_label):\n",
    "    # Load ROI stats\n",
    "    brik = nib.load(f'{loc_dir}/sub-{sid}.{task}.results/stats.sub-{sid}.{task}+tlrc.BRIK')\n",
    "    labels = brik.header.get_volume_labels()\n",
    "    loc = np.array(brik.dataobj)[..., labels.index(afni_label)].flatten()\n",
    "    loc = loc[mask]\n",
    "\n",
    "    #Filter to the significant voxels\n",
    "    loc[loc < stats.norm.isf(0.01)] = 0.\n",
    "    loc[loc < 0] = 0.\n",
    "\n",
    "    # Make binary\n",
    "    loc[loc != 0] = 1.\n",
    "    loc = loc.astype('bool')\n",
    "    return np.invert(loc)"
   ],
   "metadata": {
    "collapsed": false,
    "pycharm": {
     "name": "#%%\n"
    }
   }
  },
  {
   "cell_type": "code",
   "execution_count": 4,
   "metadata": {
    "collapsed": false,
    "jupyter": {
     "outputs_hidden": false
    },
    "pycharm": {
     "name": "#%%\n"
    }
   },
   "outputs": [],
   "source": [
    "process = 'PlotVoxelBetas'\n",
    "sid = '01'\n",
    "method = 'test'\n",
    "top_dir = '/Users/emcmaho7/Dropbox/projects/SI_fmri/SIfMRI_analysis'\n",
    "data_dir = f'{top_dir}/data/raw'\n",
    "out_dir = f'{top_dir}/data/interim'\n",
    "figure_dir = f'{top_dir}/reports/figures/{process}'\n",
    "Path(figure_dir).mkdir(parents=True, exist_ok=True)\n",
    "fsaverage = datasets.fetch_surf_fsaverage()\n",
    "roi_parcel = None\n",
    "cmap = sns.color_palette(\"icefire\", as_cmap=True)\n",
    "\n",
    "mask_im = nib.load(f'{out_dir}/Reliability/sub-all_set-test_stat-rho_statmap.nii.gz')\n",
    "mask = np.load(f'{out_dir}/Reliability/sub-all_set-test_reliability-mask.npy').astype('bool')\n",
    "features = pd.read_csv(f'{data_dir}/annotations/annotations.csv').sort_values(by=['video_name']).drop(columns=['video_name']).columns.to_numpy()"
   ]
  },
  {
   "cell_type": "code",
   "execution_count": 5,
   "outputs": [],
   "source": [
    "if method == 'test':\n",
    "    betas = np.load(f'{out_dir}/VoxelRegression/sub-{sid}_betas_method-{method}.npy')\n",
    "else:\n",
    "    beta_files = sorted(glob.glob(f'{out_dir}/VoxelRegression/sub-{sid}_betas_method-{method}_loop-*.npy'))\n",
    "    betas = None\n",
    "    for file in beta_files:\n",
    "        arr = np.load(file)\n",
    "        if betas is None:\n",
    "            betas = arr.copy()\n",
    "        else:\n",
    "            betas += arr\n",
    "    betas /= len(beta_files)\n",
    "\n",
    "ps = np.load(f'{out_dir}/VoxelPermutation/sub-{sid}_prediction-all_method-{method}_ps.npy')"
   ],
   "metadata": {
    "collapsed": false,
    "pycharm": {
     "name": "#%%\n"
    }
   }
  },
  {
   "cell_type": "code",
   "execution_count": 6,
   "outputs": [],
   "source": [
    "loc_dir = '/Users/emcmaho7/Dropbox/projects/SI_fmri/SIfMRI_analysis/data/raw/localizer_stats'\n",
    "tasks = ['unfiltered']#, 'tom', 'SIpSTS']\n",
    "afni_labels = [None]#, 'Belief-Photo_GLT#0_Tstat', 'Interact-Non_GLT#0_Tstat']"
   ],
   "metadata": {
    "collapsed": false,
    "pycharm": {
     "name": "#%%\n"
    }
   }
  },
  {
   "cell_type": "code",
   "execution_count": 7,
   "metadata": {
    "collapsed": false,
    "jupyter": {
     "outputs_hidden": false
    },
    "pycharm": {
     "name": "#%%\n"
    }
   },
   "outputs": [
    {
     "name": "stdout",
     "output_type": "stream",
     "text": [
      "unfiltered: indoor\n"
     ]
    }
   ],
   "source": [
    "for task, afni_label in zip(tasks, afni_labels):\n",
    "    for i_feature, feature in enumerate(['indoor']):#features):\n",
    "        print(f'{task}: {feature}')\n",
    "        Path(f'{figure_dir}/{task}/{feature}').mkdir(parents=True, exist_ok=True)\n",
    "\n",
    "        volume = betas[i_feature, :]\n",
    "        volume, _ = filter_r(volume, ps)\n",
    "\n",
    "        if afni_label is not None:\n",
    "            loc = load_roi_stats(loc_dir, mask, sid, task, afni_label)\n",
    "            volume[loc] = 0.\n",
    "\n",
    "        volume = cp.mkNifti(volume, mask, mask_im)\n",
    "        texture = {'left': surface.vol_to_surf(volume, fsaverage['pial_left'],\n",
    "                                               interpolation='nearest'),\n",
    "                   'right': surface.vol_to_surf(volume, fsaverage['pial_right'],\n",
    "                                                interpolation='nearest')}\n",
    "\n",
    "        vmax = np.nanmax(texture['right'])\n",
    "        cp.plot_betas(fsaverage, texture,\n",
    "                      roi=roi_parcel,\n",
    "                      cmap=cmap,\n",
    "                      modes=['lateral', 'ventral'],\n",
    "                      threshold=1e-7,\n",
    "                      output_file=f'{figure_dir}/{task}/{feature}/sub-{sid}.png')"
   ]
  },
  {
   "cell_type": "code",
   "execution_count": 7,
   "metadata": {
    "pycharm": {
     "name": "#%%\n"
    }
   },
   "outputs": [],
   "source": []
  }
 ],
 "metadata": {
  "kernelspec": {
   "display_name": "Python 3 (ipykernel)",
   "language": "python",
   "name": "python3"
  },
  "language_info": {
   "codemirror_mode": {
    "name": "ipython",
    "version": 3
   },
   "file_extension": ".py",
   "mimetype": "text/x-python",
   "name": "python",
   "nbconvert_exporter": "python",
   "pygments_lexer": "ipython3",
   "version": "3.10.4"
  }
 },
 "nbformat": 4,
 "nbformat_minor": 4
}