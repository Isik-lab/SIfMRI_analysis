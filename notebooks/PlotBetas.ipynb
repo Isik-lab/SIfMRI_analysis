{
 "cells": [
  {
   "cell_type": "code",
   "execution_count": 1,
   "metadata": {
    "tags": [],
    "pycharm": {
     "name": "#%%\n"
    }
   },
   "outputs": [],
   "source": [
    "import glob\n",
    "import re\n",
    "import numpy as np\n",
    "import nibabel as nib\n",
    "from pathlib import Path\n",
    "\n",
    "import pandas as pd\n",
    "from scipy import stats\n",
    "from statsmodels.stats.multitest import multipletests\n",
    "\n",
    "from src import custom_plotting as cp\n",
    "from nilearn import surface, datasets\n",
    "import seaborn as sns\n",
    "import matplotlib.pyplot as plt"
   ]
  },
  {
   "cell_type": "code",
   "execution_count": 2,
   "metadata": {
    "collapsed": false,
    "jupyter": {
     "outputs_hidden": false
    },
    "pycharm": {
     "name": "#%%\n"
    }
   },
   "outputs": [],
   "source": [
    "def filter_r(rs, ps, p_crit=0.05, correct=True, threshold=True):\n",
    "    if correct and (ps is not None):\n",
    "        _, ps_corrected, _, _ = multipletests(ps, method='fdr_bh')\n",
    "    else:\n",
    "        ps_corrected = ps.copy()\n",
    "\n",
    "    if threshold and (ps is not None):\n",
    "        rs[ps_corrected >= p_crit] = 0.\n",
    "    else:\n",
    "        rs[rs < 0.] = 0.\n",
    "    return rs, ps_corrected"
   ]
  },
  {
   "cell_type": "code",
   "execution_count": 3,
   "outputs": [],
   "source": [
    "def load_roi_stats(loc_dir, mask, sid, task, afni_label):\n",
    "    # Load ROI stats\n",
    "    brik = nib.load(f'{loc_dir}/sub-{sid}.{task}.results/stats.sub-{sid}.{task}+tlrc.BRIK')\n",
    "    labels = brik.header.get_volume_labels()\n",
    "    loc = np.array(brik.dataobj)[..., labels.index(afni_label)].flatten()\n",
    "    loc = loc[mask]\n",
    "\n",
    "    #Filter to the significant voxels\n",
    "    loc[loc < stats.norm.isf(0.01)] = 0.\n",
    "    loc[loc < 0] = 0.\n",
    "\n",
    "    # Make binary\n",
    "    loc[loc != 0] = 1.\n",
    "    loc = loc.astype('bool')\n",
    "    return np.invert(loc)"
   ],
   "metadata": {
    "collapsed": false,
    "pycharm": {
     "name": "#%%\n"
    }
   }
  },
  {
   "cell_type": "code",
   "execution_count": 4,
   "metadata": {
    "collapsed": false,
    "jupyter": {
     "outputs_hidden": false
    },
    "pycharm": {
     "name": "#%%\n"
    }
   },
   "outputs": [],
   "source": [
    "process = 'PlotVoxelBetas'\n",
    "n_subjs = 4\n",
    "method = 'test'\n",
    "top_dir = '/Users/emcmaho7/Dropbox/projects/SI_fmri/SIfMRI_analysis'\n",
    "data_dir = f'{top_dir}/data/raw'\n",
    "out_dir = f'{top_dir}/data/interim'\n",
    "figure_dir = f'{top_dir}/reports/figures/{process}'\n",
    "Path(figure_dir).mkdir(parents=True, exist_ok=True)\n",
    "fsaverage = datasets.fetch_surf_fsaverage()\n",
    "roi_parcel = None\n",
    "cmap = sns.color_palette(\"icefire\", as_cmap=True)\n",
    "\n",
    "mask_im = nib.load(f'{out_dir}/Reliability/sub-all_set-test_stat-rho_statmap.nii.gz')\n",
    "mask = np.load(f'{out_dir}/Reliability/sub-all_set-test_reliability-mask.npy').astype('bool')\n",
    "features = pd.read_csv(f'{data_dir}/annotations/annotations.csv').sort_values(by=['video_name']).drop(columns=['video_name']).columns.to_numpy()"
   ]
  },
  {
   "cell_type": "code",
   "execution_count": 5,
   "outputs": [],
   "source": [
    "loc_dir = '/Users/emcmaho7/Dropbox/projects/SI_fmri/SIfMRI_analysis/data/raw/localizer_stats'\n",
    "tasks = ['unfiltered']#, 'tom', 'SIpSTS']\n",
    "afni_labels = [None]#, 'Belief-Photo_GLT#0_Tstat', 'Interact-Non_GLT#0_Tstat']"
   ],
   "metadata": {
    "collapsed": false,
    "pycharm": {
     "name": "#%%\n"
    }
   }
  },
  {
   "cell_type": "code",
   "execution_count": 6,
   "metadata": {
    "collapsed": false,
    "jupyter": {
     "outputs_hidden": false
    },
    "pycharm": {
     "name": "#%%\n"
    }
   },
   "outputs": [
    {
     "name": "stdout",
     "output_type": "stream",
     "text": [
      "sub-all\n"
     ]
    },
    {
     "ename": "FileNotFoundError",
     "evalue": "[Errno 2] No such file or directory: '/Users/emcmaho7/Dropbox/projects/SI_fmri/SIfMRI_analysis/data/interim/VoxelRegression/sub-all_betas_method-test.npy'",
     "output_type": "error",
     "traceback": [
      "\u001B[0;31m---------------------------------------------------------------------------\u001B[0m",
      "\u001B[0;31mFileNotFoundError\u001B[0m                         Traceback (most recent call last)",
      "Input \u001B[0;32mIn [6]\u001B[0m, in \u001B[0;36m<cell line: 1>\u001B[0;34m()\u001B[0m\n\u001B[1;32m      1\u001B[0m \u001B[38;5;28;01mfor\u001B[39;00m sid \u001B[38;5;129;01min\u001B[39;00m [\u001B[38;5;124m'\u001B[39m\u001B[38;5;124mall\u001B[39m\u001B[38;5;124m'\u001B[39m, \u001B[38;5;124m'\u001B[39m\u001B[38;5;124m01\u001B[39m\u001B[38;5;124m'\u001B[39m, \u001B[38;5;124m'\u001B[39m\u001B[38;5;124m02\u001B[39m\u001B[38;5;124m'\u001B[39m, \u001B[38;5;124m'\u001B[39m\u001B[38;5;124m03\u001B[39m\u001B[38;5;124m'\u001B[39m, \u001B[38;5;124m'\u001B[39m\u001B[38;5;124m04\u001B[39m\u001B[38;5;124m'\u001B[39m]:\n\u001B[1;32m      2\u001B[0m     \u001B[38;5;28mprint\u001B[39m(\u001B[38;5;124mf\u001B[39m\u001B[38;5;124m'\u001B[39m\u001B[38;5;124msub-\u001B[39m\u001B[38;5;132;01m{\u001B[39;00msid\u001B[38;5;132;01m}\u001B[39;00m\u001B[38;5;124m'\u001B[39m)\n\u001B[0;32m----> 4\u001B[0m     betas \u001B[38;5;241m=\u001B[39m \u001B[43mnp\u001B[49m\u001B[38;5;241;43m.\u001B[39;49m\u001B[43mload\u001B[49m\u001B[43m(\u001B[49m\u001B[38;5;124;43mf\u001B[39;49m\u001B[38;5;124;43m'\u001B[39;49m\u001B[38;5;132;43;01m{\u001B[39;49;00m\u001B[43mout_dir\u001B[49m\u001B[38;5;132;43;01m}\u001B[39;49;00m\u001B[38;5;124;43m/VoxelRegression/sub-\u001B[39;49m\u001B[38;5;132;43;01m{\u001B[39;49;00m\u001B[43msid\u001B[49m\u001B[38;5;132;43;01m}\u001B[39;49;00m\u001B[38;5;124;43m_betas_method-\u001B[39;49m\u001B[38;5;132;43;01m{\u001B[39;49;00m\u001B[43mmethod\u001B[49m\u001B[38;5;132;43;01m}\u001B[39;49;00m\u001B[38;5;124;43m.npy\u001B[39;49m\u001B[38;5;124;43m'\u001B[39;49m\u001B[43m)\u001B[49m\n\u001B[1;32m      5\u001B[0m     ps \u001B[38;5;241m=\u001B[39m np\u001B[38;5;241m.\u001B[39mload(\u001B[38;5;124mf\u001B[39m\u001B[38;5;124m'\u001B[39m\u001B[38;5;132;01m{\u001B[39;00mout_dir\u001B[38;5;132;01m}\u001B[39;00m\u001B[38;5;124m/VoxelPermutation/sub-\u001B[39m\u001B[38;5;132;01m{\u001B[39;00msid\u001B[38;5;132;01m}\u001B[39;00m\u001B[38;5;124m_prediction-all_method-\u001B[39m\u001B[38;5;132;01m{\u001B[39;00mmethod\u001B[38;5;132;01m}\u001B[39;00m\u001B[38;5;124m_ps.npy\u001B[39m\u001B[38;5;124m'\u001B[39m)\n\u001B[1;32m      7\u001B[0m     \u001B[38;5;28;01mfor\u001B[39;00m task, afni_label \u001B[38;5;129;01min\u001B[39;00m \u001B[38;5;28mzip\u001B[39m(tasks, afni_labels):\n",
      "File \u001B[0;32m/Applications/anaconda3/envs/nibabel/lib/python3.10/site-packages/numpy/lib/npyio.py:407\u001B[0m, in \u001B[0;36mload\u001B[0;34m(file, mmap_mode, allow_pickle, fix_imports, encoding)\u001B[0m\n\u001B[1;32m    405\u001B[0m     own_fid \u001B[38;5;241m=\u001B[39m \u001B[38;5;28;01mFalse\u001B[39;00m\n\u001B[1;32m    406\u001B[0m \u001B[38;5;28;01melse\u001B[39;00m:\n\u001B[0;32m--> 407\u001B[0m     fid \u001B[38;5;241m=\u001B[39m stack\u001B[38;5;241m.\u001B[39menter_context(\u001B[38;5;28;43mopen\u001B[39;49m\u001B[43m(\u001B[49m\u001B[43mos_fspath\u001B[49m\u001B[43m(\u001B[49m\u001B[43mfile\u001B[49m\u001B[43m)\u001B[49m\u001B[43m,\u001B[49m\u001B[43m \u001B[49m\u001B[38;5;124;43m\"\u001B[39;49m\u001B[38;5;124;43mrb\u001B[39;49m\u001B[38;5;124;43m\"\u001B[39;49m\u001B[43m)\u001B[49m)\n\u001B[1;32m    408\u001B[0m     own_fid \u001B[38;5;241m=\u001B[39m \u001B[38;5;28;01mTrue\u001B[39;00m\n\u001B[1;32m    410\u001B[0m \u001B[38;5;66;03m# Code to distinguish from NumPy binary files and pickles.\u001B[39;00m\n",
      "\u001B[0;31mFileNotFoundError\u001B[0m: [Errno 2] No such file or directory: '/Users/emcmaho7/Dropbox/projects/SI_fmri/SIfMRI_analysis/data/interim/VoxelRegression/sub-all_betas_method-test.npy'"
     ]
    }
   ],
   "source": [
    "for sid in ['all', '01', '02', '03', '04']:\n",
    "    print(f'sub-{sid}')\n",
    "\n",
    "    betas = np.load(f'{out_dir}/VoxelRegression/sub-{sid}_betas_method-{method}.npy')\n",
    "    ps = np.load(f'{out_dir}/VoxelPermutation/sub-{sid}_prediction-all_method-{method}_ps.npy')\n",
    "\n",
    "    for task, afni_label in zip(tasks, afni_labels):\n",
    "        for i_feature, feature in enumerate(features):\n",
    "            print(f'{task}: {feature}')\n",
    "            Path(f'{figure_dir}/{task}/{feature}').mkdir(parents=True, exist_ok=True)\n",
    "\n",
    "            volume = betas[i_feature, :]\n",
    "            volume, _ = filter_r(volume, ps)\n",
    "\n",
    "            if afni_label is not None:\n",
    "                loc = load_roi_stats(loc_dir, mask, sid, task, afni_label)\n",
    "                volume[loc] = 0.\n",
    "\n",
    "            volume = cp.mkNifti(volume, mask, mask_im)\n",
    "            texture = {'left': surface.vol_to_surf(volume, fsaverage['pial_left'],\n",
    "                                                   interpolation='nearest'),\n",
    "                       'right': surface.vol_to_surf(volume, fsaverage['pial_right'],\n",
    "                                                    interpolation='nearest')}\n",
    "\n",
    "            vmax = np.nanmax(texture['right'])\n",
    "            cp.plot_betas(fsaverage, texture,\n",
    "                          roi=roi_parcel,\n",
    "                          cmap=cmap,\n",
    "                          modes=['lateral', 'ventral'],\n",
    "                          threshold=1e-7,\n",
    "                          output_file=f'{figure_dir}/{task}/{feature}/sub-{sid}.png')"
   ]
  },
  {
   "cell_type": "code",
   "execution_count": null,
   "metadata": {
    "pycharm": {
     "name": "#%%\n"
    }
   },
   "outputs": [],
   "source": []
  }
 ],
 "metadata": {
  "kernelspec": {
   "display_name": "Python 3 (ipykernel)",
   "language": "python",
   "name": "python3"
  },
  "language_info": {
   "codemirror_mode": {
    "name": "ipython",
    "version": 3
   },
   "file_extension": ".py",
   "mimetype": "text/x-python",
   "name": "python",
   "nbconvert_exporter": "python",
   "pygments_lexer": "ipython3",
   "version": "3.10.4"
  }
 },
 "nbformat": 4,
 "nbformat_minor": 4
}