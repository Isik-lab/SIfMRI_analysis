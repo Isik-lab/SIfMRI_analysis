{
 "cells": [
  {
   "cell_type": "code",
   "execution_count": 25,
   "metadata": {},
   "outputs": [],
   "source": [
    "from nilearn import plotting\n",
    "import nibabel as nib\n",
    "import matplotlib.pyplot as plt\n",
    "from scipy import stats"
   ]
  },
  {
   "cell_type": "code",
   "execution_count": 9,
   "metadata": {},
   "outputs": [],
   "source": [
    "top_dir = '/Users/emcmaho7/Desktop/SI_fMRI_afni/derivatives/localizers/'\n",
    "task = 'SIpSTS'\n",
    "sid = '01'"
   ]
  },
  {
   "cell_type": "code",
   "execution_count": 10,
   "metadata": {},
   "outputs": [],
   "source": [
    "stats_file = f'{top_dir}/sub-{sid}.{task}.results/stats.sub-{sid}.{task}_REML+tlrc.HEAD'\n",
    "brik = nib.load(stats_file)\n",
    "labels = brik.header.get_volume_labels()"
   ]
  },
  {
   "cell_type": "code",
   "execution_count": 17,
   "metadata": {},
   "outputs": [],
   "source": [
    "tstat = labels.index('Interact-Non#0_Tstat')\n",
    "coef = labels.index('Interact-Non#0_Coef')\n",
    "tstat = nib.Nifti1Image(brik.dataobj[..., tstat], affine=brik.affine)\n",
    "coef = nib.Nifti1Image(brik.dataobj[..., coef], affine=brik.affine)"
   ]
  },
  {
   "cell_type": "code",
   "execution_count": null,
   "metadata": {},
   "outputs": [],
   "source": [
    "threshold = stats.t.ppf(1e-4, 15)\n",
    "plotting.plot_img_on_surf(tstat, inflate=True, \n",
    "                          threshold=threshold, \n",
    "                          views=['lateral', 'medial', 'ventral'])\n",
    "plt.show()\n",
    "print()"
   ]
  },
  {
   "cell_type": "code",
   "execution_count": null,
   "metadata": {},
   "outputs": [],
   "source": [
    "tstat"
   ]
  }
 ],
 "metadata": {
  "kernelspec": {
   "display_name": "Python 3",
   "language": "python",
   "name": "python3"
  },
  "language_info": {
   "codemirror_mode": {
    "name": "ipython",
    "version": 3
   },
   "file_extension": ".py",
   "mimetype": "text/x-python",
   "name": "python",
   "nbconvert_exporter": "python",
   "pygments_lexer": "ipython3",
   "version": "3.6.13"
  }
 },
 "nbformat": 4,
 "nbformat_minor": 4
}
