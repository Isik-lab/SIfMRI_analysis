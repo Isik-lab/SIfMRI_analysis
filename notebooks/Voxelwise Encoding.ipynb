{
 "cells": [
  {
   "cell_type": "code",
   "execution_count": 1,
   "metadata": {},
   "outputs": [
    {
     "name": "stderr",
     "output_type": "stream",
     "text": [
      "/Applications/anaconda3/envs/SIfMRI_analysis/lib/python3.6/site-packages/nilearn/__init__.py:69: FutureWarning: Python 3.6 support is deprecated and will be removed in release 0.10 of Nilearn. Consider switching to Python 3.8 or 3.9.\n",
      "  _python_deprecation_warnings()\n"
     ]
    }
   ],
   "source": [
    "import seaborn as sns\n",
    "import matplotlib.pyplot as plt\n",
    "import numpy as np\n",
    "import pandas as pd\n",
    "from src import tools\n",
    "import glob\n",
    "import nibabel as nib\n",
    "from nilearn import plotting"
   ]
  },
  {
   "cell_type": "code",
   "execution_count": 2,
   "metadata": {},
   "outputs": [],
   "source": [
    "top_dir = '/Users/emcmaho7/Dropbox/projects/SI_fmri/SIfMRI_analysis'\n",
    "data_dir = f'{top_dir}/data/raw'\n",
    "out_dir = f'{top_dir}/data/interm'\n",
    "figure_dir = f'{top_dir}/reports/figures'"
   ]
  },
  {
   "cell_type": "code",
   "execution_count": 3,
   "metadata": {},
   "outputs": [],
   "source": [
    "# Get the feature names for the annotated model\n",
    " features = pd.read_csv(f'{data_dir}/annotations/annotations.csv').columns.to_list()\n",
    "features.remove('video_name')"
   ]
  },
  {
   "cell_type": "code",
   "execution_count": 4,
   "metadata": {},
   "outputs": [],
   "source": [
    "n_subjs = 4\n",
    "n_features = len(features)\n",
    "n_conditions = 200"
   ]
  },
  {
   "cell_type": "code",
   "execution_count": 5,
   "metadata": {},
   "outputs": [],
   "source": [
    "mask = np.load(f'{out_dir}/group_reliability/sub-all_reliability-mask.npy')\n",
    "mask_im = nib.load(f'{out_dir}/group_reliability/sub-all_stat-rho_statmap.nii.gz')\n",
    "n_voxels = sum(mask)"
   ]
  },
  {
   "cell_type": "code",
   "execution_count": 6,
   "metadata": {},
   "outputs": [],
   "source": [
    "yhat = np.zeros((n_features, n_conditions, n_voxels))\n",
    "y = np.zeros((n_conditions, n_voxels))\n",
    "for sid_ in range(n_subjs):\n",
    "    sid = str(sid_+1).zfill(2)\n",
    "    yhat += np.load(f'{out_dir}/voxelwise_encoding/sub-{sid}_yhat.npy')\n",
    "    y += np.load(f'{out_dir}/voxelwise_encoding/sub-{sid}_y.npy')\n",
    "yhat /= n_subjs\n",
    "y /= n_subjs"
   ]
  },
  {
   "cell_type": "code",
   "execution_count": 31,
   "metadata": {},
   "outputs": [],
   "source": [
    "def mkbrain(mask, arr, im):\n",
    "    out_im = np.zeros(mask.size)\n",
    "    inds = np.where(mask)[0]\n",
    "    out_im[inds] = arr\n",
    "    return nib.Nifti1Image(out_im.reshape(im.shape), affine=im.affine)"
   ]
  },
  {
   "cell_type": "code",
   "execution_count": 32,
   "metadata": {},
   "outputs": [
    {
     "name": "stderr",
     "output_type": "stream",
     "text": [
      "/Users/emcmaho7/Dropbox/projects/SI_fmri/SIfMRI_analysis/src/tools.py:11: RuntimeWarning: invalid value encountered in true_divide\n",
      "  r = np.sum((x_m * y_m), axis=0) / np.sqrt(np.sum((x_m * x_m), axis=0) * np.sum((y_m * y_m), axis=0))\n",
      "/Users/emcmaho7/Dropbox/projects/SI_fmri/SIfMRI_analysis/src/tools.py:11: RuntimeWarning: invalid value encountered in true_divide\n",
      "  r = np.sum((x_m * y_m), axis=0) / np.sqrt(np.sum((x_m * x_m), axis=0) * np.sum((y_m * y_m), axis=0))\n",
      "/Users/emcmaho7/Dropbox/projects/SI_fmri/SIfMRI_analysis/src/tools.py:11: RuntimeWarning: invalid value encountered in true_divide\n",
      "  r = np.sum((x_m * y_m), axis=0) / np.sqrt(np.sum((x_m * x_m), axis=0) * np.sum((y_m * y_m), axis=0))\n",
      "/Users/emcmaho7/Dropbox/projects/SI_fmri/SIfMRI_analysis/src/tools.py:11: RuntimeWarning: invalid value encountered in true_divide\n",
      "  r = np.sum((x_m * y_m), axis=0) / np.sqrt(np.sum((x_m * x_m), axis=0) * np.sum((y_m * y_m), axis=0))\n",
      "/Users/emcmaho7/Dropbox/projects/SI_fmri/SIfMRI_analysis/src/tools.py:11: RuntimeWarning: invalid value encountered in true_divide\n",
      "  r = np.sum((x_m * y_m), axis=0) / np.sqrt(np.sum((x_m * x_m), axis=0) * np.sum((y_m * y_m), axis=0))\n",
      "/Users/emcmaho7/Dropbox/projects/SI_fmri/SIfMRI_analysis/src/tools.py:11: RuntimeWarning: invalid value encountered in true_divide\n",
      "  r = np.sum((x_m * y_m), axis=0) / np.sqrt(np.sum((x_m * x_m), axis=0) * np.sum((y_m * y_m), axis=0))\n",
      "/Users/emcmaho7/Dropbox/projects/SI_fmri/SIfMRI_analysis/src/tools.py:11: RuntimeWarning: invalid value encountered in true_divide\n",
      "  r = np.sum((x_m * y_m), axis=0) / np.sqrt(np.sum((x_m * x_m), axis=0) * np.sum((y_m * y_m), axis=0))\n",
      "/Users/emcmaho7/Dropbox/projects/SI_fmri/SIfMRI_analysis/src/tools.py:11: RuntimeWarning: invalid value encountered in true_divide\n",
      "  r = np.sum((x_m * y_m), axis=0) / np.sqrt(np.sum((x_m * x_m), axis=0) * np.sum((y_m * y_m), axis=0))\n",
      "/Users/emcmaho7/Dropbox/projects/SI_fmri/SIfMRI_analysis/src/tools.py:11: RuntimeWarning: invalid value encountered in true_divide\n",
      "  r = np.sum((x_m * y_m), axis=0) / np.sqrt(np.sum((x_m * x_m), axis=0) * np.sum((y_m * y_m), axis=0))\n",
      "/Users/emcmaho7/Dropbox/projects/SI_fmri/SIfMRI_analysis/src/tools.py:11: RuntimeWarning: invalid value encountered in true_divide\n",
      "  r = np.sum((x_m * y_m), axis=0) / np.sqrt(np.sum((x_m * x_m), axis=0) * np.sum((y_m * y_m), axis=0))\n",
      "/Users/emcmaho7/Dropbox/projects/SI_fmri/SIfMRI_analysis/src/tools.py:11: RuntimeWarning: invalid value encountered in true_divide\n",
      "  r = np.sum((x_m * y_m), axis=0) / np.sqrt(np.sum((x_m * x_m), axis=0) * np.sum((y_m * y_m), axis=0))\n",
      "/Users/emcmaho7/Dropbox/projects/SI_fmri/SIfMRI_analysis/src/tools.py:11: RuntimeWarning: invalid value encountered in true_divide\n",
      "  r = np.sum((x_m * y_m), axis=0) / np.sqrt(np.sum((x_m * x_m), axis=0) * np.sum((y_m * y_m), axis=0))\n"
     ]
    }
   ],
   "source": [
    "rs = np.zeros((n_features, y.shape[-1]))\n",
    "for fi, feature in enumerate(features):\n",
    "    rs = tools.corr2d(y, yhat[fi,...])\n",
    "    rs_im = mkbrain(mask, rs, mask_im)\n",
    "    outname = f'{figure_dir}/voxelwise_encoding/{feature}.pdf'\n",
    "    plotting.plot_img_on_surf(rs_im, inflate=True,\n",
    "                              threshold=0.01,\n",
    "                              output_file=outname,\n",
    "                              views=['lateral', 'medial', 'ventral'])"
   ]
  },
  {
   "cell_type": "code",
   "execution_count": null,
   "metadata": {},
   "outputs": [],
   "source": []
  }
 ],
 "metadata": {
  "kernelspec": {
   "display_name": "Python 3",
   "language": "python",
   "name": "python3"
  },
  "language_info": {
   "codemirror_mode": {
    "name": "ipython",
    "version": 3
   },
   "file_extension": ".py",
   "mimetype": "text/x-python",
   "name": "python",
   "nbconvert_exporter": "python",
   "pygments_lexer": "ipython3",
   "version": "3.6.13"
  }
 },
 "nbformat": 4,
 "nbformat_minor": 5
}
