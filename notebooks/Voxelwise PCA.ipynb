{
 "cells": [
  {
   "cell_type": "code",
   "execution_count": 1,
   "id": "41fae106",
   "metadata": {},
   "outputs": [],
   "source": [
    "import os\n",
    "\n",
    "import pandas as pd\n",
    "import numpy as np\n",
    "\n",
    "from sklearn.decomposition import PCA\n",
    "from sklearn.preprocessing import StandardScaler\n",
    "from sklearn.linear_model import LinearRegression\n",
    "\n",
    "import matplotlib.pyplot as plt\n",
    "import nibabel as nib\n",
    "from nilearn import plotting\n",
    "\n",
    "# from statsmodels.regression.linear_model import OLS"
   ]
  },
  {
   "cell_type": "code",
   "execution_count": 2,
   "id": "aa0d6b5c",
   "metadata": {},
   "outputs": [],
   "source": [
    "process = 'components'\n",
    "top_dir = '/Users/emcmaho7/Dropbox/projects/SI_fmri/SIfMRI_analysis'\n",
    "data_dir = f'{top_dir}/data/raw'\n",
    "out_dir = f'{top_dir}/data/interim'\n",
    "figure_dir = f'{top_dir}/reports/figures/{process}'\n",
    "if not os.path.exists(figure_dir):\n",
    "    os.mkdir(figure_dir)"
   ]
  },
  {
   "cell_type": "code",
   "execution_count": 3,
   "id": "8e825c9e",
   "metadata": {},
   "outputs": [],
   "source": [
    "X = []\n",
    "mask = np.load(f'{out_dir}/group_reliability/sub-all_reliability-mask.npy').astype('bool')\n",
    "n_voxels = sum(mask)\n",
    "for sid_ in range(4):\n",
    "    sid = str(sid_+1).zfill(2)\n",
    "    betas = np.load(f'{out_dir}/grouped_runs/sub-{sid}/sub-{sid}_train-data.npy')\n",
    "    tot_voxels = betas.shape[0]\n",
    "\n",
    "    #Filter the beta values to the reliable voxels\n",
    "    betas = betas[mask, :]\n",
    "    \n",
    "    #Mean center the activation within subject\n",
    "    offset_subject = betas.mean()\n",
    "    betas -= offset_subject\n",
    "\n",
    "    if type(X) is list:\n",
    "        X = betas.T\n",
    "    else:\n",
    "        X = np.hstack([X, betas.T])\n",
    "X_scaled = StandardScaler().fit_transform(X)"
   ]
  },
  {
   "cell_type": "code",
   "execution_count": 20,
   "id": "e1a26a03",
   "metadata": {},
   "outputs": [],
   "source": [
    "pca = PCA(whiten=True, svd_solver='full', n_components=10)\n",
    "videos_by_comp = pca.fit_transform(X_scaled)\n",
    "comp_by_voxels = pca.components_\n",
    "\n",
    "avg = comp_by_voxels.reshape((-1, 4, n_voxels)).mean(axis=-2)"
   ]
  },
  {
   "cell_type": "code",
   "execution_count": 25,
   "id": "3ddbb977-66e2-41f5-889d-b0e4cce3a840",
   "metadata": {},
   "outputs": [
    {
     "data": {
      "text/plain": [
       "(10, 484060)"
      ]
     },
     "execution_count": 25,
     "metadata": {},
     "output_type": "execute_result"
    }
   ],
   "source": [
    "comp_by_voxels.shape"
   ]
  },
  {
   "cell_type": "code",
   "execution_count": 21,
   "id": "53be3f8e-d078-4a05-9f0f-d3fd94229257",
   "metadata": {},
   "outputs": [
    {
     "data": {
      "text/plain": [
       "[<matplotlib.lines.Line2D at 0x7f79a97ea170>]"
      ]
     },
     "execution_count": 21,
     "metadata": {},
     "output_type": "execute_result"
    },
    {
     "data": {
      "image/png": "[encoded data removed]",
      "text/plain": [
       "<Figure size 432x288 with 1 Axes>"
      ]
     },
     "metadata": {
      "needs_background": "light"
     },
     "output_type": "display_data"
    }
   ],
   "source": [
    "plt.plot(pca.explained_variance_ratio_.cumsum(), '.-')"
   ]
  },
  {
   "cell_type": "code",
   "execution_count": 22,
   "id": "4a94ea88",
   "metadata": {},
   "outputs": [],
   "source": [
    "df = pd.read_csv(f'{data_dir}/annotations/annotations.csv')\n",
    "train = pd.read_csv(f'{data_dir}/annotations/train.csv')\n",
    "df = df.merge(train)\n",
    "df.sort_values(by=['video_name'], inplace=True)\n",
    "features = df.columns.to_list()\n",
    "features.remove('video_name')"
   ]
  },
  {
   "cell_type": "code",
   "execution_count": 23,
   "id": "08c04b91",
   "metadata": {},
   "outputs": [],
   "source": [
    "d = pd.DataFrame()\n",
    "for feature in features:\n",
    "    for i in range(videos_by_comp.shape[-1]):\n",
    "        pc = f'PC{i+1}'\n",
    "        prod = np.dot(df[feature], videos_by_comp[:, i])\n",
    "        new = pd.DataFrame({'feature': feature, 'pc': pc, 'prod': [prod]})\n",
    "        d = pd.concat([d, new], ignore_index=True)"
   ]
  },
  {
   "cell_type": "code",
   "execution_count": 24,
   "id": "e9be3cb9",
   "metadata": {},
   "outputs": [
    {
     "name": "stdout",
     "output_type": "stream",
     "text": [
      "PC1\n",
      "           feature       prod\n",
      "0     transitivity  19.985889\n",
      "1          expanse   6.483130\n",
      "2          arousal   6.137157\n",
      "3   agent distance   5.274591\n",
      "4        dominance   0.520696\n",
      "5     joint action  -0.547733\n",
      "6          valence  -2.877507\n",
      "7      cooperation  -3.469198\n",
      "8         intimacy  -4.819379\n",
      "9       facingness  -9.077732\n",
      "10   communication -12.352981\n",
      "11          indoor -17.918577\n",
      "\n",
      "PC2\n",
      "           feature       prod\n",
      "0           indoor  19.486860\n",
      "1        dominance  14.983131\n",
      "2       facingness  14.141113\n",
      "3         intimacy  11.877575\n",
      "4          arousal  10.938274\n",
      "5     joint action   7.772596\n",
      "6          valence   0.567219\n",
      "7    communication  -1.646020\n",
      "8      cooperation  -3.325923\n",
      "9          expanse -10.622149\n",
      "10    transitivity -11.807424\n",
      "11  agent distance -16.170969\n",
      "\n",
      "PC3\n",
      "           feature       prod\n",
      "0           indoor  13.810319\n",
      "1    communication  12.680467\n",
      "2       facingness   8.768725\n",
      "3          arousal   7.551127\n",
      "4     joint action   3.536498\n",
      "5   agent distance   0.515021\n",
      "6        dominance  -1.075952\n",
      "7          valence  -2.272263\n",
      "8          expanse  -2.782989\n",
      "9      cooperation  -4.761825\n",
      "10        intimacy  -6.402898\n",
      "11    transitivity -14.894892\n",
      "\n",
      "PC4\n",
      "           feature       prod\n",
      "0           indoor  20.193621\n",
      "1       facingness   9.877025\n",
      "2         intimacy   9.350758\n",
      "3     joint action   8.006042\n",
      "4          valence   2.863555\n",
      "5    communication   2.652446\n",
      "6          arousal   1.780088\n",
      "7        dominance   1.683390\n",
      "8      cooperation  -0.816927\n",
      "9   agent distance  -3.120982\n",
      "10    transitivity  -4.940958\n",
      "11         expanse  -5.977371\n",
      "\n",
      "PC5\n",
      "           feature       prod\n",
      "0       facingness  12.640371\n",
      "1           indoor  10.390667\n",
      "2        dominance   7.703683\n",
      "3      cooperation   5.250120\n",
      "4         intimacy   4.468060\n",
      "5    communication   1.988572\n",
      "6     transitivity   1.800279\n",
      "7          valence  -3.252298\n",
      "8     joint action  -5.579854\n",
      "9   agent distance  -6.509362\n",
      "10         expanse -10.343219\n",
      "11         arousal -12.939212\n",
      "\n",
      "PC6\n",
      "           feature      prod\n",
      "0   agent distance  8.427351\n",
      "1          expanse  7.334735\n",
      "2     transitivity  6.597780\n",
      "3       facingness  5.444485\n",
      "4    communication  2.432588\n",
      "5      cooperation  1.936300\n",
      "6        dominance -1.640921\n",
      "7          arousal -2.356400\n",
      "8     joint action -2.413449\n",
      "9          valence -4.677486\n",
      "10          indoor -8.839370\n",
      "11        intimacy -8.925135\n",
      "\n",
      "PC7\n",
      "           feature       prod\n",
      "0   agent distance  13.872675\n",
      "1          expanse  13.298101\n",
      "2     transitivity   8.835678\n",
      "3       facingness   4.112811\n",
      "4          arousal   3.446619\n",
      "5    communication  -1.621093\n",
      "6     joint action  -6.168484\n",
      "7      cooperation  -7.961763\n",
      "8          valence -10.274592\n",
      "9        dominance -11.446441\n",
      "10        intimacy -16.337360\n",
      "11          indoor -16.673384\n",
      "\n",
      "PC8\n",
      "           feature      prod\n",
      "0       facingness  8.904488\n",
      "1     transitivity  5.446562\n",
      "2    communication  5.315840\n",
      "3           indoor  3.839537\n",
      "4        dominance  2.910841\n",
      "5         intimacy  1.317657\n",
      "6      cooperation -0.501402\n",
      "7     joint action -1.262534\n",
      "8   agent distance -1.420660\n",
      "9          arousal -2.380239\n",
      "10         expanse -5.784937\n",
      "11         valence -6.077367\n",
      "\n",
      "PC9\n",
      "           feature       prod\n",
      "0     transitivity  10.129299\n",
      "1           indoor   8.403420\n",
      "2        dominance   7.644012\n",
      "3      cooperation   4.169708\n",
      "4         intimacy   0.788376\n",
      "5    communication  -2.004045\n",
      "6          valence  -3.220314\n",
      "7     joint action  -3.233002\n",
      "8          arousal  -4.432590\n",
      "9       facingness  -5.039239\n",
      "10  agent distance  -5.248838\n",
      "11         expanse  -9.965947\n",
      "\n",
      "PC10\n",
      "           feature       prod\n",
      "0           indoor  17.029895\n",
      "1   agent distance   3.092166\n",
      "2       facingness   1.324693\n",
      "3          arousal   0.435014\n",
      "4    communication  -0.971905\n",
      "5          expanse  -1.855751\n",
      "6     joint action  -2.806148\n",
      "7          valence  -3.121328\n",
      "8      cooperation  -3.459984\n",
      "9         intimacy -10.506142\n",
      "10    transitivity -12.255054\n",
      "11       dominance -13.618309\n",
      "\n"
     ]
    }
   ],
   "source": [
    "for i in range(videos_by_comp.shape[-1]):\n",
    "    print(f'PC{i+1}')\n",
    "    print(d[d.pc == f'PC{i+1}'].drop(columns=['pc']).sort_values(by='prod', ascending=False).reset_index(drop=True))\n",
    "    print()"
   ]
  },
  {
   "cell_type": "code",
   "execution_count": null,
   "id": "097996f2",
   "metadata": {},
   "outputs": [],
   "source": []
  }
 ],
 "metadata": {
  "kernelspec": {
   "display_name": "Python 3 (ipykernel)",
   "language": "python",
   "name": "python3"
  },
  "language_info": {
   "codemirror_mode": {
    "name": "ipython",
    "version": 3
   },
   "file_extension": ".py",
   "mimetype": "text/x-python",
   "name": "python",
   "nbconvert_exporter": "python",
   "pygments_lexer": "ipython3",
   "version": "3.10.0"
  }
 },
 "nbformat": 4,
 "nbformat_minor": 5
}
