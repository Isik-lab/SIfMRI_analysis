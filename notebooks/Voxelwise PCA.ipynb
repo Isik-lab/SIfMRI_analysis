{
 "cells": [
  {
   "cell_type": "code",
   "execution_count": null,
   "id": "dd31499d-5cdc-452e-ba5b-dc5b2793203b",
   "metadata": {},
   "outputs": [],
   "source": [
    "# %matplotlib widget"
   ]
  },
  {
   "cell_type": "code",
   "execution_count": null,
   "id": "41fae106",
   "metadata": {},
   "outputs": [],
   "source": [
    "import os\n",
    "\n",
    "import pandas as pd\n",
    "import numpy as np\n",
    "\n",
    "\n",
    "import matplotlib.pyplot as plt\n",
    "import nibabel as nib\n",
    "from nilearn import plotting, datasets, surface, image\n",
    "import seaborn as sns\n",
    "\n",
    "from matplotlib import gridspec\n",
    "from matplotlib.cm import get_cmap\n",
    "from matplotlib.colors import Normalize, LinearSegmentedColormap\n",
    "import itertools\n",
    "from tqdm import tqdm\n",
    "\n",
    "# from sklearn.cluster import KMeans\n",
    "# from src.regress import ridge\n",
    "# from scipy import stats"
   ]
  },
  {
   "cell_type": "markdown",
   "id": "e6a7385d-4fee-4a68-850c-49fe256b380f",
   "metadata": {
    "tags": []
   },
   "source": [
    "## Set up"
   ]
  },
  {
   "cell_type": "code",
   "execution_count": null,
   "id": "a62ab36a-9426-499d-b45b-d2b44c25427d",
   "metadata": {},
   "outputs": [],
   "source": [
    "def mkNifti(arr, mask, im, nii=True):\n",
    "    out_im = np.zeros(mask.size, dtype=arr.dtype)\n",
    "    inds = np.where(mask)[0]\n",
    "    out_im[inds] = arr\n",
    "    if nii:\n",
    "        out_im = out_im.reshape(im.shape)\n",
    "        out_im = nib.Nifti1Image(out_im, affine=im.affine)\n",
    "    return out_im"
   ]
  },
  {
   "cell_type": "code",
   "execution_count": null,
   "id": "aa0d6b5c",
   "metadata": {},
   "outputs": [],
   "source": [
    "process = 'components'\n",
    "top_dir = '/Users/emcmaho7/Dropbox/projects/SI_fmri/SIfMRI_analysis'\n",
    "data_dir = f'{top_dir}/data/raw'\n",
    "out_dir = f'{top_dir}/data/interim'\n",
    "figure_dir = f'{top_dir}/reports/figures/{process}'\n",
    "if not os.path.exists(figure_dir):\n",
    "    os.mkdir(figure_dir)"
   ]
  },
  {
   "cell_type": "code",
   "execution_count": null,
   "id": "2994f5ec-7f1e-42e0-ac22-3c6754403242",
   "metadata": {},
   "outputs": [],
   "source": [
    "#Load mask\n",
    "mask = np.load(f'{out_dir}/Reliability/sub-all_reliability-mask.npy').astype('bool')\n",
    "im = nib.load(f'{out_dir}/Reliability/sub-all_stat-rho_statmap.nii.gz')\n",
    "\n",
    "rs = np.load(f'{out_dir}/VoxelPermutation/sub-all/sub-all_feature-all_rs-filtered.npy').astype('bool')\n",
    "mask = mkNifti(rs, mask, im, nii=False)"
   ]
  },
  {
   "cell_type": "code",
   "execution_count": null,
   "id": "8e825c9e",
   "metadata": {},
   "outputs": [],
   "source": [
    "X = []\n",
    "\n",
    "n_voxels = sum(mask)\n",
    "for sid_ in range(4):\n",
    "    sid = str(sid_+1).zfill(2)\n",
    "    betas = np.load(f'{out_dir}/grouped_runs/sub-{sid}/sub-{sid}_train-data.npy')\n",
    "    \n",
    "    #Filter the beta values to the reliable voxels\n",
    "    betas = betas[mask, :]\n",
    "    \n",
    "    #Mean center the activation within subject\n",
    "    # offset_subject = betas.mean()\n",
    "    # betas -= offset_subject\n",
    "\n",
    "    if type(X) is list:\n",
    "        X = betas.T\n",
    "    else:\n",
    "        X += betas.T\n",
    "X /= 4 "
   ]
  },
  {
   "cell_type": "code",
   "execution_count": null,
   "id": "b4cc5d27-87ba-4abb-8fd4-cb18fffbd995",
   "metadata": {},
   "outputs": [],
   "source": [
    "df = pd.read_csv(f'{data_dir}/annotations/annotations.csv')\n",
    "train = pd.read_csv(f'{data_dir}/annotations/train.csv')\n",
    "df = df.merge(train)\n",
    "df.sort_values(by=['video_name'], inplace=True)\n",
    "df.drop(columns=['video_name'], inplace=True)\n",
    "features = np.array(df.columns)\n",
    "\n",
    "y = df.to_numpy()"
   ]
  },
  {
   "cell_type": "markdown",
   "id": "e386d9a9-18d3-413f-9ac1-4c5aa6b74af4",
   "metadata": {
    "tags": []
   },
   "source": [
    "## Stuff"
   ]
  },
  {
   "cell_type": "markdown",
   "id": "99a9fd2c-1030-4717-9215-b54f1315bac5",
   "metadata": {},
   "source": [
    "### Regression"
   ]
  },
  {
   "cell_type": "code",
   "execution_count": null,
   "id": "45ff3ec5-f494-4734-8d13-f8fabeeb8f93",
   "metadata": {},
   "outputs": [],
   "source": [
    "coef, _ = ridge(X, y)"
   ]
  },
  {
   "cell_type": "markdown",
   "id": "8b958d8b-484c-4c50-a7cb-6ea77eef5974",
   "metadata": {},
   "source": [
    "### KMeans"
   ]
  },
  {
   "cell_type": "code",
   "execution_count": null,
   "id": "125b2f77-1ad0-4e17-a473-b721e8dadf7b",
   "metadata": {},
   "outputs": [],
   "source": [
    "n_clusters = 4\n",
    "kmeans = KMeans(n_clusters=n_clusters, random_state=0)\n",
    "cluster_labels = kmeans.fit_predict(coef.T)"
   ]
  },
  {
   "cell_type": "markdown",
   "id": "8803f612-409f-413f-96d7-0ef88432d2b4",
   "metadata": {},
   "source": [
    "### TSNE"
   ]
  },
  {
   "cell_type": "code",
   "execution_count": null,
   "id": "8195322b-bd3c-4bb7-9c7e-6ba09b12fa65",
   "metadata": {},
   "outputs": [],
   "source": [
    "from sklearn.manifold import TSNE\n",
    "tsne = TSNE(n_components=2)\n",
    "embed = tsne.fit_transform(coef.T)\n",
    "\n",
    "sns.scatterplot(embed[:,0], embed[:,1],\n",
    "                hue=cluster_labels+1, palette=sns.color_palette('husl', 4))"
   ]
  },
  {
   "cell_type": "markdown",
   "id": "57a92815-9b31-43e5-bb89-bc4ecced6edb",
   "metadata": {},
   "source": [
    "### Plotting on brain"
   ]
  },
  {
   "cell_type": "code",
   "execution_count": null,
   "id": "7a27e637-fa43-4f87-adc0-17e588b18685",
   "metadata": {},
   "outputs": [],
   "source": [
    "sum(cluster_labels ==0)"
   ]
  },
  {
   "cell_type": "code",
   "execution_count": null,
   "id": "96966422-86cb-43a9-858a-05cf01e09a3e",
   "metadata": {},
   "outputs": [],
   "source": [
    "sum(cluster_labels ==3)"
   ]
  },
  {
   "cell_type": "code",
   "execution_count": null,
   "id": "f8d21fe4-9afa-4d0f-b67c-6495a166b61f",
   "metadata": {},
   "outputs": [],
   "source": [
    "np.unique(brain_map.dataobj)"
   ]
  },
  {
   "cell_type": "code",
   "execution_count": null,
   "id": "81747b0d-c59c-4524-a772-399b22eeb3fc",
   "metadata": {},
   "outputs": [],
   "source": [
    "base = 10\n",
    "cmap = sns.color_palette('Paired', 4, as_cmap=True)\n",
    "# cmap.set_bad(color = 'k', alpha = 0)\n",
    "brain_map = mkNifti(cluster_labels+base, mask, im)\n",
    "fsaverage = datasets.fetch_surf_fsaverage(mesh='fsaverage')\n",
    "texture = {'left': [], 'right': []}\n",
    "for hemi in ['left', 'right']: \n",
    "    arr = surface.vol_to_surf(brain_map, fsaverage[f'pial_{hemi}'],\n",
    "                                       interpolation='nearest')\n",
    "    texture[hemi] = arr.astype('int')\n",
    "    \n",
    "for hemi in ['left', 'right']:\n",
    "    view = plotting.view_surf(fsaverage[f'infl_{hemi}'],\n",
    "                              title=hemi,\n",
    "                              surf_map=texture[hemi],\n",
    "                              symmetric_cmap=False,\n",
    "                              vmin=base, vmax=n_clusters+base,\n",
    "                              threshold=base,\n",
    "                              cmap=cmap,bg_map=fsaverage[f'sulc_{hemi}'])\n",
    "    view.open_in_browser()"
   ]
  },
  {
   "cell_type": "code",
   "execution_count": null,
   "id": "aff8afca-f467-4389-bc41-022b89fe8242",
   "metadata": {},
   "outputs": [],
   "source": [
    "view = plotting.view_img(brain_map, cmap=cmap,\n",
    "                         vmin=base, vmax=n_clusters+base-1,\n",
    "                          threshold=base, colorbar=True,\n",
    "                        symmetric_cmap=False)\n",
    "view.open_in_browser()"
   ]
  },
  {
   "cell_type": "code",
   "execution_count": null,
   "id": "097996f2",
   "metadata": {},
   "outputs": [],
   "source": [
    "for i in range(n_clusters):\n",
    "    vals = kmeans.cluster_centers_[i,:]\n",
    "    vals = (vals - vals.mean()) / vals.std()\n",
    "    sort_indices = vals.argsort()\n",
    "    sort_indices = np.flip(sort_indices)\n",
    "    print(f'N voxels in cluster: {sum(cluster_labels == i)}')\n",
    "    print(pd.DataFrame({'cluster centers': vals[sort_indices],\n",
    "                       'features': features[sort_indices]}))\n",
    "    print()"
   ]
  },
  {
   "cell_type": "code",
   "execution_count": null,
   "id": "10cd82a8-df37-4e75-8a97-acaec6c43ff1",
   "metadata": {},
   "outputs": [],
   "source": []
  }
 ],
 "metadata": {
  "kernelspec": {
   "display_name": "Python 3 (ipykernel)",
   "language": "python",
   "name": "python3"
  },
  "language_info": {
   "codemirror_mode": {
    "name": "ipython",
    "version": 3
   },
   "file_extension": ".py",
   "mimetype": "text/x-python",
   "name": "python",
   "nbconvert_exporter": "python",
   "pygments_lexer": "ipython3",
   "version": "3.10.0"
  }
 },
 "nbformat": 4,
 "nbformat_minor": 5
}
