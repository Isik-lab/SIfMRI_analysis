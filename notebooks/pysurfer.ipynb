{
 "cells": [
  {
   "cell_type": "code",
   "execution_count": 1,
   "id": "ab563745-e924-429b-b871-aa5a29db980d",
   "metadata": {},
   "outputs": [],
   "source": [
    "# conda activate nilearn37"
   ]
  },
  {
   "cell_type": "code",
   "execution_count": 2,
   "id": "7651a297-1446-4541-8fa8-00e8cdbcef0f",
   "metadata": {},
   "outputs": [],
   "source": [
    "import os\n",
    "\n",
    "import pandas as pd\n",
    "import numpy as np\n",
    "\n",
    "import matplotlib.pyplot as plt\n",
    "import nibabel as nib\n",
    "from nilearn import plotting, datasets, surface, image\n",
    "import seaborn as sns\n",
    "\n",
    "from src.regress import ridge\n",
    "\n",
    "from sklearn.decomposition import PCA\n",
    "from scipy.stats import pearsonr"
   ]
  },
  {
   "cell_type": "code",
   "execution_count": 3,
   "id": "36bc4ecf-a5d8-4537-aedd-386d58f6eefd",
   "metadata": {},
   "outputs": [],
   "source": [
    "# from mayavi import mlab\n",
    "# from surfer import Brain"
   ]
  },
  {
   "cell_type": "code",
   "execution_count": 4,
   "id": "145d4d49-c035-468a-8fc6-e0831aa1921f",
   "metadata": {},
   "outputs": [],
   "source": [
    "def mkNifti(arr, mask, im, nii=True):\n",
    "    out_im = np.zeros(mask.size, dtype=arr.dtype)\n",
    "    inds = np.where(mask)[0]\n",
    "    out_im[inds] = arr\n",
    "    if nii:\n",
    "        out_im = out_im.reshape(im.shape)\n",
    "        out_im = nib.Nifti1Image(out_im, affine=im.affine)\n",
    "    return out_im"
   ]
  },
  {
   "cell_type": "code",
   "execution_count": 5,
   "id": "5f57f6ad-b142-4d5b-91ef-9c7c92ec6b11",
   "metadata": {},
   "outputs": [],
   "source": [
    "process = 'components'\n",
    "top_dir = '/Users/emcmaho7/Dropbox/projects/SI_fmri/SIfMRI_analysis'\n",
    "data_dir = f'{top_dir}/data/raw'\n",
    "out_dir = f'{top_dir}/data/interim'\n",
    "figure_dir = f'{top_dir}/reports/figures/{process}'\n",
    "if not os.path.exists(figure_dir):\n",
    "    os.mkdir(figure_dir)"
   ]
  },
  {
   "cell_type": "code",
   "execution_count": 6,
   "id": "cc0a9625-00ff-4cc4-b644-1629d0983066",
   "metadata": {},
   "outputs": [],
   "source": [
    "#Load mask\n",
    "mask = np.load(f'{out_dir}/Reliability/sub-all_reliability-mask.npy').astype('bool')\n",
    "im = nib.load(f'{out_dir}/Reliability/sub-all_stat-rho_statmap.nii.gz')\n",
    "\n",
    "rs = np.load(f'{out_dir}/VoxelPermutation/sub-all/sub-all_feature-all_rs-filtered.npy').astype('bool')\n",
    "rs = mkNifti(rs, mask, im, nii=False)"
   ]
  },
  {
   "cell_type": "code",
   "execution_count": 8,
   "id": "36e4f8b7-9ee4-443b-b1b6-baecd67f2311",
   "metadata": {},
   "outputs": [],
   "source": [
    "base = '/Users/emcmaho7/Dropbox/projects/SI_fmri/SIfMRI_analysis/data/interim/VoxelPermutation/sub-all/sub-all_feature-XXX_rs.npy'\n",
    "pred = []\n",
    "for feature in features:\n",
    "    arr = np.load(base.replace('XXX', feature))\n",
    "    arr = np.expand_dims(arr, axis=1)\n",
    "    if type(pred) is list:\n",
    "        pred = arr\n",
    "    else:\n",
    "        pred = np.hstack([pred, arr])\n",
    "preference = np.argmax(pred, axis=1)"
   ]
  },
  {
   "cell_type": "code",
   "execution_count": 9,
   "id": "dc29f0bb-d3dd-44a1-a5ad-dc8b1626501f",
   "metadata": {},
   "outputs": [
    {
     "name": "stdout",
     "output_type": "stream",
     "text": [
      "Percent voxels for feature: 6.7\n",
      "Percent voxels for feature: 14.7\n",
      "Percent voxels for feature: 14.3\n",
      "Percent voxels for feature: 4.9\n",
      "Percent voxels for feature: 12.3\n",
      "Percent voxels for feature: 2.8\n",
      "Percent voxels for feature: 12.3\n",
      "Percent voxels for feature: 3.1\n",
      "Percent voxels for feature: 4.3\n",
      "Percent voxels for feature: 7.9\n",
      "Percent voxels for feature: 3.2\n",
      "Percent voxels for feature: 13.3\n"
     ]
    }
   ],
   "source": [
    "for i in range(n_features):\n",
    "    print(f'Percent voxels for feature: {(np.sum(preference == i)/len(preference))*100:0.1f}')"
   ]
  },
  {
   "cell_type": "code",
   "execution_count": null,
   "id": "370061a3-e57b-4be9-8a64-984fdc93a921",
   "metadata": {},
   "outputs": [],
   "source": [
    "vmin = 1\n",
    "vmax = len(np.unique(preference)) - 1 + vmin\n",
    "preference += vmin"
   ]
  },
  {
   "cell_type": "code",
   "execution_count": null,
   "id": "1d759d86-adea-4524-943e-3d4384b1af7b",
   "metadata": {},
   "outputs": [],
   "source": [
    "preference = mkNifti(preference, mask, im, nii=False)\n",
    "preference[~rs] = 0\n",
    "preference = preference.astype('float')\n",
    "preference = nib.Nifti1Image(preference.reshape(im.shape), affine=im.affine)"
   ]
  },
  {
   "cell_type": "code",
   "execution_count": 60,
   "id": "0e9d8f72-0bed-41a7-83cd-bc35ab2a8b00",
   "metadata": {},
   "outputs": [],
   "source": [
    "view = plotting.view_img(preference, cmap=cmap,\n",
    "                        threshold=vmin, vmax=vmax,\n",
    "                        symmetric_cmap=False)\n",
    "view.open_in_browser()"
   ]
  },
  {
   "cell_type": "code",
   "execution_count": 61,
   "id": "64105303-1b9a-426c-b8ca-7e2ca362f815",
   "metadata": {},
   "outputs": [],
   "source": [
    "fsaverage = datasets.fetch_surf_fsaverage(mesh='fsaverage')\n",
    "texture = {'left': [], 'right': []}\n",
    "for hemi in ['left', 'right']: \n",
    "    arr = surface.vol_to_surf(preference, fsaverage[f'pial_{hemi}'],\n",
    "                                       interpolation='nearest')\n",
    "    texture[hemi] = arr.astype('int')\n",
    "    \n",
    "for hemi in ['left', 'right']:\n",
    "    view = plotting.view_surf(fsaverage[f'infl_{hemi}'],\n",
    "                              title=hemi,\n",
    "                              surf_map=texture[hemi],\n",
    "                              symmetric_cmap=False,\n",
    "                              vmax=vmax,\n",
    "                              threshold=vmin,\n",
    "                              cmap=cmap,bg_map=fsaverage[f'sulc_{hemi}'])\n",
    "    view.open_in_browser()"
   ]
  },
  {
   "cell_type": "code",
   "execution_count": null,
   "id": "c5120f5c-f666-4454-b33a-79e196b5104e",
   "metadata": {},
   "outputs": [],
   "source": []
  }
 ],
 "metadata": {
  "kernelspec": {
   "display_name": "Python 3 (ipykernel)",
   "language": "python",
   "name": "python3"
  },
  "language_info": {
   "codemirror_mode": {
    "name": "ipython",
    "version": 3
   },
   "file_extension": ".py",
   "mimetype": "text/x-python",
   "name": "python",
   "nbconvert_exporter": "python",
   "pygments_lexer": "ipython3",
   "version": "3.10.0"
  }
 },
 "nbformat": 4,
 "nbformat_minor": 5
}
