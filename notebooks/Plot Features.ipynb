{
 "cells": [
  {
   "cell_type": "code",
   "execution_count": 1,
   "id": "76367ea1-b600-4ab2-a24a-12c4a08fa077",
   "metadata": {},
   "outputs": [],
   "source": [
    "import os\n",
    "import seaborn as sns\n",
    "import matplotlib.pyplot as plt\n",
    "import numpy as np\n",
    "import pandas as pd\n",
    "import nibabel as nib\n",
    "from nilearn import datasets, surface, plotting"
   ]
  },
  {
   "cell_type": "code",
   "execution_count": 2,
   "id": "0165bf37-d9b9-43b7-bb33-70eb483cb0b0",
   "metadata": {},
   "outputs": [],
   "source": [
    "def filter_r(r, p, fill=None, crit=1e-3):\n",
    "    # p = surface.vol_to_surf(p, fsaverage[f'pial_{hemi}'])\n",
    "    \n",
    "    if fill is None:\n",
    "        i = np.where(p >= crit)\n",
    "        r[i] = 0\n",
    "    else:\n",
    "        i = np.where(p < crit)\n",
    "        r[i] = fill\n",
    "    return r"
   ]
  },
  {
   "cell_type": "code",
   "execution_count": 3,
   "id": "694ac7ab-881b-49b2-8d66-263fc18ca2d9",
   "metadata": {},
   "outputs": [],
   "source": [
    "def mkNifti(mask, name, im, zeros=True):\n",
    "    if zeros:\n",
    "        out_im = np.zeros(mask.size)\n",
    "    else:\n",
    "        out_im = np.ones(mask.size)\n",
    "    inds = np.where(mask)[0]\n",
    "    out_im[inds] = np.load(name)\n",
    "    return nib.Nifti1Image(out_im.reshape(im.shape), affine=im.affine)"
   ]
  },
  {
   "cell_type": "code",
   "execution_count": 4,
   "id": "98116ec1-c073-4678-9212-bbd45e99cdb2",
   "metadata": {},
   "outputs": [],
   "source": [
    "process = 'PlotFeatures'\n",
    "top_dir = '/Users/emcmaho7/Dropbox/projects/SI_fmri/SIfMRI_analysis'\n",
    "data_dir = f'{top_dir}/data/raw'\n",
    "out_dir = f'{top_dir}/data/interim'\n",
    "sid='03'\n",
    "figure_dir = f'{top_dir}/reports/figures/{process}/sub-{sid}'\n",
    "if not os.path.exists(figure_dir):\n",
    "    os.mkdir(figure_dir)\n",
    "    os.mkdir(f'{figure_dir}/feature')\n",
    "    os.mkdir(f'{figure_dir}/feature/glass')\n",
    "    os.mkdir(f'{figure_dir}/feature/surf')\n",
    "    os.mkdir(f'{figure_dir}/category')\n",
    "    os.mkdir(f'{figure_dir}/category/glass')\n",
    "    os.mkdir(f'{figure_dir}/category/surf')\n",
    "fsaverage = datasets.fetch_surf_fsaverage()"
   ]
  },
  {
   "cell_type": "code",
   "execution_count": 5,
   "id": "035d9ab9-32bf-4148-9bfb-5ab992685253",
   "metadata": {},
   "outputs": [],
   "source": [
    "df = pd.read_csv(f'{data_dir}/annotations/annotations.csv')\n",
    "train = pd.read_csv(f'{data_dir}/annotations/train.csv')\n",
    "df = df.merge(train)\n",
    "df.sort_values(by=['video_name'], inplace=True)\n",
    "features = df.columns.to_list()\n",
    "features.remove('video_name')"
   ]
  },
  {
   "cell_type": "code",
   "execution_count": 6,
   "id": "ae3f6a9f-4d05-406e-9dbf-83c75344616d",
   "metadata": {},
   "outputs": [],
   "source": [
    "features_cat = ['visual', 'visual', 'visual',\n",
    "                'visual', 'visual', 'detection',\n",
    "                'detection', 'features', 'features',\n",
    "                'features', 'features', 'features']\n",
    "\n",
    "# features_cat = [1, 1, 1, 1, 1,\n",
    "#                 2, 2, \n",
    "#                 3, 3, 3, 3, 3]"
   ]
  },
  {
   "cell_type": "code",
   "execution_count": 7,
   "id": "8a1b9485-9e7c-4bd7-8161-977b00f0d1c2",
   "metadata": {},
   "outputs": [],
   "source": [
    "mask = np.load(f'{out_dir}/group_reliability/sub-all_reliability-mask.npy')\n",
    "mask_im = nib.load(f'{out_dir}/group_reliability/sub-all_stat-rho_statmap.nii.gz')\n",
    "\n",
    "name = f'{out_dir}/VoxelPermutation/sub-{sid}/sub-{sid}_feature-indoor_ps.npy'\n",
    "ps = mkNifti(mask, name, mask_im, zeros=False)\n",
    "# n = surface.vol_to_surf(ps, fsaverage['pial_right']).shape\n",
    "ps = np.array(ps.dataobj)\n",
    "# texture = {'left': np.zeros_like(ps), 'right': np.zeros_like(ps)}\n",
    "# texture = {'left': filter_r(texture['left'], ps, hemi='left', fill=1),\n",
    "#            'right': filter_r(texture['right'], ps, hemi='right', fill=1)}"
   ]
  },
  {
   "cell_type": "code",
   "execution_count": 8,
   "id": "45b0e2b1-9278-470c-801a-fc447868c78a",
   "metadata": {},
   "outputs": [],
   "source": [
    "def fill_val(texture, out_dir, sid, features, fill=1):\n",
    "    for feature in features:\n",
    "        name = f'{out_dir}/VoxelPermutation/sub-{sid}/sub-{sid}_feature-{feature}_ps.npy'\n",
    "        ps = mkNifti(mask, name, mask_im, zeros=False)\n",
    "        ps = np.array(ps.dataobj)\n",
    "        texture = filter_r(texture, ps, fill=fill)\n",
    "    return nib.Nifti1Image(texture, affine=mask_im.affine)"
   ]
  },
  {
   "cell_type": "code",
   "execution_count": 9,
   "id": "7a1e7f1b-9526-4b73-a3c9-de1a34085e8e",
   "metadata": {},
   "outputs": [],
   "source": [
    "    # plotting.view_img(texture, cmap=cmap, threshold=0.9,\n",
    "    #                   symmetric_cmap=False, vmax=1.2,\n",
    "    #                   resampling_interpolation='nearest')"
   ]
  },
  {
   "cell_type": "code",
   "execution_count": 10,
   "id": "bf59a169-9366-424f-ace7-a5d989de5ef7",
   "metadata": {},
   "outputs": [],
   "source": [
    "for feature in features:\n",
    "    texture = fill_val(np.zeros_like(ps, dtype='int'), out_dir, sid, [feature])\n",
    "    plotting.plot_img_on_surf(texture, inflate=True,\n",
    "                              threshold=0.1, colorbar=True,\n",
    "                              views=['lateral', 'medial', 'ventral'],\n",
    "                              output_file=f'{figure_dir}/feature/surf/feature-{feature}_view-surf.png')\n",
    "    plotting.plot_glass_brain(texture,\n",
    "                              output_file=f'{figure_dir}/feature/glass/feature-{feature}_view-glass.png')"
   ]
  },
  {
   "cell_type": "code",
   "execution_count": null,
   "id": "2c0542aa-07c4-4c41-a8d8-fac33de28825",
   "metadata": {},
   "outputs": [
    {
     "name": "stdout",
     "output_type": "stream",
     "text": [
      "['joint action', 'communication']\n",
      "['cooperation', 'dominance', 'intimacy', 'valence', 'arousal']\n"
     ]
    }
   ],
   "source": [
    "for category in np.unique(np.array(features_cat)):\n",
    "    filtered_features = [feature for feature, cat in zip(features, features_cat) if cat == category]\n",
    "    print(filtered_features)\n",
    "    texture = fill_val(np.zeros_like(ps, dtype='int'),\n",
    "                       out_dir, sid, filtered_features)\n",
    "    \n",
    "    plotting.plot_img_on_surf(texture, inflate=True,\n",
    "                              threshold=0.1, colorbar=True,\n",
    "                              views=['lateral', 'medial', 'ventral'],\n",
    "                              output_file=f'{figure_dir}/category/surf/category-{category}_view-surf.png')\n",
    "    plotting.plot_glass_brain(texture,\n",
    "                              output_file=f'{figure_dir}/category/glass/category-{category}_view-glass.png')"
   ]
  },
  {
   "cell_type": "code",
   "execution_count": null,
   "id": "52644c54-d43e-4a6d-b8b6-a8b61d83402e",
   "metadata": {},
   "outputs": [],
   "source": [
    "# class mkcmap():\n",
    "#     def __init__(self, val):\n",
    "#         self.colors = val\n",
    "        \n",
    "#     def __call__(self, X):\n",
    "#         if (type(X) is not list) and (type(X) is not np.ndarray):\n",
    "#             return self.colors[int(X)]\n",
    "#         else:\n",
    "#             out = []\n",
    "#             for x in X:\n",
    "#                 out.append(self.colors[int(x)])\n",
    "#             return out\n",
    "\n",
    "# # colors = ['#48D4E1', '#8C55FD', '#FADC00']\n",
    "# colors = [(72, 212, 225, 1),\n",
    "#           (140, 85, 253, 1), \n",
    "#           (250, 220, 0, 1)]\n",
    "# cmap = mkcmap(colors)\n",
    "# cmap(X)"
   ]
  }
 ],
 "metadata": {
  "kernelspec": {
   "display_name": "Python 3 (ipykernel)",
   "language": "python",
   "name": "python3"
  },
  "language_info": {
   "codemirror_mode": {
    "name": "ipython",
    "version": 3
   },
   "file_extension": ".py",
   "mimetype": "text/x-python",
   "name": "python",
   "nbconvert_exporter": "python",
   "pygments_lexer": "ipython3",
   "version": "3.10.0"
  }
 },
 "nbformat": 4,
 "nbformat_minor": 5
}
